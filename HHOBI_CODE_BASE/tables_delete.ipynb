{
 "cells": [
  {
   "cell_type": "code",
   "execution_count": 0,
   "metadata": {
    "application/vnd.databricks.v1+cell": {
     "cellMetadata": {
      "byteLimit": 2048000,
      "implicitDf": true,
      "rowLimit": 10000
     },
     "inputWidgets": {},
     "nuid": "ca34eadc-1429-4458-aabe-40ee9188e7a7",
     "showTitle": false,
     "title": ""
    }
   },
   "outputs": [
    {
     "output_type": "display_data",
     "data": {
      "text/html": [
       "<style scoped>\n",
       "  .table-result-container {\n",
       "    max-height: 300px;\n",
       "    overflow: auto;\n",
       "  }\n",
       "  table, th, td {\n",
       "    border: 1px solid black;\n",
       "    border-collapse: collapse;\n",
       "  }\n",
       "  th, td {\n",
       "    padding: 5px;\n",
       "  }\n",
       "  th {\n",
       "    text-align: left;\n",
       "  }\n",
       "</style><div class='table-result-container'><table class='table-result'><thead style='background-color: white'><tr><th>dataGroupId</th><th>dataFlowGroup</th><th>dataFlowId</th><th>AdditionalDependencyDetails</th><th>dataFlowDescription</th><th>targetLayer</th><th>ingestionType</th><th>sourceFormat</th><th>sourceDetails</th><th>sourceConnectionDetails</th><th>Additional_Source_Configuration</th><th>sourceEncrypted</th><th>sourceEncryptionType</th><th>decryptionDetails</th><th>sourceDataTokenized</th><th>targetFormat</th><th>targetDetails</th><th>targetTokenized</th><th>jobSchedule</th><th>errorHandlingDetails</th><th>failureNotificationMechanism</th><th>failureNotificationMechanismDetails</th><th>lastRunStatusDataFlow</th><th>lastRunStatusDataFlowGroup</th><th>lastRunStatusDataGroup</th><th>isActive</th><th>createDate</th><th>createdBy</th><th>updateDate</th><th>updatedBy</th><th>DLTCompatibility_y_n</th><th>DataFlow_Status</th></tr></thead><tbody><tr><td>A</td><td>A1</td><td>A104</td><td>Map(ColumnName -> NA)</td><td>Move data from oracle to Hhobi intermediate delta table</td><td>Bronze</td><td>Pull</td><td>Volumes</td><td>Map(SourceDatabase -> )</td><td>Map(db -> hhobip, jdbcDriver -> oracle.jdbc.driver.OracleDriver, aws_secret_name -> prod/hhobip, region_name -> us-west-2)</td><td>Map(ColumnName -> NA)</td><td>N</td><td>NA</td><td>Map(ColumnName -> NA)</td><td>Map(ColumnName -> NA)</td><td>Delta Table</td><td>Map(TargetDatabase -> prod_hhobi.hhobi_in)</td><td>N</td><td>Map(Frequency -> Daily, Load_Start_Time -> 13)</td><td>NA</td><td>Email</td><td>Map(FailureDetails -> NA)</td><td>NA</td><td>NA</td><td>NA</td><td>Y</td><td>2022-09-15T13:30:00Z</td><td>hisham</td><td>2022-09-15T13:30:00Z</td><td>Hisham</td><td></td><td>Ready for DLT</td></tr><tr><td>A</td><td>A1</td><td>A103</td><td>Map(dataFlowId -> A102)</td><td>Move data from bronze to silver layer</td><td>Silver</td><td>Pull</td><td>Live Table</td><td>Map(SourceDatabase -> prod_hhobi.hhobi_bronze.)</td><td>Map(SourceDatabase -> prod_hhobi.hhobi_bronze.)</td><td>Map(ColumnName -> NA)</td><td>N</td><td>NA</td><td>Map(ColumnName -> NA)</td><td>Map(ColumnName -> NA)</td><td>Materialised View</td><td>Map(TargetDatabase -> prod_hhobi.hhobi_silver)</td><td>N</td><td>Map(Frequency -> Daily, Load_Start_Time -> 16)</td><td>NA</td><td>Email</td><td>Map(FailureDetails -> NA)</td><td>NA</td><td>NA</td><td>NA</td><td>Y</td><td>2022-09-15T13:30:00Z</td><td>chandan</td><td>2022-09-15T13:30:00Z</td><td>Hisham</td><td></td><td>Ready for DLT</td></tr><tr><td>A</td><td>A1</td><td>A102</td><td>Map(dataFlowId -> A101)</td><td>Move data from intermediate delta layer to bronze layer</td><td>Bronze</td><td>Pull</td><td>Delta Table</td><td>Map(SourceDatabase -> prod_hhobi.hhobi_in.)</td><td>Map(SourceDatabase -> prod_hhobi.hhobi_in.)</td><td>Map(ColumnName -> NA)</td><td>N</td><td>NA</td><td>Map(ColumnName -> NA)</td><td>Map(ColumnName -> NA)</td><td>Streaming Table</td><td>Map(TargetDatabase -> prod_hhobi.hhobi_bronze)</td><td>N</td><td>Map(Frequency -> Daily, Load_Start_Time -> 16)</td><td>NA</td><td>Email</td><td>Map(FailureDetails -> NA)</td><td>NA</td><td>NA</td><td>NA</td><td>Y</td><td>2024-02-22T13:30:00Z</td><td>Bhargavi</td><td>2024-02-23T13:30:00Z</td><td>Hisham</td><td></td><td>Ready for DLT</td></tr><tr><td>A</td><td>A1</td><td>A101</td><td>Map(ColumnName -> NA)</td><td>Move data from oracle to Hhobi intermediate delta table</td><td>Raw</td><td>Pull</td><td>Oracle DB</td><td>Map(SourceDatabase -> )</td><td>Map(db -> hhobip, jdbcDriver -> oracle.jdbc.driver.OracleDriver, aws_secret_name -> prod/hhobip, region_name -> us-west-2)</td><td>Map(ColumnName -> NA)</td><td>N</td><td>NA</td><td>Map(ColumnName -> NA)</td><td>Map(ColumnName -> NA)</td><td>Delta Table</td><td>Map(TargetDatabase -> prod_hhobi.hhobi_in)</td><td>N</td><td>Map(Frequency -> Daily, Load_Start_Time -> 16)</td><td>NA</td><td>Email</td><td>Map(FailureDetails -> NA)</td><td>NA</td><td>NA</td><td>NA</td><td>Y</td><td>2022-09-15T13:30:00Z</td><td>chandan</td><td>2022-09-15T13:30:00Z</td><td>Hisham</td><td></td><td></td></tr></tbody></table></div>"
      ]
     },
     "metadata": {
      "application/vnd.databricks.v1+output": {
       "addedWidgets": {},
       "aggData": [],
       "aggError": "",
       "aggOverflow": false,
       "aggSchema": [],
       "aggSeriesLimitReached": false,
       "aggType": "",
       "arguments": {},
       "columnCustomDisplayInfos": {},
       "data": [
        [
         "A",
         "A1",
         "A104",
         {
          "ColumnName": "NA"
         },
         "Move data from oracle to Hhobi intermediate delta table",
         "Bronze",
         "Pull",
         "Volumes",
         {
          "SourceDatabase": ""
         },
         {
          "aws_secret_name": "prod/hhobip",
          "db": "hhobip",
          "jdbcDriver": "oracle.jdbc.driver.OracleDriver",
          "region_name": "us-west-2"
         },
         {
          "ColumnName": "NA"
         },
         "N",
         "NA",
         {
          "ColumnName": "NA"
         },
         {
          "ColumnName": "NA"
         },
         "Delta Table",
         {
          "TargetDatabase": "prod_hhobi.hhobi_in"
         },
         "N",
         {
          "Frequency": "Daily",
          "Load_Start_Time": "13"
         },
         "NA",
         "Email",
         {
          "FailureDetails": "NA"
         },
         "NA",
         "NA",
         "NA",
         "Y",
         "2022-09-15T13:30:00Z",
         "hisham",
         "2022-09-15T13:30:00Z",
         "Hisham",
         "",
         "Ready for DLT"
        ],
        [
         "A",
         "A1",
         "A103",
         {
          "dataFlowId": "A102"
         },
         "Move data from bronze to silver layer",
         "Silver",
         "Pull",
         "Live Table",
         {
          "SourceDatabase": "prod_hhobi.hhobi_bronze."
         },
         {
          "SourceDatabase": "prod_hhobi.hhobi_bronze."
         },
         {
          "ColumnName": "NA"
         },
         "N",
         "NA",
         {
          "ColumnName": "NA"
         },
         {
          "ColumnName": "NA"
         },
         "Materialised View",
         {
          "TargetDatabase": "prod_hhobi.hhobi_silver"
         },
         "N",
         {
          "Frequency": "Daily",
          "Load_Start_Time": "16"
         },
         "NA",
         "Email",
         {
          "FailureDetails": "NA"
         },
         "NA",
         "NA",
         "NA",
         "Y",
         "2022-09-15T13:30:00Z",
         "chandan",
         "2022-09-15T13:30:00Z",
         "Hisham",
         "",
         "Ready for DLT"
        ],
        [
         "A",
         "A1",
         "A102",
         {
          "dataFlowId": "A101"
         },
         "Move data from intermediate delta layer to bronze layer",
         "Bronze",
         "Pull",
         "Delta Table",
         {
          "SourceDatabase": "prod_hhobi.hhobi_in."
         },
         {
          "SourceDatabase": "prod_hhobi.hhobi_in."
         },
         {
          "ColumnName": "NA"
         },
         "N",
         "NA",
         {
          "ColumnName": "NA"
         },
         {
          "ColumnName": "NA"
         },
         "Streaming Table",
         {
          "TargetDatabase": "prod_hhobi.hhobi_bronze"
         },
         "N",
         {
          "Frequency": "Daily",
          "Load_Start_Time": "16"
         },
         "NA",
         "Email",
         {
          "FailureDetails": "NA"
         },
         "NA",
         "NA",
         "NA",
         "Y",
         "2024-02-22T13:30:00Z",
         "Bhargavi",
         "2024-02-23T13:30:00Z",
         "Hisham",
         "",
         "Ready for DLT"
        ],
        [
         "A",
         "A1",
         "A101",
         {
          "ColumnName": "NA"
         },
         "Move data from oracle to Hhobi intermediate delta table",
         "Raw",
         "Pull",
         "Oracle DB",
         {
          "SourceDatabase": ""
         },
         {
          "aws_secret_name": "prod/hhobip",
          "db": "hhobip",
          "jdbcDriver": "oracle.jdbc.driver.OracleDriver",
          "region_name": "us-west-2"
         },
         {
          "ColumnName": "NA"
         },
         "N",
         "NA",
         {
          "ColumnName": "NA"
         },
         {
          "ColumnName": "NA"
         },
         "Delta Table",
         {
          "TargetDatabase": "prod_hhobi.hhobi_in"
         },
         "N",
         {
          "Frequency": "Daily",
          "Load_Start_Time": "16"
         },
         "NA",
         "Email",
         {
          "FailureDetails": "NA"
         },
         "NA",
         "NA",
         "NA",
         "Y",
         "2022-09-15T13:30:00Z",
         "chandan",
         "2022-09-15T13:30:00Z",
         "Hisham",
         "",
         ""
        ]
       ],
       "datasetInfos": [
        {
         "name": "_sqldf",
         "schema": {
          "fields": [
           {
            "metadata": {},
            "name": "dataGroupId",
            "nullable": true,
            "type": "string"
           },
           {
            "metadata": {},
            "name": "dataFlowGroup",
            "nullable": true,
            "type": "string"
           },
           {
            "metadata": {},
            "name": "dataFlowId",
            "nullable": true,
            "type": "string"
           },
           {
            "metadata": {},
            "name": "AdditionalDependencyDetails",
            "nullable": true,
            "type": {
             "keyType": "string",
             "type": "map",
             "valueContainsNull": true,
             "valueType": "string"
            }
           },
           {
            "metadata": {},
            "name": "dataFlowDescription",
            "nullable": true,
            "type": "string"
           },
           {
            "metadata": {},
            "name": "targetLayer",
            "nullable": true,
            "type": "string"
           },
           {
            "metadata": {},
            "name": "ingestionType",
            "nullable": true,
            "type": "string"
           },
           {
            "metadata": {},
            "name": "sourceFormat",
            "nullable": true,
            "type": "string"
           },
           {
            "metadata": {},
            "name": "sourceDetails",
            "nullable": true,
            "type": {
             "keyType": "string",
             "type": "map",
             "valueContainsNull": true,
             "valueType": "string"
            }
           },
           {
            "metadata": {},
            "name": "sourceConnectionDetails",
            "nullable": true,
            "type": {
             "keyType": "string",
             "type": "map",
             "valueContainsNull": true,
             "valueType": "string"
            }
           },
           {
            "metadata": {},
            "name": "Additional_Source_Configuration",
            "nullable": true,
            "type": {
             "keyType": "string",
             "type": "map",
             "valueContainsNull": true,
             "valueType": "string"
            }
           },
           {
            "metadata": {},
            "name": "sourceEncrypted",
            "nullable": true,
            "type": "string"
           },
           {
            "metadata": {},
            "name": "sourceEncryptionType",
            "nullable": true,
            "type": "string"
           },
           {
            "metadata": {},
            "name": "decryptionDetails",
            "nullable": true,
            "type": {
             "keyType": "string",
             "type": "map",
             "valueContainsNull": true,
             "valueType": "string"
            }
           },
           {
            "metadata": {},
            "name": "sourceDataTokenized",
            "nullable": true,
            "type": {
             "keyType": "string",
             "type": "map",
             "valueContainsNull": true,
             "valueType": "string"
            }
           },
           {
            "metadata": {},
            "name": "targetFormat",
            "nullable": true,
            "type": "string"
           },
           {
            "metadata": {},
            "name": "targetDetails",
            "nullable": true,
            "type": {
             "keyType": "string",
             "type": "map",
             "valueContainsNull": true,
             "valueType": "string"
            }
           },
           {
            "metadata": {},
            "name": "targetTokenized",
            "nullable": true,
            "type": "string"
           },
           {
            "metadata": {},
            "name": "jobSchedule",
            "nullable": true,
            "type": {
             "keyType": "string",
             "type": "map",
             "valueContainsNull": true,
             "valueType": "string"
            }
           },
           {
            "metadata": {},
            "name": "errorHandlingDetails",
            "nullable": true,
            "type": "string"
           },
           {
            "metadata": {},
            "name": "failureNotificationMechanism",
            "nullable": true,
            "type": "string"
           },
           {
            "metadata": {},
            "name": "failureNotificationMechanismDetails",
            "nullable": true,
            "type": {
             "keyType": "string",
             "type": "map",
             "valueContainsNull": true,
             "valueType": "string"
            }
           },
           {
            "metadata": {},
            "name": "lastRunStatusDataFlow",
            "nullable": true,
            "type": "string"
           },
           {
            "metadata": {},
            "name": "lastRunStatusDataFlowGroup",
            "nullable": true,
            "type": "string"
           },
           {
            "metadata": {},
            "name": "lastRunStatusDataGroup",
            "nullable": true,
            "type": "string"
           },
           {
            "metadata": {},
            "name": "isActive",
            "nullable": true,
            "type": "string"
           },
           {
            "metadata": {},
            "name": "createDate",
            "nullable": true,
            "type": "timestamp"
           },
           {
            "metadata": {},
            "name": "createdBy",
            "nullable": true,
            "type": "string"
           },
           {
            "metadata": {},
            "name": "updateDate",
            "nullable": true,
            "type": "timestamp"
           },
           {
            "metadata": {},
            "name": "updatedBy",
            "nullable": true,
            "type": "string"
           },
           {
            "metadata": {},
            "name": "DLTCompatibility_y_n",
            "nullable": true,
            "type": "string"
           },
           {
            "metadata": {},
            "name": "DataFlow_Status",
            "nullable": true,
            "type": "string"
           }
          ],
          "type": "struct"
         },
         "tableIdentifier": null,
         "typeStr": "pyspark.sql.connect.dataframe.DataFrame"
        }
       ],
       "dbfsResultPath": null,
       "isJsonSchema": true,
       "metadata": {
        "dataframeName": "_sqldf",
        "executionCount": 3
       },
       "overflow": false,
       "plotOptions": {
        "customPlotOptions": {},
        "displayType": "table",
        "pivotAggregation": null,
        "pivotColumns": null,
        "xColumns": null,
        "yColumns": null
       },
       "removedWidgets": [],
       "schema": [
        {
         "metadata": "{}",
         "name": "dataGroupId",
         "type": "\"string\""
        },
        {
         "metadata": "{}",
         "name": "dataFlowGroup",
         "type": "\"string\""
        },
        {
         "metadata": "{}",
         "name": "dataFlowId",
         "type": "\"string\""
        },
        {
         "metadata": "{}",
         "name": "AdditionalDependencyDetails",
         "type": "{\"type\":\"map\",\"keyType\":\"string\",\"valueType\":\"string\",\"valueContainsNull\":true}"
        },
        {
         "metadata": "{}",
         "name": "dataFlowDescription",
         "type": "\"string\""
        },
        {
         "metadata": "{}",
         "name": "targetLayer",
         "type": "\"string\""
        },
        {
         "metadata": "{}",
         "name": "ingestionType",
         "type": "\"string\""
        },
        {
         "metadata": "{}",
         "name": "sourceFormat",
         "type": "\"string\""
        },
        {
         "metadata": "{}",
         "name": "sourceDetails",
         "type": "{\"type\":\"map\",\"keyType\":\"string\",\"valueType\":\"string\",\"valueContainsNull\":true}"
        },
        {
         "metadata": "{}",
         "name": "sourceConnectionDetails",
         "type": "{\"type\":\"map\",\"keyType\":\"string\",\"valueType\":\"string\",\"valueContainsNull\":true}"
        },
        {
         "metadata": "{}",
         "name": "Additional_Source_Configuration",
         "type": "{\"type\":\"map\",\"keyType\":\"string\",\"valueType\":\"string\",\"valueContainsNull\":true}"
        },
        {
         "metadata": "{}",
         "name": "sourceEncrypted",
         "type": "\"string\""
        },
        {
         "metadata": "{}",
         "name": "sourceEncryptionType",
         "type": "\"string\""
        },
        {
         "metadata": "{}",
         "name": "decryptionDetails",
         "type": "{\"type\":\"map\",\"keyType\":\"string\",\"valueType\":\"string\",\"valueContainsNull\":true}"
        },
        {
         "metadata": "{}",
         "name": "sourceDataTokenized",
         "type": "{\"type\":\"map\",\"keyType\":\"string\",\"valueType\":\"string\",\"valueContainsNull\":true}"
        },
        {
         "metadata": "{}",
         "name": "targetFormat",
         "type": "\"string\""
        },
        {
         "metadata": "{}",
         "name": "targetDetails",
         "type": "{\"type\":\"map\",\"keyType\":\"string\",\"valueType\":\"string\",\"valueContainsNull\":true}"
        },
        {
         "metadata": "{}",
         "name": "targetTokenized",
         "type": "\"string\""
        },
        {
         "metadata": "{}",
         "name": "jobSchedule",
         "type": "{\"type\":\"map\",\"keyType\":\"string\",\"valueType\":\"string\",\"valueContainsNull\":true}"
        },
        {
         "metadata": "{}",
         "name": "errorHandlingDetails",
         "type": "\"string\""
        },
        {
         "metadata": "{}",
         "name": "failureNotificationMechanism",
         "type": "\"string\""
        },
        {
         "metadata": "{}",
         "name": "failureNotificationMechanismDetails",
         "type": "{\"type\":\"map\",\"keyType\":\"string\",\"valueType\":\"string\",\"valueContainsNull\":true}"
        },
        {
         "metadata": "{}",
         "name": "lastRunStatusDataFlow",
         "type": "\"string\""
        },
        {
         "metadata": "{}",
         "name": "lastRunStatusDataFlowGroup",
         "type": "\"string\""
        },
        {
         "metadata": "{}",
         "name": "lastRunStatusDataGroup",
         "type": "\"string\""
        },
        {
         "metadata": "{}",
         "name": "isActive",
         "type": "\"string\""
        },
        {
         "metadata": "{}",
         "name": "createDate",
         "type": "\"timestamp\""
        },
        {
         "metadata": "{}",
         "name": "createdBy",
         "type": "\"string\""
        },
        {
         "metadata": "{}",
         "name": "updateDate",
         "type": "\"timestamp\""
        },
        {
         "metadata": "{}",
         "name": "updatedBy",
         "type": "\"string\""
        },
        {
         "metadata": "{}",
         "name": "DLTCompatibility_y_n",
         "type": "\"string\""
        },
        {
         "metadata": "{}",
         "name": "DataFlow_Status",
         "type": "\"string\""
        }
       ],
       "type": "table"
      }
     },
     "output_type": "display_data"
    }
   ],
   "source": [
    "%sql\n",
    "select * from prod_hhobi.hhobi_audit.ingestion_load_control_table"
   ]
  },
  {
   "cell_type": "code",
   "execution_count": 0,
   "metadata": {
    "application/vnd.databricks.v1+cell": {
     "cellMetadata": {
      "byteLimit": 2048000,
      "implicitDf": true,
      "rowLimit": 10000
     },
     "inputWidgets": {},
     "nuid": "3ee5ee38-2f9c-40cd-acce-e5aa169c14f4",
     "showTitle": false,
     "title": ""
    }
   },
   "outputs": [
    {
     "output_type": "display_data",
     "data": {
      "text/html": [
       "<style scoped>\n",
       "  .table-result-container {\n",
       "    max-height: 300px;\n",
       "    overflow: auto;\n",
       "  }\n",
       "  table, th, td {\n",
       "    border: 1px solid black;\n",
       "    border-collapse: collapse;\n",
       "  }\n",
       "  th, td {\n",
       "    padding: 5px;\n",
       "  }\n",
       "  th {\n",
       "    text-align: left;\n",
       "  }\n",
       "</style><div class='table-result-container'><table class='table-result'><thead style='background-color: white'><tr><th>createtab_stmt</th></tr></thead><tbody><tr><td>CREATE TABLE prod_hhobi.hhobi_audit.ingestion_load_control_table (\n",
       "  dataGroupId STRING,\n",
       "  dataFlowGroup STRING,\n",
       "  dataFlowId STRING,\n",
       "  AdditionalDependencyDetails MAP<STRING, STRING>,\n",
       "  dataFlowDescription STRING,\n",
       "  targetLayer STRING,\n",
       "  ingestionType STRING,\n",
       "  sourceFormat STRING,\n",
       "  sourceDetails MAP<STRING, STRING>,\n",
       "  sourceConnectionDetails MAP<STRING, STRING>,\n",
       "  Additional_Source_Configuration MAP<STRING, STRING>,\n",
       "  sourceEncrypted STRING,\n",
       "  sourceEncryptionType STRING,\n",
       "  decryptionDetails MAP<STRING, STRING>,\n",
       "  sourceDataTokenized MAP<STRING, STRING>,\n",
       "  targetFormat STRING,\n",
       "  targetDetails MAP<STRING, STRING>,\n",
       "  targetTokenized STRING,\n",
       "  jobSchedule MAP<STRING, STRING>,\n",
       "  errorHandlingDetails STRING,\n",
       "  failureNotificationMechanism STRING,\n",
       "  failureNotificationMechanismDetails MAP<STRING, STRING>,\n",
       "  lastRunStatusDataFlow STRING,\n",
       "  lastRunStatusDataFlowGroup STRING,\n",
       "  lastRunStatusDataGroup STRING,\n",
       "  isActive STRING,\n",
       "  createDate TIMESTAMP,\n",
       "  createdBy STRING,\n",
       "  updateDate TIMESTAMP,\n",
       "  updatedBy STRING,\n",
       "  DLTCompatibility_y_n STRING,\n",
       "  DataFlow_Status STRING)\n",
       "USING delta\n",
       "TBLPROPERTIES (\n",
       "  'delta.enableDeletionVectors' = 'true',\n",
       "  'delta.feature.deletionVectors' = 'supported',\n",
       "  'delta.minReaderVersion' = '3',\n",
       "  'delta.minWriterVersion' = '7')\n",
       "</td></tr></tbody></table></div>"
      ]
     },
     "metadata": {
      "application/vnd.databricks.v1+output": {
       "addedWidgets": {},
       "aggData": [],
       "aggError": "",
       "aggOverflow": false,
       "aggSchema": [],
       "aggSeriesLimitReached": false,
       "aggType": "",
       "arguments": {},
       "columnCustomDisplayInfos": {},
       "data": [
        [
         "CREATE TABLE prod_hhobi.hhobi_audit.ingestion_load_control_table (\n  dataGroupId STRING,\n  dataFlowGroup STRING,\n  dataFlowId STRING,\n  AdditionalDependencyDetails MAP<STRING, STRING>,\n  dataFlowDescription STRING,\n  targetLayer STRING,\n  ingestionType STRING,\n  sourceFormat STRING,\n  sourceDetails MAP<STRING, STRING>,\n  sourceConnectionDetails MAP<STRING, STRING>,\n  Additional_Source_Configuration MAP<STRING, STRING>,\n  sourceEncrypted STRING,\n  sourceEncryptionType STRING,\n  decryptionDetails MAP<STRING, STRING>,\n  sourceDataTokenized MAP<STRING, STRING>,\n  targetFormat STRING,\n  targetDetails MAP<STRING, STRING>,\n  targetTokenized STRING,\n  jobSchedule MAP<STRING, STRING>,\n  errorHandlingDetails STRING,\n  failureNotificationMechanism STRING,\n  failureNotificationMechanismDetails MAP<STRING, STRING>,\n  lastRunStatusDataFlow STRING,\n  lastRunStatusDataFlowGroup STRING,\n  lastRunStatusDataGroup STRING,\n  isActive STRING,\n  createDate TIMESTAMP,\n  createdBy STRING,\n  updateDate TIMESTAMP,\n  updatedBy STRING,\n  DLTCompatibility_y_n STRING,\n  DataFlow_Status STRING)\nUSING delta\nTBLPROPERTIES (\n  'delta.enableDeletionVectors' = 'true',\n  'delta.feature.deletionVectors' = 'supported',\n  'delta.minReaderVersion' = '3',\n  'delta.minWriterVersion' = '7')\n"
        ]
       ],
       "datasetInfos": [
        {
         "name": "_sqldf",
         "schema": {
          "fields": [
           {
            "metadata": {},
            "name": "createtab_stmt",
            "nullable": false,
            "type": "string"
           }
          ],
          "type": "struct"
         },
         "tableIdentifier": null,
         "typeStr": "pyspark.sql.connect.dataframe.DataFrame"
        }
       ],
       "dbfsResultPath": null,
       "isJsonSchema": true,
       "metadata": {
        "dataframeName": "_sqldf",
        "executionCount": 4
       },
       "overflow": false,
       "plotOptions": {
        "customPlotOptions": {},
        "displayType": "table",
        "pivotAggregation": null,
        "pivotColumns": null,
        "xColumns": null,
        "yColumns": null
       },
       "removedWidgets": [],
       "schema": [
        {
         "metadata": "{}",
         "name": "createtab_stmt",
         "type": "\"string\""
        }
       ],
       "type": "table"
      }
     },
     "output_type": "display_data"
    }
   ],
   "source": [
    "%sql\n",
    "show create table prod_hhobi.hhobi_audit.ingestion_load_control_table"
   ]
  },
  {
   "cell_type": "code",
   "execution_count": 0,
   "metadata": {
    "application/vnd.databricks.v1+cell": {
     "cellMetadata": {
      "byteLimit": 2048000,
      "implicitDf": true,
      "rowLimit": 10000
     },
     "inputWidgets": {},
     "nuid": "6f93d2c7-4610-459b-945b-ade6a9ebf1da",
     "showTitle": false,
     "title": ""
    }
   },
   "outputs": [
    {
     "output_type": "display_data",
     "data": {
      "text/html": [
       "<style scoped>\n",
       "  .table-result-container {\n",
       "    max-height: 300px;\n",
       "    overflow: auto;\n",
       "  }\n",
       "  table, th, td {\n",
       "    border: 1px solid black;\n",
       "    border-collapse: collapse;\n",
       "  }\n",
       "  th, td {\n",
       "    padding: 5px;\n",
       "  }\n",
       "  th {\n",
       "    text-align: left;\n",
       "  }\n",
       "</style><div class='table-result-container'><table class='table-result'><thead style='background-color: white'><tr><th>dataFlowFK</th><th>JobId</th><th>targetTablename</th><th>loadDependency</th><th>primaryKey</th><th>tableProperties</th><th>tableSchema</th><th>partitionColumns</th><th>SourceTableName</th><th>loadLogic</th><th>AdditionalConfiguration</th><th>loadType</th><th>cdcLogic</th><th>cdcConfiguration</th><th>DetokenizationToeknizationFlag</th><th>Tokenizationdetails</th><th>Detokenization_details</th><th>isActive</th><th>archivalPolicyDays</th><th>vacuumPolicy_Weeks</th><th>errorHandling</th><th>StatusTas</th><th>splitLoad</th><th>splitLoadConfigurations</th><th>status</th><th>volume_details</th><th>encrypted_col</th><th>native_encryption_flag</th><th>native_encryption_columns</th></tr></thead><tbody><tr><td>A-A1-A101</td><td>53</td><td>prod_hhobi.hhobi_in.IA_HP_AGENTS</td><td>null</td><td>NA</td><td>Map(tablesize -> small, fetchsize -> 10000)</td><td>NA</td><td>List(NA)</td><td>BIDW.IA_HP_AGENTS</td><td>NA</td><td></td><td>Full Refresh</td><td>overwrite</td><td>Map(ColumnName -> IA_UPDATE_DT, Delta -> 3, cdcCondition -> (IA_UPDATE_DT>= to_date({}, 'YYYY-MM-DD HH24:MI:SS') or IA_INSERT_DT>= to_date({}, 'YYYY-MM-DD HH24:MI:SS')))</td><td>NA</td><td>Map(ColumnName -> NA)</td><td>Map(ColumnName -> NA)</td><td>Y</td><td>NA</td><td>NA</td><td>NA</td><td>NA</td><td>N</td><td>Map(recurrence -> monthly, splitColumn -> IA_UPDATE_DT)</td><td>Completed</td><td>null</td><td>null</td><td>null</td><td>null</td></tr><tr><td>A-A1-A101</td><td>22</td><td>prod_hhobi.hhobi_in.IA_HP_GIFT_CARD</td><td>18</td><td>GIFT_CARD_KEY</td><td>Map(tablesize -> small, fetchsize -> 100000)</td><td>NA</td><td>List(NA)</td><td>BIDW.IA_HP_GIFT_CARD</td><td>NA</td><td></td><td>Incremental</td><td>merge</td><td>Map(ColumnName -> IA_UPDATE_DT, Delta -> 3, cdcCondition -> (IA_UPDATE_DT>= to_date({}, 'YYYY-MM-DD HH24:MI:SS') or IA_INSERT_DT>= to_date({}, 'YYYY-MM-DD HH24:MI:SS')))</td><td>NA</td><td>Map(ColumnName -> NA)</td><td>Map(ColumnName -> NA)</td><td>Y</td><td>NA</td><td>NA</td><td>NA</td><td>NA</td><td>N</td><td>Map(recurrence -> monthly, splitColumn -> IA_UPDATE_DT)</td><td>Completed</td><td>null</td><td>null</td><td>null</td><td>null</td></tr><tr><td>A-A1-A101</td><td>20</td><td>prod_hhobi.hhobi_in.IA_HP_GIFT_CARD_TYPE</td><td>16</td><td>GIFT_CARD_TYPE_KEY</td><td>Map(tablesize -> small, fetchsize -> 100000)</td><td>NA</td><td>List(NA)</td><td>BIDW.IA_HP_GIFT_CARD_TYPE</td><td>NA</td><td></td><td>Incremental</td><td>merge</td><td>Map(ColumnName -> IA_UPDATE_DT, Delta -> 3, cdcCondition -> (IA_UPDATE_DT>= to_date({}, 'YYYY-MM-DD HH24:MI:SS') or IA_INSERT_DT>= to_date({}, 'YYYY-MM-DD HH24:MI:SS')))</td><td>NA</td><td>Map(ColumnName -> NA)</td><td>Map(ColumnName -> NA)</td><td>Y</td><td>NA</td><td>NA</td><td>NA</td><td>NA</td><td>N</td><td>Map(recurrence -> monthly, splitColumn -> IA_UPDATE_DT)</td><td>Completed</td><td>null</td><td>null</td><td>null</td><td>null</td></tr><tr><td>A-A1-A101</td><td>50</td><td>prod_hhobi.hhobi_in.IA_HP_LOYALTY_EARNED_POINTS</td><td>15</td><td>LDATA_ID</td><td>Map(tablesize -> small, fetchsize -> 100000)</td><td>NA</td><td>List(NA)</td><td>BIDW.IA_HP_LOYALTY_EARNED_POINTS</td><td>NA</td><td></td><td>Incremental</td><td>merge</td><td>Map(ColumnName -> IA_UPADTE_DT, Delta -> 3, cdcCondition -> (IA_UPADTE_DT>= to_date({}, 'YYYY-MM-DD HH24:MI:SS') or IA_INSERT_DT>= to_date({}, 'YYYY-MM-DD HH24:MI:SS')))</td><td>NA</td><td>Map(ColumnName -> NA)</td><td>Map(ColumnName -> NA)</td><td>Y</td><td>NA</td><td>NA</td><td>NA</td><td>NA</td><td>N</td><td>Map(recurrence -> monthly, splitColumn -> IA_UPDATE_DT)</td><td>Completed</td><td>null</td><td>null</td><td>null</td><td>null</td></tr><tr><td>A-A1-A101</td><td>19</td><td>prod_hhobi.hhobi_in.IA_HP_GIFT_CARD_STATUS_CODE</td><td>15</td><td>GIFT_CARD_STATUS_CODE_KEY</td><td>Map(tablesize -> small, fetchsize -> 100000)</td><td>NA</td><td>List(NA)</td><td>BIDW.IA_HP_GIFT_CARD_STATUS_CODE</td><td>NA</td><td></td><td>Incremental</td><td>merge</td><td>Map(ColumnName -> IA_UPDATE_DT, Delta -> 3, cdcCondition -> (IA_UPDATE_DT>= to_date({}, 'YYYY-MM-DD HH24:MI:SS') or IA_INSERT_DT>= to_date({}, 'YYYY-MM-DD HH24:MI:SS')))</td><td>NA</td><td>Map(ColumnName -> NA)</td><td>Map(ColumnName -> NA)</td><td>Y</td><td>NA</td><td>NA</td><td>NA</td><td>NA</td><td>N</td><td>Map(recurrence -> monthly, splitColumn -> IA_UPDATE_DT)</td><td>Completed</td><td>null</td><td>null</td><td>null</td><td>null</td></tr><tr><td>A-A1-A101</td><td>21</td><td>prod_hhobi.hhobi_in.IA_HP_GIFT_CARD_ACTIVITY_CODE</td><td>17</td><td>GIFT_CARD_ACTIVITY_CODE_KEY</td><td>Map(tablesize -> small, fetchsize -> 100000)</td><td>NA</td><td>List(NA)</td><td>BIDW.IA_HP_GIFT_CARD_ACTIVITY_CODE</td><td>NA</td><td></td><td>Incremental</td><td>merge</td><td>Map(ColumnName -> IA_UPDATE_DT, Delta -> 3, cdcCondition -> (IA_UPDATE_DT>= to_date({}, 'YYYY-MM-DD HH24:MI:SS') or IA_INSERT_DT>= to_date({}, 'YYYY-MM-DD HH24:MI:SS')))</td><td>NA</td><td>Map(ColumnName -> NA)</td><td>Map(ColumnName -> NA)</td><td>Y</td><td>NA</td><td>NA</td><td>NA</td><td>NA</td><td>N</td><td>Map(recurrence -> monthly, splitColumn -> IA_UPDATE_DT)</td><td>Completed</td><td>null</td><td>null</td><td>null</td><td>null</td></tr><tr><td>A-A1-A101</td><td>16</td><td>prod_hhobi.hhobi_in.IA_STATUS</td><td>14</td><td>STATUS_KEY</td><td>Map(tablesize -> small, fetchsize -> 100000)</td><td>NA</td><td>List(NA)</td><td>BIDW.IA_STATUS</td><td>NA</td><td></td><td>Incremental</td><td>merge</td><td>Map(ColumnName -> IA_UPDATE_DT, Delta -> 3, cdcCondition -> (IA_UPDATE_DT>= to_date({}, 'YYYY-MM-DD HH24:MI:SS') or IA_INSERT_DT>= to_date({}, 'YYYY-MM-DD HH24:MI:SS')))</td><td>NA</td><td>Map(ColumnName -> NA)</td><td>Map(ColumnName -> NA)</td><td>Y</td><td>NA</td><td>NA</td><td>NA</td><td>NA</td><td>N</td><td>Map(recurrence -> monthly, splitColumn -> IA_UPDATE_DT)</td><td>Completed</td><td>null</td><td>null</td><td>null</td><td>null</td></tr><tr><td>A-A1-A101</td><td>15</td><td>prod_hhobi.hhobi_in.IA_QUOTE</td><td>14</td><td>ORDERS_ID</td><td>Map(tablesize -> small, fetchsize -> 100000)</td><td>NA</td><td>List(NA)</td><td>BIDW.IA_QUOTE</td><td>NA</td><td></td><td>Incremental</td><td>merge</td><td>Map(ColumnName -> IA_UPDATE_DT, Delta -> 3, cdcCondition -> (IA_UPDATE_DT>= to_date({}, 'YYYY-MM-DD HH24:MI:SS') or IA_INSERT_DT>= to_date({}, 'YYYY-MM-DD HH24:MI:SS')))</td><td>Y</td><td>Map(FIELD3 -> email)</td><td>Map(ColumnName -> NA)</td><td>Y</td><td>NA</td><td>NA</td><td>NA</td><td>NA</td><td>N</td><td>Map(recurrence -> monthly, splitColumn -> IA_UPDATE_DT)</td><td>Completed</td><td>null</td><td>null</td><td>Y</td><td>FIELD3</td></tr><tr><td>A-A1-A101</td><td>18</td><td>prod_hhobi.hhobi_in.IA_BUSN_LOCS</td><td>14</td><td>BUSN_LOC_KEY</td><td>Map(tablesize -> small, fetchsize -> 100000)</td><td>NA</td><td>List(NA)</td><td>BIDW.IA_BUSN_LOCS</td><td>NA</td><td></td><td>Incremental</td><td>merge</td><td>Map(ColumnName -> IA_UPDATE_DT, Delta -> 3, cdcCondition -> (IA_UPDATE_DT>= to_date({}, 'YYYY-MM-DD HH24:MI:SS') or IA_INSERT_DT>= to_date({}, 'YYYY-MM-DD HH24:MI:SS')))</td><td>NA</td><td>Map(ColumnName -> NA)</td><td>Map(ColumnName -> NA)</td><td>Y</td><td>NA</td><td>NA</td><td>NA</td><td>NA</td><td>N</td><td>Map(recurrence -> monthly, splitColumn -> IA_UPDATE_DT)</td><td>Completed</td><td>null</td><td>null</td><td>null</td><td>null</td></tr><tr><td>A-A1-A101</td><td>14</td><td>prod_hhobi.hhobi_in.IA_ORDERS_QUOTE</td><td>13</td><td>ORDERS_ID</td><td>Map(tablesize -> small, fetchsize -> 100000)</td><td>NA</td><td>List(NA)</td><td>BIDW.IA_ORDERS_QUOTE</td><td>NA</td><td></td><td>Incremental</td><td>merge</td><td>Map(ColumnName -> IA_UPDATE_DT, Delta -> 3, cdcCondition -> (IA_UPDATE_DT>= to_date({}, 'YYYY-MM-DD HH24:MI:SS') or IA_INSERT_DT>= to_date({}, 'YYYY-MM-DD HH24:MI:SS')))</td><td>NA</td><td>Map(ColumnName -> NA)</td><td>Map(ColumnName -> NA)</td><td>Y</td><td>NA</td><td>NA</td><td>NA</td><td>NA</td><td>N</td><td>Map(recurrence -> monthly, splitColumn -> IA_UPDATE_DT)</td><td>Completed</td><td>null</td><td>null</td><td>null</td><td>null</td></tr><tr><td>A-A1-A101</td><td>17</td><td>prod_hhobi.hhobi_in.IA_XACT_TYPES</td><td>14</td><td>XACT_TYPE_KEY</td><td>Map(tablesize -> small, fetchsize -> 100000)</td><td>NA</td><td>List(NA)</td><td>BIDW.IA_XACT_TYPES</td><td>NA</td><td></td><td>Incremental</td><td>merge</td><td>Map(ColumnName -> IA_UPDATE_DT, Delta -> 3, cdcCondition -> (IA_UPDATE_DT>= to_date({}, 'YYYY-MM-DD HH24:MI:SS') or IA_INSERT_DT>= to_date({}, 'YYYY-MM-DD HH24:MI:SS')))</td><td>NA</td><td>Map(ColumnName -> NA)</td><td>Map(ColumnName -> NA)</td><td>Y</td><td>NA</td><td>NA</td><td>NA</td><td>NA</td><td>N</td><td>Map(recurrence -> monthly, splitColumn -> IA_UPDATE_DT)</td><td>Completed</td><td>null</td><td>null</td><td>null</td><td>null</td></tr><tr><td>A-A1-A101</td><td>13</td><td>prod_hhobi.hhobi_in.IA_PRODUCTS</td><td>9,10,11,12</td><td>PRODUCT_KEY</td><td>Map(tablesize -> small, fetchsize -> 100000)</td><td>NA</td><td>List(NA)</td><td>BIDW.IA_PRODUCTS</td><td>NA</td><td></td><td>Incremental</td><td>merge</td><td>Map(ColumnName -> IA_UPDATE_DT, Delta -> 3, cdcCondition -> (IA_UPDATE_DT>= to_date({}, 'YYYY-MM-DD HH24:MI:SS') or IA_INSERT_DT>= to_date({}, 'YYYY-MM-DD HH24:MI:SS')))</td><td>NA</td><td>Map(ColumnName -> NA)</td><td>Map(ColumnName -> NA)</td><td>Y</td><td>NA</td><td>NA</td><td>NA</td><td>NA</td><td>N</td><td>Map(recurrence -> monthly, splitColumn -> IA_UPDATE_DT)</td><td>Completed</td><td>null</td><td>null</td><td>null</td><td>null</td></tr><tr><td>A-A1-A101</td><td>11</td><td>prod_hhobi.hhobi_in.IA_BUSN_ORGS</td><td>8</td><td>BUSN_ORG_KEY</td><td>Map(tablesize -> small, fetchsize -> 100000)</td><td>NA</td><td>List(NA)</td><td>BIDW.IA_BUSN_ORGS</td><td>NA</td><td></td><td>Incremental</td><td>merge</td><td>Map(ColumnName -> IA_UPDATE_DT, Delta -> 3, cdcCondition -> (IA_UPDATE_DT>= to_date({}, 'YYYY-MM-DD HH24:MI:SS') or IA_INSERT_DT>= to_date({}, 'YYYY-MM-DD HH24:MI:SS')))</td><td>NA</td><td>Map(ColumnName -> NA)</td><td>Map(ColumnName -> NA)</td><td>Y</td><td>NA</td><td>NA</td><td>NA</td><td>NA</td><td>N</td><td>Map(recurrence -> monthly, splitColumn -> IA_UPDATE_DT)</td><td>Completed</td><td>null</td><td>null</td><td>null</td><td>null</td></tr><tr><td>A-A1-A101</td><td>12</td><td>prod_hhobi.hhobi_in.IA_HP_AFFILIATE</td><td>8</td><td>AO_ID</td><td>Map(tablesize -> small, fetchsize -> 100000)</td><td>NA</td><td>List(NA)</td><td>BIDW.IA_HP_AFFILIATE</td><td>NA</td><td></td><td>Incremental</td><td>merge</td><td>Map(ColumnName -> IA_UPDATE_DT, Delta -> 3, cdcCondition -> (IA_UPDATE_DT>= to_date({}, 'YYYY-MM-DD HH24:MI:SS') or IA_INSERT_DT>= to_date({}, 'YYYY-MM-DD HH24:MI:SS')))</td><td>NA</td><td>Map(PHONE_NUM -> phone)</td><td>Map(ColumnName -> NA)</td><td>Y</td><td>NA</td><td>NA</td><td>NA</td><td>NA</td><td>N</td><td>Map(recurrence -> monthly, splitColumn -> IA_UPDATE_DT)</td><td>Completed</td><td>null</td><td>null</td><td>Y</td><td>AFF_CONTACT</td></tr><tr><td>A-A1-A101</td><td>7</td><td>prod_hhobi.hhobi_in.IA_HP_CARRIER_SHIP_METHODS</td><td>4</td><td>NA</td><td>Map(tablesize -> huge, fetchsize -> 100000)</td><td>NA</td><td>List(NA)</td><td>BIDW.IA_HP_CARRIER_SHIP_METHODS</td><td>NA</td><td></td><td>Full Refresh</td><td>overwrite</td><td>Map(ColumnName -> IA_UPDATE_DT, Delta -> 3, cdcCondition -> (IA_UPDATE_DT>= to_date({}, 'YYYY-MM-DD HH24:MI:SS') or IA_INSERT_DT>= to_date({}, 'YYYY-MM-DD HH24:MI:SS')))</td><td>NA</td><td>Map(ColumnName -> NA)</td><td>Map(ColumnName -> NA)</td><td>Y</td><td>NA</td><td>NA</td><td>NA</td><td>NA</td><td>N</td><td>Map(recurrence -> monthly, splitColumn -> IA_UPDATE_DT)</td><td>Completed</td><td>null</td><td>null</td><td>null</td><td>null</td></tr><tr><td>A-A1-A101</td><td>10</td><td>prod_hhobi.hhobi_in.IA_HP_GIFT_CARD_DETAILS</td><td>8</td><td>GIFT_CARD_KEY</td><td>Map(tablesize -> small, fetchsize -> 100000)</td><td>NA</td><td>List(NA)</td><td>BIDW.IA_HP_GIFT_CARD_DETAILS</td><td>NA</td><td></td><td>Incremental</td><td>merge</td><td>Map(ColumnName -> IA_UPDATE_DT, Delta -> 3, cdcCondition -> (IA_UPDATE_DT>= to_date({}, 'YYYY-MM-DD HH24:MI:SS') or IA_INSERT_DT>= to_date({}, 'YYYY-MM-DD HH24:MI:SS')))</td><td>NA</td><td>Map(ColumnName -> NA)</td><td>Map(ColumnName -> NA)</td><td>Y</td><td>NA</td><td>NA</td><td>NA</td><td>NA</td><td>N</td><td>Map(recurrence -> monthly, splitColumn -> IA_UPDATE_DT)</td><td>Completed</td><td>null</td><td>null</td><td>null</td><td>null</td></tr><tr><td>A-A1-A101</td><td>9</td><td>prod_hhobi.hhobi_in.IA_HP_GIFT_CARD_REDEEM_ORDER</td><td>8</td><td>GC_REDEEM_ORDER_KEY</td><td>Map(tablesize -> small, fetchsize -> 100000)</td><td>NA</td><td>List(NA)</td><td>BIDW.IA_HP_GIFT_CARD_REDEEM_ORDER</td><td>NA</td><td></td><td>Incremental</td><td>merge</td><td>Map(ColumnName -> IA_UPDATE_DT, Delta -> 3, cdcCondition -> (IA_UPDATE_DT>= to_date({}, 'YYYY-MM-DD HH24:MI:SS') or IA_INSERT_DT>= to_date({}, 'YYYY-MM-DD HH24:MI:SS')))</td><td>NA</td><td>Map(ColumnName -> NA)</td><td>Map(ColumnName -> NA)</td><td>Y</td><td>NA</td><td>NA</td><td>NA</td><td>NA</td><td>N</td><td>Map(recurrence -> monthly, splitColumn -> IA_UPDATE_DT)</td><td>Completed</td><td>null</td><td>null</td><td>null</td><td>null</td></tr><tr><td>A-A1-A101</td><td>8</td><td>prod_hhobi.hhobi_in.IA_HP_SERIAL_NUM</td><td>7</td><td>SERIAL_NUMBER,ORIG_SERIAL_NUMBER,SALES_ORDLN_KEY,PRODUCT_KEY,COLUMN_LEVEL</td><td>Map(tablesize -> huge, fetchsize -> 100000)</td><td>NA</td><td>List(NA)</td><td>BIDW.IA_HP_SERIAL_NUM</td><td>NA</td><td></td><td>Incremental</td><td>merge</td><td>Map(ColumnName -> IA_UPDATED_DT, Delta -> 3, cdcCondition -> (IA_UPDATED_DT>= to_date({}, 'YYYY-MM-DD HH24:MI:SS')))</td><td>Y</td><td>Map(SERIAL_NUMBER -> serial_number, ORIG_SERIAL_NUMBER -> serial_number)</td><td>Map(ColumnName -> NA)</td><td>Y</td><td>NA</td><td>NA</td><td>NA</td><td>NA</td><td>N</td><td>Map(recurrence -> yearly, splitColumn -> IA_UPDATED_DT)</td><td>Completed</td><td>null</td><td>null</td><td>Y</td><td>SERIAL_NUMBER,ORIG_SERIAL_NUMBER</td></tr><tr><td>A-A1-A101</td><td>5</td><td>prod_hhobi.hhobi_in.IA_DATES</td><td>4</td><td>NA</td><td>Map(tablesize -> huge, fetchsize -> 100000)</td><td>NA</td><td>List(NA)</td><td>BIDW.IA_DATES</td><td>NA</td><td></td><td>Full Refresh</td><td>overwrite</td><td>Map(ColumnName -> IA_UPDATE_DT, Delta -> 3, cdcCondition -> (IA_UPDATE_DT>= to_date({}, 'YYYY-MM-DD HH24:MI:SS') or IA_INSERT_DT>= to_date({}, 'YYYY-MM-DD HH24:MI:SS')))</td><td>NA</td><td>Map(ColumnName -> NA)</td><td>Map(ColumnName -> NA)</td><td>Y</td><td>NA</td><td>NA</td><td>NA</td><td>NA</td><td>N</td><td>Map(recurrence -> monthly, splitColumn -> IA_UPDATE_DT)</td><td>Completed</td><td>null</td><td>null</td><td>null</td><td>null</td></tr><tr><td>A-A1-A101</td><td>6</td><td>prod_hhobi.hhobi_in.IA_CODES</td><td>4</td><td>NA</td><td>Map(tablesize -> huge, fetchsize -> 100000)</td><td>NA</td><td>List(NA)</td><td>BIDW.IA_CODES</td><td>NA</td><td></td><td>Full Refresh</td><td>overwrite</td><td>Map(ColumnName -> IA_UPDATE_DT, Delta -> 3, cdcCondition -> (IA_UPDATE_DT>= to_date({}, 'YYYY-MM-DD HH24:MI:SS') or IA_INSERT_DT>= to_date({}, 'YYYY-MM-DD HH24:MI:SS')))</td><td>NA</td><td>Map(ColumnName -> NA)</td><td>Map(ColumnName -> NA)</td><td>Y</td><td>NA</td><td>NA</td><td>NA</td><td>NA</td><td>N</td><td>Map(recurrence -> monthly, splitColumn -> IA_UPDATE_DT)</td><td>Completed</td><td>null</td><td>null</td><td>null</td><td>null</td></tr><tr><td>A-A1-A101</td><td>4</td><td>prod_hhobi.hhobi_in.IA_HP_COUPONS</td><td>3</td><td>COUPON_KEY</td><td>Map(tablesize -> huge, fetchsize -> 100000)</td><td>NA</td><td>List(IA_UPDATE_DT)</td><td>BIDW.IA_HP_COUPONS</td><td>NA</td><td></td><td>Incremental</td><td>merge</td><td>Map(ColumnName -> IA_UPDATE_DT, Delta -> 3, cdcCondition -> (IA_UPDATE_DT>= to_date({}, 'YYYY-MM-DD HH24:MI:SS') or IA_INSERT_DT>= to_date({}, 'YYYY-MM-DD HH24:MI:SS')))</td><td>NA</td><td>Map(ColumnName -> NA)</td><td>Map(ColumnName -> NA)</td><td>Y</td><td>NA</td><td>NA</td><td>NA</td><td>NA</td><td>N</td><td>Map(recurrence -> monthly, splitColumn -> IA_UPDATE_DT)</td><td>Completed</td><td>null</td><td>null</td><td>null</td><td>null</td></tr><tr><td>A-A1-A101</td><td>1</td><td>prod_hhobi.hhobi_in.IA_SALES_ORDLNS</td><td>null</td><td>SALES_ORDLN_KEY</td><td>Map(ColumnName -> IA_UPDATE_DT, tablesize -> huge, fetchsize -> 100000)</td><td>NA</td><td>List(IA_UPDATE_DT)</td><td>BIDW.IA_SALES_ORDLNS</td><td>NA</td><td></td><td>incremental</td><td>merge</td><td>Map(ColumnName -> IA_UPDATE_DT, Delta -> 3, cdcCondition -> (IA_UPDATE_DT>= to_date({}, 'YYYY-MM-DD HH24:MI:SS') or IA_INSERT_DT>= to_date({}, 'YYYY-MM-DD HH24:MI:SS')))</td><td>NA</td><td>Map(ColumnName -> NA)</td><td>Map(ColumnName -> NA)</td><td>Y</td><td>NA</td><td>NA</td><td>NA</td><td>NA</td><td>N</td><td>Map(recurrence -> monthly, splitColumn -> IA_UPDATE_DT)</td><td>Completed</td><td>null</td><td>null</td><td>null</td><td>null</td></tr><tr><td>A-A1-A101</td><td>3</td><td>prod_hhobi.hhobi_in.IA_CUST_LOCS</td><td>2</td><td>CUST_LOC_KEY</td><td>Map(tablesize -> huge, fetchsize -> 100000)</td><td>NA</td><td>List(IA_UPDATE_DT)</td><td>BIDW.IA_CUST_LOCS</td><td>NA</td><td></td><td>Incremental</td><td>merge</td><td>Map(ColumnName -> IA_UPDATE_DT, Delta -> 3, cdcCondition -> (IA_UPDATE_DT>= to_date({}, 'YYYY-MM-DD HH24:MI:SS') or IA_INSERT_DT>= to_date({}, 'YYYY-MM-DD HH24:MI:SS')))</td><td>Y</td><td>Map(PHONE_NUM -> phone, EMAIL_ADDRESS -> email)</td><td>Map(ColumnName -> NA)</td><td>Y</td><td>NA</td><td>NA</td><td>NA</td><td>NA</td><td>N</td><td>Map(recurrence -> monthly, splitColumn -> IA_UPDATE_DT)</td><td>Completed</td><td>null</td><td>null</td><td>Y</td><td>STREET_NAME,PHONE_NUM,EMAIL_ADDRESS,PRMRY_CNTCT_NAME,CLOC_ATTR3_NAME,CLOC_ATTR5_NAME</td></tr><tr><td>A-A1-A101</td><td>2</td><td>prod_hhobi.hhobi_in.IA_CUSTOMERS</td><td>1</td><td>CUSTOMER_KEY</td><td>Map(tablesize -> huge, fetchsize -> 100000)</td><td>NA</td><td>List(IA_UPDATE_DT)</td><td>BIDW.IA_CUSTOMERS</td><td>NA</td><td>add_domain_field</td><td>Incremental</td><td>merge</td><td>Map(ColumnName -> IA_UPDATE_DT, Delta -> 3, cdcCondition -> (IA_UPDATE_DT>= to_date({}, 'YYYY-MM-DD HH24:MI:SS') or IA_INSERT_DT>= to_date({}, 'YYYY-MM-DD HH24:MI:SS')))</td><td>Y</td><td>Map(PAGER_NUM -> phone, EMAIL_ADDRESS -> email, CUST_ATTR4_CODE -> phone, FAX_NUM -> phone, ALT_PHONE_NUM -> phone, CUST_HIER5_CODE -> email, PO_BILL_EMAIL -> email, REFERRAL_EMAIL_ID -> email, CUST_HIER5_NAME -> email, MOBILE_NUM -> phone, PHONE_NUM -> phone, CUST_ATTR5_TEXT -> email)</td><td>Map(ColumnName -> NA)</td><td>Y</td><td>NA</td><td>NA</td><td>NA</td><td>NA</td><td>N</td><td>Map(recurrence -> monthly, splitColumn -> IA_UPDATE_DT)</td><td>Completed</td><td>null</td><td>null</td><td>Y</td><td>CUSTOMER_NAME,ALT_CUSTOMER_NUM,GOVT_ID_VALUE,LEGAL_NAME,FAMILY_NAME,OTHER_NAME,PREFERRED_NAME,PHONE_NUM,ALT_PHONE_NUM,EMAIL_ADDRESS,FAX_NUM,PAGER_NUM,MOBILE_NUM,CUST_HIER3_NAME,CUST_HIER5_CODE,CUST_HIER5_NAME,CUST_ATTR1_CODE,CUST_ATTR1_NAME,CUST_ATTR2_NAME,CUST_ATTR3_NAME,CUST_ATTR4_CODE,CUST_ATTR5_NAME,CUST_ATTR5_TEXT,REFERRAL_EMAIL_ID,PO_BILL_EMAIL,LOGINID</td></tr><tr><td>A-A1-A102</td><td>58</td><td>IA_HP_CTO_COMPONENT</td><td>null</td><td>NA</td><td>Map(ColumnName -> NA, tablesize -> small)</td><td>NA</td><td>List(NA)</td><td>prod_hhobi.hhobi_in.IA_HP_CTO_COMPONENT</td><td>NA</td><td> (select * FROM { where    trunc(IA_INSERT_DT) >= { or trunc(IA_update_DT) >= { ), fetchsize -> 100000</td><td>merge</td><td>NA</td><td>Map(ColumnName -> IA_UPDATE_DT, Delta -> 0, cdcCondition -> (trunc(IA_INSERT_DT) >= {}) OR (trunc(IA_update_DT) >= {}))</td><td>NA</td><td>Map(ColumnName -> NA)</td><td>Map(ColumnName -> NA)</td><td>Y</td><td>NA</td><td>NA</td><td>NA</td><td>NA</td><td>N</td><td>Map(recurrence -> monthly, splitColumn -> IA_UPDATE_DT)</td><td>Running</td><td>null</td><td>null</td><td>null</td><td>null</td></tr><tr><td>A-A1-A102</td><td>60</td><td>IA_HP_CTO_ORDLN_COMPS</td><td>null</td><td>NA</td><td>Map(ColumnName -> NA, tablesize -> small)</td><td>NA</td><td>List(NA)</td><td>prod_hhobi.hhobi_in.IA_HP_CTO_ORDLN_COMPS</td><td>NA</td><td> (select * FROM { where    trunc(IA_INSERT_DT) >= { or trunc(IA_update_DT) >= { ), fetchsize -> 100000</td><td>merge</td><td>NA</td><td>Map(ColumnName -> IA_UPDATE_DT, Delta -> 0, cdcCondition -> (trunc(IA_INSERT_DT) >= {}) OR (trunc(IA_update_DT) >= {}))</td><td>NA</td><td>Map(ColumnName -> NA)</td><td>Map(ColumnName -> NA)</td><td>Y</td><td>NA</td><td>NA</td><td>NA</td><td>NA</td><td>N</td><td>Map(recurrence -> monthly, splitColumn -> IA_UPDATE_DT)</td><td>Running</td><td>null</td><td>null</td><td>null</td><td>null</td></tr><tr><td>A-A1-A102</td><td>35</td><td>IA_CODES</td><td>4</td><td>NA</td><td>Map(ColumnName -> NA, tablesize -> huge)</td><td>NA</td><td>List(NA)</td><td>prod_hhobi.hhobi_in.IA_CODES</td><td>NA</td><td> (select rownum, a.* FROM { a ), fetchsize -> 100000, minn -> 0, maxx -> rows</td><td>Full Refresh</td><td>NA</td><td>Map(ColumnName -> IA_CODES, Delta -> 0, cdcCondition -> (trunc(IA_INSERT_DT) >= {}) OR (trunc(IA_update_DT) >= {}))</td><td>NA</td><td>Map(ColumnName -> NA)</td><td>Map(ColumnName -> NA)</td><td>Y</td><td>NA</td><td>NA</td><td>NA</td><td>NA</td><td>N</td><td>Map(recurrence -> monthly, splitColumn -> IA_UPDATE_DT)</td><td>Running</td><td>null</td><td>null</td><td>null</td><td>null</td></tr><tr><td>A-A1-A102</td><td>26</td><td>IA_DATES</td><td>4</td><td>NA</td><td>Map(ColumnName -> NA, tablesize -> huge)</td><td>NA</td><td>List(NA)</td><td>prod_hhobi.hhobi_in.IA_DATES</td><td>NA</td><td> (select rownum, a.* FROM { a ), fetchsize -> 100000, minn -> 0, maxx -> rows</td><td>Full Refresh</td><td>NA</td><td>Map(ColumnName -> IA_UPDATE_DT, Delta -> 0, cdcCondition -> (trunc(IA_INSERT_DT) >= {}) OR (trunc(IA_update_DT) >= {}))</td><td>NA</td><td>Map(ColumnName -> NA)</td><td>Map(ColumnName -> NA)</td><td>Y</td><td>NA</td><td>NA</td><td>NA</td><td>NA</td><td>N</td><td>Map(recurrence -> monthly, splitColumn -> IA_UPDATE_DT)</td><td>Running</td><td>null</td><td>null</td><td>null</td><td>null</td></tr><tr><td>A-A1-A102</td><td>41</td><td>IA_CUSTOMERS</td><td>4</td><td>NA</td><td>Map(ColumnName -> NA, tablesize -> huge)</td><td>NA</td><td>List(NA)</td><td>prod_hhobi.hhobi_in.IA_CUSTOMERS</td><td>NA</td><td> (select rownum, a.* FROM { a ), fetchsize -> 100000, minn -> 0, maxx -> rows</td><td>Full Refresh</td><td>NA</td><td>Map(ColumnName -> IA_CUSTOMERS, Delta -> 0, cdcCondition -> (trunc(IA_INSERT_DT) >= {}) OR (trunc(IA_update_DT) >= {}))</td><td>NA</td><td>Map(ColumnName -> NA)</td><td>Map(ColumnName -> NA)</td><td>Y</td><td>NA</td><td>NA</td><td>NA</td><td>NA</td><td>N</td><td>Map(recurrence -> monthly, splitColumn -> IA_UPDATE_DT)</td><td>Running</td><td>null</td><td>null</td><td>null</td><td>null</td></tr><tr><td>A-A1-A102</td><td>42</td><td>IA_CUST_LOCS</td><td>4</td><td>NA</td><td>Map(ColumnName -> NA, tablesize -> huge)</td><td>NA</td><td>List(NA)</td><td>prod_hhobi.hhobi_in.IA_CUST_LOCS</td><td>NA</td><td> (select rownum, a.* FROM { a ), fetchsize -> 100000, minn -> 0, maxx -> rows</td><td>Full Refresh</td><td>NA</td><td>Map(ColumnName -> IA_CUST_LOCS, Delta -> 0, cdcCondition -> (trunc(IA_INSERT_DT) >= {}) OR (trunc(IA_update_DT) >= {}))</td><td>NA</td><td>Map(ColumnName -> NA)</td><td>Map(ColumnName -> NA)</td><td>Y</td><td>NA</td><td>NA</td><td>NA</td><td>NA</td><td>N</td><td>Map(recurrence -> monthly, splitColumn -> IA_UPDATE_DT)</td><td>Running</td><td>null</td><td>null</td><td>null</td><td>null</td></tr><tr><td>A-A1-A102</td><td>38</td><td>IA_HP_COUPONS</td><td>4</td><td>NA</td><td>Map(ColumnName -> NA, tablesize -> huge)</td><td>NA</td><td>List(NA)</td><td>prod_hhobi.hhobi_in.IA_HP_COUPONS</td><td>NA</td><td> (select rownum, a.* FROM { a ), fetchsize -> 100000, minn -> 0, maxx -> rows</td><td>Full Refresh</td><td>NA</td><td>Map(ColumnName -> IA_COUPONS, Delta -> 0, cdcCondition -> (trunc(IA_INSERT_DT) >= {}) OR (trunc(IA_update_DT) >= {}))</td><td>NA</td><td>Map(ColumnName -> NA)</td><td>Map(ColumnName -> NA)</td><td>Y</td><td>NA</td><td>NA</td><td>NA</td><td>NA</td><td>N</td><td>Map(recurrence -> monthly, splitColumn -> IA_UPDATE_DT)</td><td>Running</td><td>null</td><td>null</td><td>null</td><td>null</td></tr><tr><td>A-A1-A102</td><td>39</td><td>IA_HP_CARRIER_SHIP_METHODS</td><td>4</td><td>NA</td><td>Map(ColumnName -> NA, tablesize -> huge)</td><td>NA</td><td>List(NA)</td><td>prod_hhobi.hhobi_in.IA_HP_CARRIER_SHIP_METHODS</td><td>NA</td><td> (select rownum, a.* FROM { a ), fetchsize -> 100000, minn -> 0, maxx -> rows</td><td>Full Refresh</td><td>NA</td><td>Map(ColumnName -> IA_HP_CARRIER_SHIP_METHODS, Delta -> 0, cdcCondition -> (trunc(IA_INSERT_DT) >= {}) OR (trunc(IA_update_DT) >= {}))</td><td>NA</td><td>Map(ColumnName -> NA)</td><td>Map(ColumnName -> NA)</td><td>Y</td><td>NA</td><td>NA</td><td>NA</td><td>NA</td><td>N</td><td>Map(recurrence -> monthly, splitColumn -> IA_UPDATE_DT)</td><td>Running</td><td>null</td><td>null</td><td>null</td><td>null</td></tr><tr><td>A-A1-A102</td><td>29</td><td>IA_PRODUCTS</td><td>9,10,11,12</td><td>PRODUCT_KEY</td><td>Map(ColumnName -> NA, tablesize -> small)</td><td>NA</td><td>List(NA)</td><td>prod_hhobi.hhobi_in.IA_PRODUCTS</td><td>NA</td><td> (select * FROM { where    trunc(IA_INSERT_DT) >= { or trunc(IA_update_DT) >= { ), fetchsize -> 100000</td><td>merge</td><td>NA</td><td>Map(ColumnName -> IA_UPDATE_DT, Delta -> 0, cdcCondition -> (trunc(IA_INSERT_DT) >= {}) OR (trunc(IA_update_DT) >= {}))</td><td>NA</td><td>Map(ColumnName -> NA)</td><td>Map(ColumnName -> NA)</td><td>Y</td><td>NA</td><td>NA</td><td>NA</td><td>NA</td><td>N</td><td>Map(recurrence -> monthly, splitColumn -> IA_UPDATE_DT)</td><td>Running</td><td>null</td><td>null</td><td>null</td><td>null</td></tr><tr><td>A-A1-A102</td><td>27</td><td>IA_BUSN_ORGS</td><td>8</td><td>BUSN_ORG_KEY</td><td>Map(ColumnName -> NA, tablesize -> small)</td><td>NA</td><td>List(NA)</td><td>prod_hhobi.hhobi_in.IA_BUSN_ORGS</td><td>NA</td><td> (select * FROM { where    trunc(IA_INSERT_DT) >= { or trunc(IA_update_DT) >= { ), fetchsize -> 100000</td><td>merge</td><td>NA</td><td>Map(ColumnName -> IA_UPDATE_DT, Delta -> 0, cdcCondition -> (trunc(IA_INSERT_DT) >= {}) OR (trunc(IA_update_DT) >= {}))</td><td>NA</td><td>Map(ColumnName -> NA)</td><td>Map(ColumnName -> NA)</td><td>Y</td><td>NA</td><td>NA</td><td>NA</td><td>NA</td><td>N</td><td>Map(recurrence -> monthly, splitColumn -> IA_UPDATE_DT)</td><td>Running</td><td>null</td><td>null</td><td>null</td><td>null</td></tr><tr><td>A-A1-A102</td><td>28</td><td>IA_HP_AFFILIATE</td><td>8</td><td>AO_ID</td><td>Map(ColumnName -> NA, tablesize -> small)</td><td>NA</td><td>List(NA)</td><td>prod_hhobi.hhobi_in.IA_HP_AFFILIATE</td><td>NA</td><td> (select * FROM { where    trunc(IA_INSERT_DT) >= { or trunc(IA_update_DT) >= { ), fetchsize -> 100000</td><td>merge</td><td>NA</td><td>Map(ColumnName -> IA_UPDATE_DT, Delta -> 0, cdcCondition -> (trunc(IA_INSERT_DT) >= {}) OR (trunc(IA_update_DT) >= {}))</td><td>NA</td><td>Map(ColumnName -> NA)</td><td>Map(ColumnName -> NA)</td><td>Y</td><td>NA</td><td>NA</td><td>NA</td><td>NA</td><td>N</td><td>Map(recurrence -> monthly, splitColumn -> IA_UPDATE_DT)</td><td>Running</td><td>null</td><td>null</td><td>null</td><td>null</td></tr><tr><td>A-A1-A102</td><td>30</td><td>IA_ORDERS_QUOTE</td><td>13</td><td>ORDERS_ID</td><td>Map(ColumnName -> NA, tablesize -> small)</td><td>NA</td><td>List(NA)</td><td>prod_hhobi.hhobi_in.IA_ORDERS_QUOTE</td><td>NA</td><td> (select * FROM { where    trunc(IA_INSERT_DT) >= { or trunc(IA_update_DT) >= { ), fetchsize -> 100000</td><td>merge</td><td>NA</td><td>Map(ColumnName -> IA_UPDATE_DT, Delta -> 0, cdcCondition -> (trunc(IA_INSERT_DT) >= {}) OR (trunc(IA_update_DT) >= {}))</td><td>NA</td><td>Map(ColumnName -> NA)</td><td>Map(ColumnName -> NA)</td><td>Y</td><td>NA</td><td>NA</td><td>NA</td><td>NA</td><td>N</td><td>Map(recurrence -> monthly, splitColumn -> IA_UPDATE_DT)</td><td>Running</td><td>null</td><td>null</td><td>null</td><td>null</td></tr><tr><td>A-A1-A102</td><td>32</td><td>IA_STATUS</td><td>14</td><td>STATUS_KEY</td><td>Map(ColumnName -> NA, tablesize -> small)</td><td>NA</td><td>List(NA)</td><td>prod_hhobi.hhobi_in.IA_STATUS</td><td>NA</td><td> (select * FROM { where    trunc(IA_INSERT_DT) >= { or trunc(IA_update_DT) >= { ), fetchsize -> 100000</td><td>merge</td><td>NA</td><td>Map(ColumnName -> IA_UPDATE_DT, Delta -> 0, cdcCondition -> (trunc(IA_INSERT_DT) >= {}) OR (trunc(IA_update_DT) >= {}))</td><td>NA</td><td>Map(ColumnName -> NA)</td><td>Map(ColumnName -> NA)</td><td>Y</td><td>NA</td><td>NA</td><td>NA</td><td>NA</td><td>N</td><td>Map(recurrence -> monthly, splitColumn -> IA_UPDATE_DT)</td><td>Running</td><td>null</td><td>null</td><td>null</td><td>null</td></tr><tr><td>A-A1-A102</td><td>40</td><td>IA_SALES_ORDLNS</td><td>8</td><td>NA</td><td>Map(ColumnName -> NA, tablesize -> small)</td><td>NA</td><td>List(NA)</td><td>prod_hhobi.hhobi_in.IA_SALES_ORDLNS</td><td>NA</td><td> (select * FROM { where    trunc(IA_INSERT_DT) >= { or trunc(IA_update_DT) >= { ), fetchsize -> 100000</td><td>merge</td><td>NA</td><td>Map(ColumnName -> IA_UPDATE_DT, Delta -> 0, cdcCondition -> (trunc(IA_INSERT_DT) >= {}) OR (trunc(IA_update_DT) >= {}))</td><td>NA</td><td>Map(ColumnName -> NA)</td><td>Map(ColumnName -> NA)</td><td>Y</td><td>NA</td><td>NA</td><td>NA</td><td>NA</td><td>N</td><td>Map(recurrence -> monthly, splitColumn -> IA_UPDATE_DT)</td><td>Running</td><td>null</td><td>null</td><td>null</td><td>null</td></tr><tr><td>A-A1-A102</td><td>31</td><td>IA_QUOTE</td><td>14</td><td>ORDERS_ID</td><td>Map(ColumnName -> NA, tablesize -> small)</td><td>NA</td><td>List(NA)</td><td>prod_hhobi.hhobi_in.IA_QUOTE</td><td>NA</td><td> (select * FROM { where    trunc(IA_INSERT_DT) >= { or trunc(IA_update_DT) >= { ), fetchsize -> 100000</td><td>merge</td><td>NA</td><td>Map(ColumnName -> IA_UPDATE_DT, Delta -> 0, cdcCondition -> (trunc(IA_INSERT_DT) >= {}) OR (trunc(IA_update_DT) >= {}))</td><td>NA</td><td>Map(ColumnName -> NA)</td><td>Map(ColumnName -> NA)</td><td>Y</td><td>NA</td><td>NA</td><td>NA</td><td>NA</td><td>N</td><td>Map(recurrence -> monthly, splitColumn -> IA_UPDATE_DT)</td><td>Running</td><td>null</td><td>null</td><td>null</td><td>null</td></tr><tr><td>A-A1-A102</td><td>33</td><td>IA_XACT_TYPES</td><td>14</td><td>XACT_TYPE_KEY</td><td>Map(ColumnName -> NA, tablesize -> small)</td><td>NA</td><td>List(NA)</td><td>prod_hhobi.hhobi_in.IA_XACT_TYPES</td><td>NA</td><td> (select * FROM { where    trunc(IA_INSERT_DT) >= { or trunc(IA_update_DT) >= { ), fetchsize -> 100000</td><td>merge</td><td>NA</td><td>Map(ColumnName -> IA_UPDATE_DT, Delta -> 0, cdcCondition -> (trunc(IA_INSERT_DT) >= {}) OR (trunc(IA_update_DT) >= {}))</td><td>NA</td><td>Map(ColumnName -> NA)</td><td>Map(ColumnName -> NA)</td><td>Y</td><td>NA</td><td>NA</td><td>NA</td><td>NA</td><td>N</td><td>Map(recurrence -> monthly, splitColumn -> IA_UPDATE_DT)</td><td>Running</td><td>null</td><td>null</td><td>null</td><td>null</td></tr><tr><td>A-A1-A102</td><td>34</td><td>IA_BUSN_LOCS</td><td>14</td><td>BUSN_LOC_KEY</td><td>Map(ColumnName -> NA, tablesize -> small)</td><td>NA</td><td>List(NA)</td><td>prod_hhobi.hhobi_in.IA_BUSN_LOCS</td><td>NA</td><td> (select * FROM { where    trunc(IA_INSERT_DT) >= { or trunc(IA_update_DT) >= { ), fetchsize -> 100000</td><td>merge</td><td>NA</td><td>Map(ColumnName -> IA_UPDATE_DT, Delta -> 0, cdcCondition -> (trunc(IA_INSERT_DT) >= {}) OR (trunc(IA_update_DT) >= {}))</td><td>NA</td><td>Map(ColumnName -> NA)</td><td>Map(ColumnName -> NA)</td><td>Y</td><td>NA</td><td>NA</td><td>NA</td><td>NA</td><td>N</td><td>Map(recurrence -> monthly, splitColumn -> IA_UPDATE_DT)</td><td>Running</td><td>null</td><td>null</td><td>null</td><td>null</td></tr><tr><td>A-A1-A102</td><td>43</td><td>IA_HP_GIFT_CARD_REDEEM_ORDER</td><td>24</td><td>GC_REDEEM_ORDER_KEY</td><td>Map(ColumnName -> NA, tablesize -> small)</td><td>NA</td><td>List(NA)</td><td>prod_hhobi.hhobi_in.IA_HP_GIFT_CARD_REDEEM_ORDER</td><td>NA</td><td>{ColumnName -> NA}</td><td>Vacuum</td><td>NA</td><td>Map(ColumnName -> IA_UPDATE_DT, Delta -> 0, cdcCondition -> (trunc(IA_INSERT_DT) >= {}) OR (trunc(IA_update_DT) >= {}))</td><td>NA</td><td>Map(ColumnName -> NA)</td><td>Map(ColumnName -> NA)</td><td>Y</td><td>NA</td><td>NA</td><td>NA</td><td>NA</td><td>N</td><td>Map(recurrence -> monthly, splitColumn -> IA_UPDATE_DT)</td><td>Running</td><td>null</td><td>null</td><td>null</td><td>null</td></tr><tr><td>A-A1-A102</td><td>44</td><td>IA_HP_GIFT_CARD_DETAILS</td><td>24</td><td>GIFT_CARD_KEY</td><td>Map(ColumnName -> NA, tablesize -> small)</td><td>NA</td><td>List(NA)</td><td>prod_hhobi.hhobi_in.IA_HP_GIFT_CARD_DETAILS</td><td>NA</td><td>{ColumnName -> NA}</td><td>Vacuum</td><td>NA</td><td>Map(ColumnName -> IA_UPDATE_DT, Delta -> 0, cdcCondition -> (trunc(IA_INSERT_DT) >= {}) OR (trunc(IA_update_DT) >= {}))</td><td>NA</td><td>Map(ColumnName -> NA)</td><td>Map(ColumnName -> NA)</td><td>Y</td><td>NA</td><td>NA</td><td>NA</td><td>NA</td><td>N</td><td>Map(recurrence -> monthly, splitColumn -> IA_UPDATE_DT)</td><td>Running</td><td>null</td><td>null</td><td>null</td><td>null</td></tr><tr><td>A-A1-A102</td><td>45</td><td>IA_HP_GIFT_CARD_STATUS_CODE</td><td>24</td><td>GIFT_CARD_STATUS_CODE_KEY</td><td>Map(ColumnName -> NA, tablesize -> small)</td><td>NA</td><td>List(NA)</td><td>prod_hhobi.hhobi_in.IA_HP_GIFT_CARD_STATUS_CODE</td><td>NA</td><td>{ColumnName -> NA}</td><td>Vacuum</td><td>NA</td><td>Map(ColumnName -> IA_UPDATE_DT, Delta -> 0, cdcCondition -> (trunc(IA_INSERT_DT) >= {}) OR (trunc(IA_update_DT) >= {}))</td><td>NA</td><td>Map(ColumnName -> NA)</td><td>Map(ColumnName -> NA)</td><td>Y</td><td>NA</td><td>NA</td><td>NA</td><td>NA</td><td>N</td><td>Map(recurrence -> monthly, splitColumn -> IA_UPDATE_DT)</td><td>Running</td><td>null</td><td>null</td><td>null</td><td>null</td></tr><tr><td>A-A1-A102</td><td>46</td><td>IA_HP_GIFT_CARD_TYPE</td><td>24</td><td>GIFT_CARD_TYPE_KEY</td><td>Map(ColumnName -> NA, tablesize -> small)</td><td>NA</td><td>List(NA)</td><td>prod_hhobi.hhobi_in.IA_HP_GIFT_CARD_TYPE</td><td>NA</td><td>{ColumnName -> NA}</td><td>Vacuum</td><td>NA</td><td>Map(ColumnName -> IA_UPDATE_DT, Delta -> 0, cdcCondition -> (trunc(IA_INSERT_DT) >= {}) OR (trunc(IA_update_DT) >= {}))</td><td>NA</td><td>Map(ColumnName -> NA)</td><td>Map(ColumnName -> NA)</td><td>Y</td><td>NA</td><td>NA</td><td>NA</td><td>NA</td><td>N</td><td>Map(recurrence -> monthly, splitColumn -> IA_UPDATE_DT)</td><td>Running</td><td>null</td><td>null</td><td>null</td><td>null</td></tr><tr><td>A-A1-A102</td><td>47</td><td>IA_HP_GIFT_CARD_ACTIVITY_CODE</td><td>24</td><td>GIFT_CARD_ACTIVITY_CODE_KEY</td><td>Map(ColumnName -> NA, tablesize -> small)</td><td>NA</td><td>List(NA)</td><td>prod_hhobi.hhobi_in.IA_HP_GIFT_CARD_ACTIVITY_CODE</td><td>NA</td><td>{ColumnName -> NA}</td><td>Vacuum</td><td>NA</td><td>Map(ColumnName -> IA_UPDATE_DT, Delta -> 0, cdcCondition -> (trunc(IA_INSERT_DT) >= {}) OR (trunc(IA_update_DT) >= {}))</td><td>NA</td><td>Map(ColumnName -> NA)</td><td>Map(ColumnName -> NA)</td><td>Y</td><td>NA</td><td>NA</td><td>NA</td><td>NA</td><td>N</td><td>Map(recurrence -> monthly, splitColumn -> IA_UPDATE_DT)</td><td>Running</td><td>null</td><td>null</td><td>null</td><td>null</td></tr><tr><td>A-A1-A102</td><td>48</td><td>IA_HP_GIFT_CARD</td><td>24</td><td>GIFT_CARD_KEY</td><td>Map(ColumnName -> NA, tablesize -> small)</td><td>NA</td><td>List(NA)</td><td>prod_hhobi.hhobi_in.IA_HP_GIFT_CARD</td><td>NA</td><td>{ColumnName -> NA}</td><td>Vacuum</td><td>NA</td><td>Map(ColumnName -> IA_UPDATE_DT, Delta -> 0, cdcCondition -> (trunc(IA_INSERT_DT) >= {}) OR (trunc(IA_update_DT) >= {}))</td><td>NA</td><td>Map(ColumnName -> NA)</td><td>Map(ColumnName -> NA)</td><td>Y</td><td>NA</td><td>NA</td><td>NA</td><td>NA</td><td>N</td><td>Map(recurrence -> monthly, splitColumn -> IA_UPDATE_DT)</td><td>Running</td><td>null</td><td>null</td><td>null</td><td>null</td></tr><tr><td>A-A1-A103</td><td>49</td><td>IA_Consolidated</td><td>14</td><td>NA</td><td>Map(ColumnName -> NA, tablesize -> small)</td><td>NA</td><td>List(NA)</td><td>prod_hhobi.hhobi_bronze.ia_sales_ordlns</td><td>NA</td><td>select /*+ BROADCAST(SALES_AREA),BROADCAST(SALES_GEO ),BROADCAST(XACT), BROADCAST(PLANT), BROADCAST(dk1),BROADCAST(dk2),BROADCAST(dk3),BROADCAST(dk4),BROADCAST(dk5),BROADCAST(dk6),BROADCAST(dk7),BROADCAST(dk8),BROADCAST(dk9),BROADCAST(dk10),BROADCAST(dk11),\n",
       "BROADCAST(dk12),BROADCAST(dk13),BROADCAST(dk14),BROADCAST(ship), BROADCAST(GIFT_CARD_STATUS), BROADCAST(GIFT_CARD_TYPE),BROADCAST(GIFT_CARD_ACTIVITY), BROADCAST(prod_cat) */ \n",
       "\n",
       "    cast(sorl.SALES_ORDLN_KEY as long)  as sorl_SALES_ORDLN_KEY, \n",
       "    cast(sorl.PRODUCT_KEY as long) as sorl_PRODUCT_KEY,\n",
       "    cast(sorl.CUSTOMER_KEY as long) as sorl_CUSTOMER_KEY,\n",
       "    sorl.purch_order_num as sorl_purch_order_num,\n",
       "    cast(sorl.PLANT_LOC_KEY as int) as sorl_PLANT_LOC_KEY,\n",
       "    cast(sorl.SALES_AREA_ORG_KEY as int) as sorl_SALES_AREA_ORG_KEY,\n",
       "    cast(sorl.SALES_GEO_ORG_KEY as int) as sorl_SALES_GEO_ORG_KEY,\n",
       "    cast(sorl.CUST_SHIP_TO_KEY as long) as sorl_CUST_SHIP_TO_KEY,\n",
       "    cast(sorl.CUST_BILL_TO_KEY as long) as sorl_CUST_BILL_TO_KEY,\n",
       "    cast(sorl.XACT_TYPE_KEY as int) as sorl_XACT_TYPE_KEY,\n",
       "    cast(sorl.ORDER_STATUS_KEY as int) as sorl_ORDER_STATUS_KEY,\n",
       "    cast(sorl.SORL_DIM2_KEY as int) as sorl_SORL_DIM2_KEY,\n",
       "    cast(sorl.SORL_DIM3_KEY as int) as sorl_SORL_DIM3_KEY,\n",
       "    cast(sorl.SORL_DIM4_KEY as int) as sorl_SORL_DIM4_KEY,\n",
       "    cast(sorl.SORL_DIM5_KEY as long) as sorl_SORL_DIM5_KEY,\n",
       "    cast(sorl.COUPON_KEY as long) as sorl_COUPON_KEY,\n",
       "    cast(sorl.NET_GRP_AMT as FLOAT) as sorl_NET_GRP_AMT,\n",
       "    cast(sorl.NET_LOC_AMT as FLOAT) as sorl_NET_LOC_AMT,\n",
       "    cast(sorl.NET_DOC_AMT as FLOAT) as sorl_NET_DOC_AMT,\n",
       "    cast(sorl.SALES_QTY as int) as sorl_SALES_QTY,\n",
       "    sorl.DOC_CURR_CODE as sorl_DOC_CURR_CODE,\n",
       "    sorl.LOC_CURR_CODE as sorl_LOC_CURR_CODE,\n",
       "    sorl.GRP_CURR_CODE as sorl_GRP_CURR_CODE,\n",
       "    --sorl.PURCH_ORDER_NUM as FLOAT) as sorl_PURCH_ORDER_NUM,\n",
       "    cast(sorl.SORL_DOC2_AMT as FLOAT) as sorl_SORL_DOC2_AMT,\n",
       "    cast(sorl.SORL_LOC2_AMT as FLOAT) as sorl_SORL_LOC2_AMT,\n",
       "    cast(sorl.SORL_GRP2_AMT as FLOAT) as sorl_SORL_GRP2_AMT,\n",
       "    cast(sorl.SORL_DOC3_AMT as FLOAT) as sorl_SORL_DOC3_AMT,\n",
       "    cast(sorl.SORL_LOC3_AMT as FLOAT) as sorl_SORL_LOC3_AMT,\n",
       "    cast(sorl.SORL_GRP3_AMT as FLOAT) as sorl_SORL_GRP3_AMT,\n",
       "    cast(sorl.SORL_DOC4_AMT as FLOAT) as sorl_SORL_DOC4_AMT,\n",
       "    cast(sorl.SORL_LOC4_AMT as FLOAT) as sorl_SORL_LOC4_AMT,\n",
       "    cast(sorl.SORL_GRP4_AMT as FLOAT) as sorl_SORL_GRP4_AMT,\n",
       "    cast(sorl.SORL_DOC5_AMT as FLOAT) as sorl_SORL_DOC5_AMT,\n",
       "    cast(sorl.SORL_LOC5_AMT as FLOAT) as sorl_SORL_LOC5_AMT,\n",
       "    cast(sorl.SORL_GRP5_AMT as FLOAT) as sorl_SORL_GRP5_AMT,\n",
       "    cast(sorl.SORL_DOC6_AMT as FLOAT) as sorl_SORL_DOC6_AMT,\n",
       "    cast(sorl.SORL_LOC6_AMT as FLOAT) as sorl_SORL_LOC6_AMT,\n",
       "    cast(sorl.SORL_GRP6_AMT as FLOAT) as sorl_SORL_GRP6_AMT,\n",
       "    cast(sorl.SORL_DOC7_AMT as FLOAT) as sorl_SORL_DOC7_AMT,\n",
       "    cast(sorl.SORL_DOC10_AMT as FLOAT) as sorl_SORL_DOC10_AMT,\n",
       "    sorl.SORL_ATTR2_CODE as sorl_SORL_ATTR2_CODE,\n",
       "    sorl.SORL_ATTR3_CODE as sorl_SORL_ATTR3_CODE,\n",
       "    sorl.SORL_ATTR4_NAME as sorl_SORL_ATTR4_NAME,--ip_address\n",
       "    sorl.SORL_ATTR2_TEXT as sorl_SORL_ATTR2_TEXT,--Parent Bundle Number\n",
       "    sorl.SORL_ATTR4_TEXT as sorl_SORL_ATTR4_TEXT,--Tax Exempt Flag\n",
       "    sorl.SORL_ATTR5_TEXT as sorl_SORL_ATTR5_TEXT,--Immediate parent order number\n",
       "    sorl.SORL_ATTR6_TEXT as sorl_SORL_ATTR6_TEXT,\n",
       "    sorl.SORL_ATTR7_TEXT as sorl_SORL_ATTR7_TEXT,--PL code\n",
       "    sorl.IA_INSERT_DT as sorl_IA_INSERT_DT,\n",
       "    sorl.IA_UPDATE_DT as sorl_IA_UPDATE_DT,\n",
       "    sorl.SOURCE_ID as sorl_SOURCE_ID,\n",
       "    cast(sorl.GM_POINTS as FLOAT) as sorl_GM_POINTS,\n",
       "    cast(sorl.PAYMENT_TYPE1_KEY as int) as sorl_PAYMENT_TYPE1_KEY,\n",
       "    cast(sorl.PAYMENT_TYPE2_KEY as int) as sorl_PAYMENT_TYPE2_KEY,\n",
       "    cast(sorl.PAYMENT_TYPE3_KEY as int) as sorl_PAYMENT_TYPE3_KEY,\n",
       "    cast(sorl.PAYMENT_TYPE1_AMT as FLOAT) as sorl_PAYMENT_TYPE1_AMT,\n",
       "    cast(sorl.PAYMENT_TYPE2_AMT as FLOAT) as sorl_PAYMENT_TYPE2_AMT,\n",
       "    cast(sorl.PAYMENT_TYPE3_AMT as FLOAT) as sorl_PAYMENT_TYPE3_AMT,\n",
       "    cast(sorl.COUPON_DISC_AMT as FLOAT) as sorl_COUPON_DISC_AMT,\n",
       "    cast(sorl.INSTANT_REBATE_DISC_AMT as FLOAT) as sorl_INSTANT_REBATE_DISC_AMT,\n",
       "    cast(sorl.ORDER_TYPE as int) as sorl_ORDER_TYPE,\n",
       "    --case when ORDER_TYPE =0 then \"Consumer\" when ORDER_TYPE =0 then \"Business\" end sorl_ORDER_TYPE,\n",
       "    cast(sorl.PRICE_OVERRIDE_AMT as FLOAT) as sorl_PRICE_OVERRIDE_AMT,\n",
       "    sorl.PRICE_OVERRIDE_REASON_CODE as sorl_PRICE_OVERRIDE_REASON_CODE,\n",
       "    sorl.TAX_EXMPT_ORD as sorl_TAX_EXMPT_ORD,\n",
       "    sorl.BUNDLE_SKU as sorl_BUNDLE_SKU,\n",
       "    sorl.SAVED_CREDIT_CARD as sorl_SAVED_CREDIT_CARD,\n",
       "    sorl.EXPECTED_DELIVERY_DATE as sorl_EXPECTED_DELIVERY_DATE,\n",
       "    cast(sorl.EXTNSUBSIDYAMOUNT as FLOAT) as sorl_EXTNSUBSIDYAMOUNT,\n",
       "    sorl.CUSTOMER_CANCELLATION_SOURCE as sorl_CUSTOMER_CANCELLATION_SOURCE,\n",
       "    sorl.CANCELLED_BY as sorl_CANCELLED_BY,\n",
       "    sorl.CANCELLATION_DATE as sorl_CANCELLATION_DATE,\n",
       "    sorl.CANCEL_REASON_CODE as sorl_CANCEL_REASON_CODE,\n",
       "    sorl.RETURNED_BY as sorl_RETURNED_BY,\n",
       "    sorl.INITIATED_RETURN_ORDERDATE as sorl_INITIATED_RETURN_ORDERDATE,\n",
       "    sorl.PROCESSING_RETURN_ORDERDATE as sorl_PROCESSING_RETURN_ORDERDATE,\n",
       "    sorl.RETURN_CONDITION as sorl_RETURN_CONDITION,\n",
       "    sorl.EXTNSUBSIDYFLAG as sorl_EXTNSUBSIDYFLAG,\n",
       "    sorl.EXTNSUBSIDYORDAPPROVEDBY as sorl_EXTNSUBSIDYORDAPPROVEDBY,\n",
       "    sorl.EXTNSUBSIDYSHIPPERID as sorl_EXTNSUBSIDYSHIPPERID,\n",
       "    sorl.EXTNSUBSIDYACCOUNTNAME as sorl_EXTNSUBSIDYACCOUNTNAME,\n",
       "    sorl.EXTN_PSTORE_NAME as sorl_EXTN_PSTORE_NAME,\n",
       "    sorl.EXTN_ACCOUNT_NAME as sorl_EXTN_ACCOUNT_NAME,\n",
       "    cast(SORL.P_SALES_ORDLN_KEY as long) as \tSORL_P_SALES_ORDLN_KEY,\n",
       "    SORL.P_ORDER_NUM_BV as \tSORL_P_ORDER_NUM_BV,\n",
       "    SORL.P_ORDER_NUM_SAP as \tSORL_P_ORDER_NUM_SAP,\n",
       "    cast(SORL.P_SALES_ORDER_ITEM as int) as \tSORL_P_SALES_ORDER_ITEM,\n",
       "    cast(SORL.P_CUST_BILL_TO_KEY as long) as \tSORL_P_CUST_BILL_TO_KEY,\n",
       "    cast(SORL.P_CUST_SHIP_TO_KEY as long) as \tSORL_P_CUST_SHIP_TO_KEY,\n",
       "    cast(SORL.P_DIST_CHANNEL_KEY as int) as \tSORL_P_DIST_CHANNEL_KEY,\n",
       "    cast(SORL.P_ORDER_TYPE_KEY as int) as \tSORL_P_ORDER_TYPE_KEY,\n",
       "    cast(SORL.P_PAYMENT_TYPE_KEY as int) as \tSORL_P_PAYMENT_TYPE_KEY,\n",
       "    cast(SORL.P_PROFIT_CENTER_KEY as int) as \tSORL_P_PROFIT_CENTER_KEY,\n",
       "    cast(SORL.P_AFFILIATE_KEY as long) as \tSORL_P_AFFILIATE_KEY,\n",
       "    cast(SORL.P_SHIP_METHODS_KEY as int) as \tSORL_P_SHIP_METHODS_KEY,\n",
       "    cast(SORL.P_ORDERED_ON_DK_BV as int) as \tSORL_P_ORDERED_ON_DK_BV,\n",
       "    cast(SORL.P_ORDERED_ON_DK_SAP as int) as \tSORL_P_ORDERED_ON_DK_SAP,\n",
       "    cast(SORL.P_AGENT_KEY as long) as \tSORL_P_AGENT_KEY,\n",
       "    cast(SORL.P_SALES_OFFICE_KEY as int) as \tSORL_P_SALES_OFFICE_KEY,\n",
       "    SORL.P_SAP_ITEM_CATEGORY as \tSORL_P_SAP_ITEM_CATEGORY,\n",
       "    cast(SORL.P_GROSS_SALES_AMT as FLOAT) as \tSORL_P_GROSS_SALES_AMT,\n",
       "    cast(SORL.P_COUPON_DISCOUNT_AMT as FLOAT) as \tSORL_P_COUPON_DISCOUNT_AMT,\n",
       "    cast(SORL.P_OTHER_DISCOUNT_AMT as FLOAT) as \tSORL_P_OTHER_DISCOUNT_AMT,\n",
       "    cast(SORL.P_TAX_AMT as FLOAT) as \tSORL_P_TAX_AMT,\n",
       "    cast(SORL.P_FREIGHT_AMT as FLOAT) as \tSORL_P_FREIGHT_AMT,\n",
       "    cast(SORL.P_SALES_QTY as INT) as \tSORL_P_SALES_QTY,\n",
       "    cast(SORL.P_RECYCLING_FEE as FLOAT) as \tSORL_P_RECYCLING_FEE,\n",
       "    cast(SORL.P_SHIPPED_ON_DK as INT) as \tSORL_P_SHIPPED_ON_DK,\n",
       "    cast(SORL.P_INVOICED_ON_DK as INT) as \tSORL_P_INVOICED_ON_DK,\n",
       "    cast(SORL.P_STATUS_KEY as INT) as \tSORL_P_STATUS_KEY,\n",
       "    case when sorl_2.P_SALES_ORDLN_KEY is not null  then 1 when sorl_2.P_SALES_ORDLN_KEY is  null    then 0 else NULL end  as Flag_returned, \n",
       "\n",
       "    dk4.CAL_DAY_DT as SORL_CREATED_DT,\n",
       "    dk5.CAL_DAY_DT as SORL_CHANGED_DT,\n",
       "    dk6.CAL_DAY_DT as SORL_ORDERED_DT,\n",
       "    dk7.CAL_DAY_DT as SORL_BOOKED_DT,\n",
       "    dk8.CAL_DAY_DT as SORL_REQUIRED_DT,\n",
       "    dk9.CAL_DAY_DT as SORL_PURCHASE_ORDER_DT,\n",
       "    dk10.CAL_DAY_DT as SORL_PROMISED_DT,\n",
       "    dk11.CAL_DAY_DT as SORL_SHIPMENT_DT,--new\n",
       "    cast(dk9.FSC_QTR_NUM as INT) as FSC_QTR_NUM,\n",
       "    dk9.FSC_QTR_STR as FSC_QTR_STR,\n",
       "    cast(dk9.FSC_YEAR_STR as INT) as FSC_YEAR,\n",
       "\n",
       "    cast(prod.CREATED_ON_DK  as INT) as prod_CREATED_ON_DK, dk1.CAL_DAY_DT as prod_CREATED_DT,\n",
       "    cast(prod.CHANGED_ON_DK as INT) as prod_CHANGED_ON_DK, dk2.CAL_DAY_DT as prod_CHANGED_DT,\n",
       "    prod.PRODUCT_NUM as prod_PRODUCT_NUM,prod.PRODUCT_DESC as prod_PRODUCT_DESC,prod.ALT_PRODUCT_NUM as prod_ALT_PRODUCT_NUM,prod.UNIV_PROD_CODE as prod_UNIV_PROD_CODE,prod.PRODUCT_GRP_CODE as prod_PRODUCT_GRP_CODE,--Product Line\n",
       "    prod.PRODUCT_GRP_DESC as prod_PRODUCT_GRP_DESC,prod.PROD_HIER2_NAME as prod_PROD_HIER2_NAME,prod.PROD_HIER3_NAME as prod_PROD_HIER3_NAME,\n",
       "    prod.PROD_HIER4_NAME as prod_PROD_HIER4_NAME,--prod category\n",
       "    prod.PROD_HIER5_NAME as prod_PROD_HIER5_NAME,prod.DIVISION_DESC as prod_DIVISION_DESC,prod.UOW_CODE as prod_UOW_CODE,prod.UOW_DESC as prod_UOW_DESC,\n",
       "    cast(prod.UNIT_GROSS_WEIGHT as FLOAT) as prod_UNIT_GROSS_WEIGHT,cast(prod.UNIT_NET_WEIGHT as FLOAT) as prod_UNIT_NET_WEIGHT,prod.PROD_ATTR1_NAME as prod_PROD_ATTR1_NAME,prod.PROD_ATTR10_NAME as prod_PROD_ATTR10_NAME,prod.PROD_ATTR4_TEXT as prod_PROD_ATTR4_TEXT,prod.IA_INSERT_DT as prod_IA_INSERT_DT,prod.IA_UPDATE_DT as prod_IA_UPDATE_DT,prod.PLANNING_PL_CATEGORY as prod_PLANNING_PL_CATEGORY,cast(prod.FREIGHT_INDICATOR as INT) as prod_FREIGHT_INDICATOR,prod.SHIP_RATE as prod_SHIP_RATE,prod.SHIP_WEIGHT as prod_SHIP_WEIGHT,prod.CAREPACK_TYPE as prod_CAREPACK_TYPE,\n",
       "\n",
       "    prod_cat.Profit_Center_Code as \tprod_cat_Profit_Center_Code,\n",
       "    prod_cat.Profit_Center_S4 as \tprod_cat_Profit_Center_S4,\n",
       "    prod_cat.Profit_Center_Legacy as\tprod_cat_Profit_Center_Legacy,\n",
       "    prod_cat.Profit_Center_Description_L6 as\tprod_cat_Profit_Center_Description_L6,\n",
       "    --\"prod_cat.Sub-Sub_Category_L5\" as \tprod_cat_Sub_Sub_Category_L5,\n",
       "    --\"prod_cat.Sub-Category_L4\" as \tprod_cat_Sub_Category_L4,\n",
       "    `Sub-Sub_Category_L5` as \tprod_cat_Sub_Sub_Category_L5,\n",
       "    `Sub-Category_L4` as \tprod_cat_Sub_Category_L4,\n",
       "    prod_cat.Category_L3 as \tprod_cat_Category_L3,\n",
       "    prod_cat.Profit_Center_Level_2 as \tprod_cat_Profit_Center_Level_2,\n",
       "    prod_cat.Profit_Center_Level_1 as \tprod_cat_Profit_Center_Level_1,\n",
       "    prod_cat.IPG_External_reporting as \tprod_cat_IPG_External_reporting,\n",
       "    prod_cat.Segment as \tprod_cat_Segment,\n",
       "\n",
       "    --CUST.CUSTOMER_KEY as CUST_CUSTOMER_KEY,\n",
       "    cast(CUST.PROFILE1_KEY as INT) as CUST_PROFILE1_KEY,cast(CUST.PROFILE2_KEY as INT) as CUST_PROFILE2_KEY,cast(CUST.PROFILE3_KEY as INT) as CUST_PROFILE3_KEY,\n",
       "    dk12.CAL_DAY_DT as CUST_PROFILE1_DT,dk13.CAL_DAY_DT as CUST_PROFILE2_DT,dk14.CAL_DAY_DT as CUST_PROFILE3_DT,--new\n",
       "    cast(CUST.CHANGED_ON_DK as INT) as CUST_CHANGED_ON_DK,dk3.CAL_DAY_DT as CUST_CHANGED_DT,\n",
       "    CUST.CUSTOMER_NUM as CUST_CUSTOMER_NUM,CUST.CUSTOMER_NAME as CUST_CUSTOMER_NAME,\n",
       "    CUST.CUST_TYPE_CODE as CUST_CUST_TYPE_CODE, \n",
       "    --case when CUST.CUST_TYPE_CODE =\"R\" then \"Registered\" when CUST.CUST_TYPE_CODE =\"G\" then \"Guest\" end CUST_CUST_TYPE_CODE, but values having H1,H3,H6..\n",
       "    CUST.CUST_TYPE_NAME as CUST_CUST_TYPE_NAME,\n",
       "    CUST.CUST_CAT_CODE as CUST_CUST_CAT_CODE,--hp employee retiree flag\n",
       "    --case  when CUST.CUST_CAT_CODE =1 then \"Retiree\" else \"Non-Retiree\" end CUST_CUST_CAT_CODE,\n",
       "    CUST.CUST_CAT_NAME as CUST_CUST_CAT_NAME,--hp employee status\n",
       "    --case when CUST.CUST_CAT_NAME =0 then \"Active\" when CUST.CUST_CAT_NAME =1 then \"Inactive\" when CUST.CUST_CAT_NAME =2 then \"Retiree\" else \"Non-HP Employee\" end CUST_CUST_CAT_NAME,( but col is descriptve )\n",
       "    CUST.CUST_ATTR1_CODE as CUST_CUST_ATTR1_CODE,--city\n",
       "    CUST.CUST_ATTR1_NAME as CUST_CUST_ATTR1_NAME,--first name\n",
       "    CUST.CUST_ATTR2_CODE as CUST_CUST_ATTR2_CODE,--state\n",
       "    CUST.CUST_ATTR2_NAME as CUST_CUST_ATTR2_NAME,--last name\n",
       "    CUST.CUST_ATTR3_CODE as CUST_CUST_ATTR3_CODE,--zip code\n",
       "    CUST.CUST_ATTR3_NAME as CUST_CUST_ATTR3_NAME,--street address\n",
       "    CUST.CUST_ATTR4_CODE as CUST_CUST_ATTR4_CODE,--customer phone number\n",
       "    CUST.CUST_ATTR5_TEXT as CUST_CUST_ATTR5_TEXT,--email address\n",
       "    CUST.IA_INSERT_DT as CUST_IA_INSERT_DT,CUST.IA_UPDATE_DT as CUST_IA_UPDATE_DT,\n",
       "    --CUST.CUST_FLAG as CUST_CUST_FLAG,\n",
       "    nullif(CUST.CUST_FLAG, \"NA\") as  CUST_CUST_FLAG,\n",
       "    --case when CUST.CUST_FLAG =\"B\" then \"SMB Registered\" when CUST.CUST_FLAG =\"C\" then \"Consumer Registered\"  when CUST.CUST_FLAG =\"NA\" then \"Guest\" end CUST_CUST_FLAG,\n",
       "    CUST.SMB_COMP_NAME as CUST_SMB_COMP_NAME,\n",
       "    cast(CUST.SAVED_CC_COUNT as INT) as CUST_SAVED_CC_COUNT,\n",
       "    cast(CUST.CUST_HIER1_CODE as INT) as CUST_CUST_HIER1_CODE,\n",
       "    --CUST.CUST_HIER1_NAME as CUST_CUST_HIER1_NAME,\n",
       "    CUST.CUST_TYPE as CUST_CUST_TYPE,\n",
       "    CUST.CUST_HIER3_CODE as CUST_CUST_HIER3_CODE,\n",
       "    CUST.CUST_HIER3_NAME as CUST_CUST_HIER3_NAME,\n",
       "    CUST.CUST_HIER4_CODE as CUST_CUST_HIER4_CODE,\n",
       "    CUST.CUST_HIER5_NAME as CUST_CUST_HIER5_NAME,--email\n",
       "    CUST.LOYALTY_USER_FLAG as CUST_LOYALTY_USER_FLAG,\n",
       "    CUST.LOYALTY_REGISTRATION_DATE as CUST_LOYALTY_REGISTRATION_DATE,\n",
       "    CUST.CUST_ATTR2_TEXT as CUST_CUST_ATTR2_TEXT,\n",
       "    CUST.CUST_ATTR3_TEXT as CUST_CUST_ATTR3_TEXT,\n",
       "    CUST.CUST_ATTR4_NAME as CUST_CUST_ATTR4_NAME,\n",
       "    CUST.CUST_ATTR9_NAME as CUST_CUST_ATTR9_NAME,\n",
       "    CUST.IDME_GROUP as CUST_IDME_GROUP,\n",
       "\n",
       "    --sorl.CUST_SHIP_TO_KEY as sorl_CUST_SHIP_TO_KEY,\n",
       "    cast(SHIPTO_LOC.CUST_LOC_KEY as long) as SHIPTO_CUST_LOC_KEY,\n",
       "    SHIPTO_LOC.ADDRESS_NUM as SHIPTO_ADDRESS_NUM,SHIPTO_LOC.LOCATION_TYPE as SHIPTO_LOCATION_TYPE,SHIPTO_LOC.STREET_NAME as SHIPTO_STREET_NAME,SHIPTO_LOC.CITY_NAME as SHIPTO_CITY_NAME,SHIPTO_LOC.STATE_CODE as SHIPTO_STATE_CODE,SHIPTO_LOC.STATE_NAME as SHIPTO_STATE_NAME,SHIPTO_LOC.COUNTRY_CODE as SHIPTO_COUNTRY_CODE,SHIPTO_LOC.COUNTY_CODE as SHIPTO_COUNTY_CODE,SHIPTO_LOC.POSTAL_CODE as SHIPTO_POSTAL_CODE,SHIPTO_LOC.PHONE_NUM as SHIPTO_PHONE_NUM,SHIPTO_LOC.EMAIL_ADDRESS as SHIPTO_EMAIL_ADDRESS,SHIPTO_LOC.PRMRY_CNTCT_NAME as SHIPTO_PRMRY_CNTCT_NAME,SHIPTO_LOC.CLOC_ATTR3_NAME as SHIPTO_CLOC_ATTR3_NAME,SHIPTO_LOC.CLOC_ATTR5_NAME as SHIPTO_CLOC_ATTR5_NAME,SHIPTO_LOC.IA_INSERT_DT as SHIPTO_IA_INSERT_DT,SHIPTO_LOC.IA_UPDATE_DT as SHIPTO_IA_UPDATE_DT,SHIPTO_LOC.SMB_COMP_NAME as SHIPTO_SMB_COMP_NAME,\n",
       "\n",
       "    --sorl.CUST_BILL_TO_KEY as sorl_CUST_BILL_TO_KEY,\n",
       "    cast(BILLTO_LOC.CUST_LOC_KEY as long) as BILLTO_CUST_LOC_KEY,cast(BILLTO_LOC.CUSTOMER_KEY as long) as BILLTO_CUSTOMER_KEY,BILLTO_LOC.ADDRESS_NUM as BILLTO_ADDRESS_NUM,BILLTO_LOC.LOCATION_TYPE as BILLTO_LOCATION_TYPE,BILLTO_LOC.STREET_NAME as BILLTO_STREET_NAME,BILLTO_LOC.CITY_NAME as BILLTO_CITY_NAME,BILLTO_LOC.STATE_CODE as BILLTO_STATE_CODE,BILLTO_LOC.STATE_NAME as BILLTO_STATE_NAME,BILLTO_LOC.COUNTRY_CODE as BILLTO_COUNTRY_CODE,BILLTO_LOC.COUNTY_CODE as BILLTO_COUNTY_CODE,BILLTO_LOC.POSTAL_CODE as BILLTO_POSTAL_CODE,BILLTO_LOC.PHONE_NUM as BILLTO_PHONE_NUM,BILLTO_LOC.EMAIL_ADDRESS as BILLTO_EMAIL_ADDRESS,BILLTO_LOC.PRMRY_CNTCT_NAME as BILLTO_PRMRY_CNTCT_NAME,\n",
       "    --BILLTO_LOC.CLOC_ATTR3_NAME as BILLTO_CLOC_ATTR3_NAME,BILLTO_LOC.CLOC_ATTR5_NAME as BILLTO_CLOC_ATTR5_NAME,\n",
       "    BILLTO_LOC.IA_INSERT_DT as BILLTO_IA_INSERT_DT,BILLTO_LOC.IA_UPDATE_DT as BILLTO_IA_UPDATE_DT,BILLTO_LOC.SMB_COMP_NAME as BILLTO_SMB_COMP_NAME,\n",
       "\n",
       "    -- cast(gift_card.GIFT_CARD_NUM as LONG) as gift_GIFT_CARD_NUM,\n",
       "    -- cast(gift_card.GIFT_CARD_KEY as INT) as gift_GIFT_CARD_KEY,\n",
       "    -- cast(gift_card.CUST_BILL_TO_KEY as long) as gift_CUST_BILL_TO_KEY,\n",
       "    -- cast(gift_card.CUST_SHIP_TO_KEY as long) as gift_CUST_SHIP_TO_KEY,\n",
       "    -- cast(gift_card.ORDER_TYPE_KEY as INT) as gift_ORDER_TYPE_KEY,\n",
       "    -- cast(gift_card.ITEM_STATUS_KEY as INT) as gift_ITEM_STATUS_KEY,\n",
       "    -- cast(gift_card.SHIPPED_ON_DK as INT) as gift_SHIPPED_ON_DK,\n",
       "    -- cast(gift_card.INV_ON_DK as INT) as gift_INV_ON_DK,\n",
       "    -- cast(gift_card.PRODUCT_KEY as INT) as gift_PRODUCT_KEY,\n",
       "    -- cast(gift_card.SALES_OFFICE_KEY as INT) as gift_SALES_OFFICE_KEY,\n",
       "    -- cast(gift_card.DIST_CHANNEL_KEY as INT) as gift_DIST_CHANNEL_KEY,\n",
       "    -- cast(gift_card.AGENT_KEY as INT) as gift_AGENT_KEY,\n",
       "    -- cast(gift_card.PAYMENT_TYPE1_KEY as INT) as gift_PAYMENT_TYPE1_KEY,\n",
       "    -- cast(gift_card.PAYMENT_TYPE3_KEY as INT) as gift_PAYMENT_TYPE3_KEY,\n",
       "    -- cast(gift_card.GIFT_CARD_STATUS_KEY as INT) as gift_GIFT_CARD_STATUS_KEY,\n",
       "    -- cast(gift_card.GIFT_CARD_TYPE_KEY as INT) as gift_GIFT_CARD_TYPE_KEY,\n",
       "    -- cast(gift_card.LAST_ACT_KEY as INT) as gift_LAST_ACT_KEY,\n",
       "    -- cast(gift_card.REBATE_ORDER_KEY as INT) as gift_REBATE_ORDER_KEY,\n",
       "\n",
       "    -- gift_card.SALES_ORDER_NUM as gift_SALES_ORDER_NUM,\n",
       "    -- cast(gift_card.SALES_ORDER_ITEM as INT) as gift_SALES_ORDER_ITEM,\n",
       "    -- gift_card.BV_ORDER_NUM as gift_BV_ORDER_NUM,gift_card.FIRST_RDM_DT as gift_FIRST_RDM_DT,gift_card.FIRST_RDM_ODR_NUM as gift_FIRST_RDM_ODR_NUM,\n",
       "    -- cast(gift_card.FIRST_RDM_AMT as FLOAT) as gift_FIRST_RDM_AMT,\n",
       "    -- gift_card.LAST_RDM_DT as gift_LAST_RDM_DT,gift_card.LAST_RDM_ODR_NUM as gift_LAST_RDM_ODR_NUM,\n",
       "    -- cast(gift_card.LAST_RDM_AMT as FLOAT) as gift_LAST_RDM_AMT,\n",
       "    -- gift_card.SHIPPED_TO_STATE_CD as gift_SHIPPED_TO_STATE_CD,gift_card.LAST_USAGE_DT as gift_LAST_USAGE_DT,\n",
       "    -- cast(gift_card.GIFT_CARD_ORIG_AMT as FLOAT) as gift_GIFT_CARD_ORIG_AMT,\n",
       "    -- cast(gift_card.GIFT_CARD_RDM_AMT as FLOAT) as gift_GIFT_CARD_RDM_AMT,\n",
       "    -- cast(gift_card.GIFT_CARD_AVAIL_AMT as FLOAT) as gift_GIFT_CARD_AVAIL_AMT,\n",
       "    -- cast(gift_card.REDEEM_ACT_CNT as INT) as gift_REDEEM_ACT_CNT ,gift_card.IA_INSERT_DT as gift_IA_INSERT_DT,gift_card.IA_UPDATE_DT as gift_IA_UPDATE_DT,\n",
       "    -- cast(gift_card.COUPON_DISC_AMT as FLOAT) as gift_COUPON_DISC_AMT,\n",
       "    -- cast(gift_card.INSTANT_REBATE_DISC_AMT as FLOAT) as gift_INSTANT_REBATE_DISC_AMT,\n",
       "    -- cast(gift_card.COUPON_KEY as LONG) as gift_COUPON_KEY,\n",
       "\n",
       "    -- cast(GIFT_CARD_STATUS.GIFT_CARD_STATUS_CODE_KEY as INT) as GIFT_CARD_STATUS_GIFT_CARD_STATUS_CODE_KEY,cast(GIFT_CARD_STATUS.STATUS_CODE as INT) as GIFT_CARD_STATUS_STATUS_CODE,GIFT_CARD_STATUS.STATUS_DESC as GIFT_CARD_STATUS_STATUS_DESC,GIFT_CARD_STATUS.STATUS_NAME as GIFT_CARD_STATUS_STATUS_NAME,\n",
       "\n",
       "    -- cast(GIFT_CARD_TYPE.GIFT_CARD_TYPE_CODE as INT) as GIFT_CARD_TYPE_GIFT_CARD_TYPE_CODE,GIFT_CARD_TYPE.GIFT_CARD_TYPE_DESC as GIFT_CARD_TYPE_GIFT_CARD_TYPE_DESC,\n",
       "    --GIFT_CARD_TYPE.GIFT_CARD_TYPE_KEY as GIFT_CARD_TYPE_GIFT_CARD_TYPE_KEY\n",
       "\n",
       "    -- cast(GIFT_CARD_ACTIVITY.GIFT_CARD_ACTIVITY_CODE as INT) as GIFT_CARD_ACTIVITY_GIFT_CARD_ACTIVITY_CODE,\n",
       "    -- --GIFT_CARD_ACTIVITY.GIFT_CARD_ACTIVITY_CODE_KEY as GIFT_CARD_ACTIVITY_GIFT_CARD_ACTIVITY_CODE_KEY,\n",
       "    -- GIFT_CARD_ACTIVITY.GIFT_CARD_ACTIVITY_DESC as GIFT_CARD_ACTIVITY_GIFT_CARD_ACTIVITY_DESC,GIFT_CARD_ACTIVITY.GIFT_CARD_ACTIVITY_NAME as GIFT_CARD_ACTIVITY_GIFT_CARD_ACTIVITY_NAME,\n",
       "\n",
       "    -- gcd_pay1.SOURCE_DESC_1 as gcd_pay1_SOURCE_DESC_1,gcd_pay1.CATEGORY as gcd_pay1_CATEGORY,gcd_pay1.SOURCE_CODE_2 as gcd_pay1_SOURCE_CODE_2,gcd_pay1.SOURCE_DESC_2\n",
       "    -- as gcd_pay1_SOURCE_DESC_2,gcd_pay1.MASTER_CODE as gcd_pay1_MASTER_CODE,\tgcd_pay1.MASTER_VALUE as gcd_pay1_MASTER_VALUE,\n",
       "\n",
       "\n",
       "    -- gcd_pay3.SOURCE_DESC_1 as gcd_pay3_SOURCE_DESC_1,gcd_pay3.CATEGORY as gcd_pay3_CATEGORY,gcd_pay3.SOURCE_CODE_2 as gcd_pay3_SOURCE_CODE_2,gcd_pay3.SOURCE_DESC_2\n",
       "    -- as gcd_pay3_SOURCE_DESC_2,gcd_pay3.MASTER_CODE as gcd_pay3_MASTER_CODE,\tgcd_pay3.MASTER_VALUE as gcd_pay3_MASTER_VALUE,\n",
       "\n",
       "    --sorl.COUPON_KEY as sorl_COUPON_KEY,\n",
       "    COUPON.COUPON_CODE as COUPON_COUPON_CODE,\n",
       "    COUPON.INCENTIVE_NAME as COUPON_INCENTIVE_NAME,\n",
       "    COUPON.INCENTIVE_DESC as COUPON_INCENTIVE_DESC,\n",
       "    COUPON.RDM_START_DT as COUPON_RDM_START_DT,\n",
       "    COUPON.RDM_STOP_DT as COUPON_RDM_STOP_DT,\n",
       "    cast(COUPON.DISCOUNT_VALUE as INT) as COUPON_DISCOUNT_VALUE,\n",
       "    COUPON.SPONSOR as COUPON_SPONSOR,\n",
       "    COUPON.IA_INSERT_DT as COUPON_IA_INSERT_DT,\n",
       "    COUPON.IA_UPDATE_DT as COUPON_IA_UPDATE_DT,\n",
       "\n",
       "    PLANT.BUSN_LOC_TYPE as PLANT_BUSN_LOC_TYPE,PLANT.BUSN_LOC_NUM as PLANT_BUSN_LOC_NUM,PLANT.BUSN_LOC_NAME as PLANT_BUSN_LOC_NAME,PLANT.PARENT_LOC_NUM as PLANT_PARENT_LOC_NUM,PLANT.PARENT_LOC_NAME  as PLANT_PARENT_LOC_NAME ,PLANT.STREET_NUM as PLANT_STREET_NUM,PLANT.STREET_NAME  as PLANT_STREET_NAME ,PLANT.CITY_NAME as PLANT_CITY_NAME,PLANT.STATE_CODE as PLANT_STATE_CODE,PLANT.STATE_NAME as PLANT_STATE_NAME,PLANT.REGION_CODE as PLANT_REGION_CODE,PLANT.REGION_NAME as PLANT_REGION_NAME,PLANT.COUNTRY_CODE as PLANT_COUNTRY_CODE,PLANT.COUNTRY_NAME as PLANT_COUNTRY_NAME,PLANT.POSTAL_CODE as PLANT_POSTAL_CODE,\n",
       "\n",
       "    --SALES_AREA.BUSN_ORG_KEY as SALES_AREA_BUSN_ORG_KEY,\n",
       "    SALES_AREA.BUSN_ORG_TYPE as SALES_AREA_BUSN_ORG_TYPE,SALES_AREA.BORG_HIER2_CODE as SALES_AREA_BORG_HIER2_CODE,SALES_AREA.BORG_HIER2_NAME as SALES_AREA_BORG_HIER2_NAME,\n",
       "\n",
       "    --SALES_GEO.BUSN_ORG_KEY as SALES_GEO_BUSN_ORG_KEY,\n",
       "    SALES_GEO.BUSN_ORG_TYPE as SALES_GEO_BUSN_ORG_TYPE,SALES_GEO.BORG_HIER2_CODE as SALES_GEO_BORG_HIER2_CODE,SALES_GEO.BORG_HIER2_NAME as SALES_GEO_BORG_HIER2_NAME,\n",
       "\n",
       "    XACT.XACT_CODE as XACT_XACT_CODE,XACT.XACT_TYPE_CODE as XACT_XACT_TYPE_CODE,XACT.XACT_TYPE_DESC as XACT_XACT_TYPE_DESC,XACT.IA_XACT_TYPE_CODE as XACT_IA_XACT_TYPE_CODE,XACT.IA_XACT_TYPE_DESC as XACT_IA_XACT_TYPE_DESC,\n",
       "\n",
       "    CODES.SOURCE_DESC_1 as CODES_SOURCE_DESC_1,CODES.CATEGORY as CODES_CATEGORY,CODES.SOURCE_CODE_2 as CODES_SOURCE_CODE_2,CODES.SOURCE_DESC_2\n",
       "    as CODES_SOURCE_DESC_2,CODES.MASTER_CODE as CODES_MASTER_CODE,\tCODES.MASTER_VALUE as CODES_MASTER_VALUE,\n",
       "\n",
       "    item_cat.SOURCE_DESC_1 as item_cat_SOURCE_DESC_1,item_cat.CATEGORY as item_cat_CATEGORY,item_cat.SOURCE_CODE_2 as item_cat_SOURCE_CODE_2,item_cat.SOURCE_DESC_2\n",
       "    as item_cat_SOURCE_DESC_2,item_cat.MASTER_CODE as item_cat_MASTER_CODE,\titem_cat.MASTER_VALUE as item_cat_MASTER_VALUE,\n",
       "\n",
       "    STATUS4.STATUS_TYPE as STATUS4_STATUS_TYPE,STATUS4.STATUS_NAME as STATUS4_STATUS_NAME,STATUS4.STATUS_DESC as STATUS4_STATUS_DESC,STATUS4.STATUS_CAT_CODE as STATUS4_STATUS_CAT_CODE,\n",
       "    STATUS4.STAT_ATTR3_NAME\t as STATUS4_STAT_ATTR3_NAME,STATUS4.STAT_ATTR1_TEXT as STATUS4_STAT_ATTR1_TEXT,\n",
       "\n",
       "    STATUS.STATUS_TYPE as STATUS_STATUS_TYPE,STATUS.STATUS_NAME as STATUS_STATUS_NAME,STATUS.STATUS_DESC as STATUS_STATUS_DESC,STATUS.STATUS_CAT_CODE as STATUS_STATUS_CAT_CODE,\n",
       "    STATUS.STAT_ATTR3_NAME\t as STATUS_STAT_ATTR3_NAME,STATUS.STAT_ATTR1_TEXT as STATUS_STAT_ATTR1_TEXT,\n",
       "\n",
       "    cast(aff.AO_ID as INT) as aff_AO_ID,aff.AFF_DESCRIPTION as aff_AFF_DESCRIPTION,aff.AFF_PARTNER as aff_AFF_PARTNER,aff.AFF_SITE_URL as aff_AFF_SITE_URL,aff.AFF_LOCATION as aff_AFF_LOCATION,aff.AFF_LOCATION_URL as aff_AFF_LOCATION_URL,aff.ETR_IDENTIFIER as aff_ETR_IDENTIFIER,\n",
       "\n",
       "    ret.SOURCE_DESC_1 as ret_SOURCE_DESC_1,ret.CATEGORY as ret_CATEGORY,\n",
       "    ret.SOURCE_CODE_2 as ret_SOURCE_CODE_2,ret.SOURCE_DESC_2\n",
       "    as ret_SOURCE_DESC_2,ret.MASTER_CODE as ret_MASTER_CODE,\tret.MASTER_VALUE as ret_MASTER_VALUE,\n",
       "\n",
       "    PAY1.SOURCE_DESC_1 as PAY1_SOURCE_DESC_1,PAY1.CATEGORY as PAY1_CATEGORY,\n",
       "    PAY1.SOURCE_CODE_2 as PAY1_SOURCE_CODE_2,PAY1.SOURCE_DESC_2\n",
       "    as PAY1_SOURCE_DESC_2,PAY1.MASTER_CODE as PAY1_MASTER_CODE,\tPAY1.MASTER_VALUE as PAY1_MASTER_VALUE,\n",
       "\n",
       "    PAY2.SOURCE_DESC_1 as PAY2_SOURCE_DESC_1,PAY2.CATEGORY as PAY2_CATEGORY,\n",
       "    PAY2.SOURCE_CODE_2 as PAY2_SOURCE_CODE_2,PAY2.SOURCE_DESC_2\n",
       "    as PAY2_SOURCE_DESC_2,PAY2.MASTER_CODE as PAY2_MASTER_CODE,\tPAY2.MASTER_VALUE as PAY2_MASTER_VALUE,\n",
       "\n",
       "    PAY3.SOURCE_DESC_1 as PAY3_SOURCE_DESC_1,PAY3.CATEGORY as PAY3_CATEGORY,\n",
       "    PAY3.SOURCE_CODE_2 as PAY3_SOURCE_CODE_2,PAY3.SOURCE_DESC_2\n",
       "    as PAY3_SOURCE_DESC_2,PAY3.MASTER_CODE as PAY3_MASTER_CODE,\tPAY3.MASTER_VALUE as PAY3_MASTER_VALUE,\n",
       "\n",
       "    P_PAY1.SOURCE_DESC_1 as P_PAY1_SOURCE_DESC_1,P_PAY1.CATEGORY as P_PAY1_CATEGORY,\n",
       "    P_PAY1.SOURCE_CODE_2 as P_PAY1_SOURCE_CODE_2,P_PAY1.SOURCE_DESC_2\n",
       "    as P_PAY1_SOURCE_DESC_2,P_PAY1.MASTER_CODE as P_PAY1_MASTER_CODE,\tP_PAY1.MASTER_VALUE as P_PAY1_MASTER_VALUE,\n",
       "\n",
       "    P_PAY3.SOURCE_DESC_1 as P_PAY3_SOURCE_DESC_1,P_PAY3.CATEGORY as P_PAY3_CATEGORY,\n",
       "    P_PAY3.SOURCE_CODE_2 as P_PAY3_SOURCE_CODE_2,P_PAY3.SOURCE_DESC_2\n",
       "    as P_PAY3SOURCE_DESC_2,P_PAY3.MASTER_CODE as P_PAY3_MASTER_CODE,\tP_PAY3.MASTER_VALUE as P_PAY3_MASTER_VALUE,\n",
       "\n",
       "    ship.CARRIER_NAME as ship_CARRIER_NAME,ship.DESCRIPTION as ship_DESCRIPTION,cast(ship.PREFERENCE_ORDER as INT) as ship_PREFERENCE_ORDER\n",
       "\n",
       "    from stg_hhobi.hhobi_bronze.ia_sales_ordlns sorl\n",
       "    left join stg_hhobi.hhobi_bronze.ia_sales_ordlns sorl_2  on sorl.SALES_ORDLN_KEY =sorl_2.P_SALES_ORDLN_KEY -- to add flag_returned column\n",
       "\n",
       "    left join stg_hhobi.hhobi_bronze.ia_products prod on sorl.PRODUCT_KEY=prod.PRODUCT_KEY\n",
       "    left   join stg_hhobi.hhobi_bronze.product_category prod_cat  on prod.PRODUCT_GRP_CODE =prod_cat.Profit_Center_Code\n",
       "\n",
       "    left join stg_hhobi.hhobi_bronze.ia_dates dk1 on prod.CREATED_ON_DK=dk1.date_key\n",
       "    left join stg_hhobi.hhobi_bronze.ia_dates dk2 on prod.CHANGED_ON_DK=dk2.date_key\n",
       "    left join stg_hhobi.hhobi_bronze.IA_CUSTOMERS CUST on sorl.CUSTOMER_KEY=CUST.CUSTOMER_KEY\n",
       "    left join stg_hhobi.hhobi_bronze.ia_dates dk3 on cust.CHANGED_ON_DK=dk3.date_key\n",
       "    left join stg_hhobi.hhobi_bronze.ia_dates dk4 on sorl.CREATED_ON_DK=dk4.date_key\n",
       "    left join stg_hhobi.hhobi_bronze.ia_dates dk5 on sorl.CHANGED_ON_DK=dk5.date_key\n",
       "    left join stg_hhobi.hhobi_bronze.ia_dates dk6 on sorl.ORDERED_ON_DK=dk6.date_key\n",
       "    left join stg_hhobi.hhobi_bronze.ia_dates dk7 on sorl.BOOKED_ON_DK=dk7.date_key\n",
       "    left join stg_hhobi.hhobi_bronze.ia_dates dk8 on sorl.REQUIRED_BY_DK=dk8.date_key\n",
       "    left join stg_hhobi.hhobi_bronze.ia_dates dk9 on sorl.PURCH_ORDER_DK=dk9.date_key\n",
       "    left join stg_hhobi.hhobi_bronze.ia_dates dk10 on sorl.PROMISED_ON_DK=dk10.date_key\n",
       "    left join stg_hhobi.hhobi_bronze.ia_dates dk11 on sorl.SORL_DATE1_DK=dk11.date_key--new\n",
       "    left join stg_hhobi.hhobi_bronze.ia_dates dk12 on cust.PROFILE1_KEY=dk12.date_key\n",
       "    left join stg_hhobi.hhobi_bronze.ia_dates dk13 on cust.PROFILE2_KEY=dk13.date_key\n",
       "    left join stg_hhobi.hhobi_bronze.ia_dates dk14 on cust.PROFILE3_KEY=dk14.date_key\n",
       "\n",
       "    left join stg_hhobi.hhobi_bronze.IA_CUST_LOCS SHIPTO_LOC on sorl.CUST_SHIP_TO_KEY=SHIPTO_LOC.CUST_LOC_KEY and SHIPTO_LOC.CUSTOMER_KEY=CUST.CUSTOMER_KEY\n",
       "\n",
       "    and  SHIPTO_LOC.location_type=\"SHIP_TO\" \n",
       "\n",
       "    left join stg_hhobi.hhobi_bronze.IA_CUST_LOCS BILLTO_LOC on sorl.CUST_BILL_TO_KEY=BILLTO_LOC.CUST_LOC_KEY and BILLTO_LOC.CUSTOMER_KEY=CUST.CUSTOMER_KEY\n",
       "    and  BILLTO_LOC.location_type=\"BILL_TO\" \n",
       "\n",
       "    --left join  ia_hp_gift_card_redeem_order_expl gift_rdm on lower(sorl.purch_order_num)=lower(gift_rdm.REDEEM_PURCH_ORDER_NUM)\n",
       "    -- left join  stg_hhobi.hhobi_bronze.ia_hp_gift_card_redeem_order gift_rdm on int(sorl.GC_REDEEM_ORDER_KEY)=int(gift_rdm.GC_REDEEM_ORDER_KEY)\n",
       "\n",
       "    -- left join stg_hhobi.hhobi_bronze.IA_HP_GIFT_CARD_DETAILS gift_card  on  int(gift_card.GIFT_CARD_KEY)=int(gift_rdm.GC_REDEEM_ORDER_KEY) \n",
       "\n",
       "    -- left join stg_hhobi.hhobi_bronze.IA_HP_GIFT_CARD_STATUS_CODE GIFT_CARD_STATUS  on gift_card.GIFT_CARD_STATUS_KEY =GIFT_CARD_STATUS.GIFT_CARD_STATUS_CODE_KEY\n",
       "    -- left join stg_hhobi.hhobi_bronze.IA_HP_GIFT_CARD_TYPE GIFT_CARD_TYPE  on gift_card.GIFT_CARD_TYPE_KEY= GIFT_CARD_TYPE.GIFT_CARD_TYPE_KEY\n",
       "    -- left join stg_hhobi.hhobi_bronze.IA_HP_GIFT_CARD_ACTIVITY_CODE GIFT_CARD_ACTIVITY  on gift_card.LAST_ACT_KEY= GIFT_CARD_ACTIVITY.GIFT_CARD_ACTIVITY_CODE_KEY\n",
       "\n",
       "    left join stg_hhobi.hhobi_bronze.IA_HP_COUPONS coupon  on sorl.COUPON_KEY=coupon.COUPON_KEY\n",
       "\n",
       "    left join stg_hhobi.hhobi_bronze.IA_BUSN_LOCS PLANT  on sorl.PLANT_LOC_KEY=PLANT.BUSN_LOC_KEY and PLANT.BUSN_LOC_TYPE =\"PLANT\"\n",
       "\n",
       "    left join stg_hhobi.hhobi_bronze.IA_BUSN_ORGS SALES_AREA  on sorl.SALES_AREA_ORG_KEY=SALES_AREA.BUSN_ORG_KEY and SALES_AREA.BUSN_ORG_TYPE =\"SALES_AREA\"\n",
       "    left join stg_hhobi.hhobi_bronze.IA_BUSN_ORGS SALES_GEO  on sorl.SALES_GEO_ORG_KEY=SALES_GEO.BUSN_ORG_KEY and SALES_GEO.BUSN_ORG_TYPE =\"SALES_GEOGRAPHY\"\n",
       "\n",
       "    left join stg_hhobi.hhobi_bronze.IA_XACT_TYPES XACT  on sorl.XACT_TYPE_KEY=XACT.XACT_TYPE_KEY\n",
       "    left join stg_hhobi.hhobi_bronze.IA_CODES CODES  on sorl.SORL_DIM3_KEY=CODES.SOURCE_CODE_1 and CODES.CATEGORY =\"PAYMENT_TYPE\"\n",
       "    left join stg_hhobi.hhobi_bronze.IA_STATUS STATUS4  on sorl.SORL_DIM4_KEY=STATUS4.STATUS_KEY and STATUS4.STATUS_TYPE =\"SALES_ORDLNS\"\n",
       "    left join stg_hhobi.hhobi_bronze.IA_STATUS STATUS  on sorl.ORDER_STATUS_KEY=STATUS.STATUS_KEY and STATUS.STATUS_TYPE =\"SALES_ORDER_PROCESS\"\n",
       "    left join stg_hhobi.hhobi_bronze.IA_HP_AFFILIATE aff  on sorl.SORL_DIM5_KEY=aff.AO_ID\n",
       "    left join stg_hhobi.hhobi_bronze.ia_codes ret  on sorl.SORL_ATTR2_CODE =ret.SOURCE_CODE_1 and ret.CATEGORY =\"REASON_FOR_RETURN\"\n",
       "\n",
       "    left join stg_hhobi.hhobi_bronze.IA_CODES PAY1  on int(sorl.PAYMENT_TYPE1_KEY)=int(PAY1.SOURCE_CODE_1) and PAY1.CATEGORY =\"PAYMENT_TYPE\"\n",
       "    left join stg_hhobi.hhobi_bronze.IA_CODES PAY2  on int(sorl.PAYMENT_TYPE2_KEY)=int(PAY2.SOURCE_CODE_1) and PAY2.CATEGORY =\"PAYMENT_TYPE\"\n",
       "    left join stg_hhobi.hhobi_bronze.IA_CODES PAY3  on int(sorl.PAYMENT_TYPE3_KEY)=int(PAY3.SOURCE_CODE_1) and PAY3.CATEGORY =\"PAYMENT_TYPE\"\n",
       "\n",
       "    left join stg_hhobi.hhobi_bronze.IA_CODES P_PAY1  on int(sorl.P_PAYMENT_TYPE1_KEY)=int(P_PAY1.SOURCE_CODE_1) and P_PAY1.CATEGORY =\"PAYMENT_TYPE\"\n",
       "    left join stg_hhobi.hhobi_bronze.IA_CODES P_PAY3  on int(sorl.P_PAYMENT_TYPE3_KEY)=int(P_PAY3.SOURCE_CODE_1) and P_PAY3.CATEGORY =\"PAYMENT_TYPE\"\n",
       "\n",
       "    left join stg_hhobi.hhobi_bronze.IA_HP_CARRIER_SHIP_METHODS ship  on sorl.SORL_DIM2_KEY =ship.ID\n",
       "\n",
       "    -- left join stg_hhobi.hhobi_bronze.IA_CODES gcd_pay1 on int(gift_card.PAYMENT_TYPE1_KEY)=int(gcd_pay1.SOURCE_CODE_1) and gcd_pay1.CATEGORY =\"PAYMENT_TYPE\"\n",
       "    -- left join stg_hhobi.hhobi_bronze.IA_CODES gcd_pay3 on int(gift_card.PAYMENT_TYPE3_KEY)=int(gcd_pay3.SOURCE_CODE_1) and gcd_pay3.CATEGORY =\"PAYMENT_TYPE\"\n",
       "    left join stg_hhobi.hhobi_bronze.ia_codes item_cat  on sorl.SORL_ATTR3_CODE =item_cat.SOURCE_CODE_1 and item_cat.CATEGORY =\"ITEM_CATEGORY\"\n",
       "\n",
       "    where  sorl.IA_UPDATE_DT >= \"{}\" </td><td>merge</td><td>NA</td><td>Map(ColumnName -> IA_UPDATE_DT, Delta -> 0, cdcCondition -> (trunc(IA_INSERT_DT) >= {}) OR (trunc(IA_update_DT) >= {}))</td><td>NA</td><td>Map(ColumnName -> NA)</td><td>Map(ColumnName -> NA)</td><td>Y</td><td>NA</td><td>NA</td><td>NA</td><td>NA</td><td>N</td><td>Map(recurrence -> monthly, splitColumn -> IA_UPDATE_DT)</td><td>Running</td><td>null</td><td>null</td><td>null</td><td>null</td></tr><tr><td>A-A1-A102</td><td>51</td><td>IA_HP_LOYALTY_EARNED_POINTS</td><td>14</td><td>LDATA_ID</td><td>Map(ColumnName -> NA, tablesize -> small)</td><td>NA</td><td>List(NA)</td><td>prod_hhobi.hhobi_in.IA_HP_LOYALTY_EARNED_POINTS</td><td>NA</td><td>(select * FROM { where    trunc(IA_INSERT_DT) >= { or trunc(IA_update_DT) >= { ) fetchsize -> 100000</td><td>merge</td><td>NA</td><td>Map(ColumnName -> IA_UPDATE_DT, Delta -> 0, cdcCondition -> (trunc(IA_INSERT_DT) >= {}) OR (trunc(IA_update_DT) >= {}))</td><td>NA</td><td>Map(ColumnName -> NA)</td><td>Map(ColumnName -> NA)</td><td>Y</td><td>NA</td><td>NA</td><td>NA</td><td>NA</td><td>N</td><td>Map(recurrence -> monthly, splitColumn -> IA_UPDATE_DT)</td><td>Completed</td><td>null</td><td>null</td><td>null</td><td>null</td></tr><tr><td>A-A1-A104</td><td>52</td><td>customer_131</td><td>null</td><td>LDATA_ID</td><td>Map(ColumnName -> NA, tablesize -> small)</td><td>NA</td><td>List(NA)</td><td>BIDW.customers</td><td>NA</td><td></td><td>Incremental</td><td>merge</td><td>Map(ColumnName -> IA_UPDATE_DT, Delta -> 3, cdcCondition -> (IA_UPDATE_DT>= to_date({}, 'YYYY-MM-DD HH24:MI:SS') or IA_INSERT_DT>= to_date({}, 'YYYY-MM-DD HH24:MI:SS')))</td><td>NA</td><td>Map(ColumnName -> NA)</td><td>Map(ColumnName -> NA)</td><td>Y</td><td>NA</td><td>NA</td><td>NA</td><td>NA</td><td>N</td><td>Map(recurrence -> monthly, splitColumn -> IA_UPDATE_DT)</td><td>Completed</td><td>Map(dec_dir -> /Volumes/inbound/fdl_itg/s2s_ext_itg/decrypted/testing_31/, file_pattern -> ANALYTICS_CUSTOMER_BASE_EXTRACT, is_zipped -> Y, file_format -> csv, is_encrypted -> Y, working_dir -> /Volumes/inbound/fdl_itg/s2s_ext_itg/source_files, unzip_dir -> /Volumes/inbound/fdl_itg/s2s_ext_itg/unzip/testing_31/)</td><td>NA</td><td>null</td><td>null</td></tr><tr><td>A-A1-A102</td><td>54</td><td>IA_HP_AGENTS</td><td>null</td><td>NA</td><td>Map(ColumnName -> NA, tablesize -> small)</td><td>NA</td><td>List(NA)</td><td>prod_hhobi.hhobi_in.IA_HP_AGENTS</td><td>NA</td><td></td><td>Full Refresh</td><td>NA</td><td>Map(ColumnName -> IA_UPDATE_DT, Delta -> 3, cdcCondition -> (trunc(IA_INSERT_DT) >= {}) OR (trunc(IA_update_DT) >= {}))</td><td>NA</td><td>Map(ColumnName -> NA)</td><td>Map(ColumnName -> NA)</td><td>Y</td><td>NA</td><td>NA</td><td>NA</td><td>NA</td><td>N</td><td>Map(recurrence -> monthly, splitColumn -> IA_UPDATE_DT)</td><td>Running</td><td>null</td><td>null</td><td>null</td><td>null</td></tr><tr><td>A-A1-A102</td><td>56</td><td>IA_HP_CTO_CATEGORY</td><td>null</td><td>NA</td><td>Map(ColumnName -> NA, tablesize -> small)</td><td>NA</td><td>List(NA)</td><td>prod_hhobi.hhobi_in.IA_HP_CTO_CATEGORY</td><td>NA</td><td></td><td>Full Refresh</td><td>NA</td><td>Map(ColumnName -> IA_UPDATE_DT, Delta -> 0, cdcCondition -> (trunc(IA_INSERT_DT) >= {}) OR (trunc(IA_update_DT) >= {}))</td><td>NA</td><td>Map(ColumnName -> NA)</td><td>Map(ColumnName -> NA)</td><td>Y</td><td>NA</td><td>NA</td><td>NA</td><td>NA</td><td>N</td><td>Map(recurrence -> monthly, splitColumn -> IA_UPDATE_DT)</td><td>Running</td><td>null</td><td>null</td><td>null</td><td>null</td></tr><tr><td>A-A1-A101</td><td>59</td><td>prod_hhobi.hhobi_in.IA_HP_CTO_ORDLN_COMPS</td><td>null</td><td>SALES_ORDLN_KEY,COMPONENT_KEY</td><td>Map(ColumnName -> IA_UPDATE_DT, tablesize -> huge, fetchsize -> 100000)</td><td>NA</td><td>List(IA_UPDATE_DT)</td><td>BIDW.IA_HP_CTO_ORDLN_COMPS</td><td>NA</td><td></td><td>incremental</td><td>merge</td><td>Map(ColumnName -> IA_UPDATE_DT, Delta -> 3, cdcCondition -> (IA_UPDATE_DT>= to_date({}, 'YYYY-MM-DD HH24:MI:SS') or IA_INSERT_DT>= to_date({}, 'YYYY-MM-DD HH24:MI:SS')))</td><td>NA</td><td>Map(ColumnName -> NA)</td><td>Map(ColumnName -> NA)</td><td>Y</td><td>NA</td><td>NA</td><td>NA</td><td>NA</td><td>N</td><td>Map(recurrence -> monthly, splitColumn -> IA_UPDATE_DT)</td><td>Completed</td><td>null</td><td>null</td><td>null</td><td>null</td></tr><tr><td>A-A1-A101</td><td>57</td><td>prod_hhobi.hhobi_in.IA_HP_CTO_COMPONENT</td><td>null</td><td>COMPONENT_KEY</td><td>Map(ColumnName -> IA_UPDATE_DT, tablesize -> huge, fetchsize -> 100000)</td><td>NA</td><td>List(IA_UPDATE_DT)</td><td>BIDW.IA_HP_CTO_COMPONENT</td><td>NA</td><td></td><td>incremental</td><td>merge</td><td>Map(ColumnName -> IA_UPDATE_DT, Delta -> 3, cdcCondition -> (IA_UPDATE_DT>= to_date({}, 'YYYY-MM-DD HH24:MI:SS') or IA_INSERT_DT>= to_date({}, 'YYYY-MM-DD HH24:MI:SS')))</td><td>NA</td><td>Map(ColumnName -> NA)</td><td>Map(ColumnName -> NA)</td><td>Y</td><td>NA</td><td>NA</td><td>NA</td><td>NA</td><td>N</td><td>Map(recurrence -> monthly, splitColumn -> IA_UPDATE_DT)</td><td>Completed</td><td>null</td><td>null</td><td>null</td><td>null</td></tr><tr><td>A-A1-A101</td><td>55</td><td>prod_hhobi.hhobi_in.IA_HP_CTO_CATEGORY</td><td>null</td><td>NA</td><td>Map(tablesize -> small, fetchsize -> 100000)</td><td>NA</td><td>List(NA)</td><td>BIDW.IA_HP_CTO_CATEGORY</td><td>NA</td><td></td><td>Full Refresh</td><td>overwrite</td><td>Map(ColumnName -> IA_UPDATE_DT, Delta -> 3, cdcCondition -> (IA_UPDATE_DT>= to_date({}, 'YYYY-MM-DD HH24:MI:SS') or IA_INSERT_DT>= to_date({}, 'YYYY-MM-DD HH24:MI:SS')))</td><td>NA</td><td>Map(ColumnName -> NA)</td><td>Map(ColumnName -> NA)</td><td>Y</td><td>NA</td><td>NA</td><td>NA</td><td>NA</td><td>N</td><td>Map(recurrence -> monthly, splitColumn -> IA_UPDATE_DT)</td><td>Completed</td><td>null</td><td>null</td><td>null</td><td>null</td></tr></tbody></table></div>"
      ]
     },
     "metadata": {
      "application/vnd.databricks.v1+output": {
       "addedWidgets": {},
       "aggData": [],
       "aggError": "",
       "aggOverflow": false,
       "aggSchema": [],
       "aggSeriesLimitReached": false,
       "aggType": "",
       "arguments": {},
       "columnCustomDisplayInfos": {},
       "data": [
        [
         "A-A1-A101",
         53,
         "prod_hhobi.hhobi_in.IA_HP_AGENTS",
         null,
         "NA",
         {
          "fetchsize": "10000",
          "tablesize": "small"
         },
         "NA",
         [
          "NA"
         ],
         "BIDW.IA_HP_AGENTS",
         "NA",
         "",
         "Full Refresh",
         "overwrite",
         {
          "ColumnName": "IA_UPDATE_DT",
          "Delta": "3",
          "cdcCondition": "(IA_UPDATE_DT>= to_date({}, 'YYYY-MM-DD HH24:MI:SS') or IA_INSERT_DT>= to_date({}, 'YYYY-MM-DD HH24:MI:SS'))"
         },
         "NA",
         {
          "ColumnName": "NA"
         },
         {
          "ColumnName": "NA"
         },
         "Y",
         "NA",
         "NA",
         "NA",
         "NA",
         "N",
         {
          "recurrence": "monthly",
          "splitColumn": "IA_UPDATE_DT"
         },
         "Completed",
         null,
         null,
         null,
         null
        ],
        [
         "A-A1-A101",
         22,
         "prod_hhobi.hhobi_in.IA_HP_GIFT_CARD",
         "18",
         "GIFT_CARD_KEY",
         {
          "fetchsize": "100000",
          "tablesize": "small"
         },
         "NA",
         [
          "NA"
         ],
         "BIDW.IA_HP_GIFT_CARD",
         "NA",
         "",
         "Incremental",
         "merge",
         {
          "ColumnName": "IA_UPDATE_DT",
          "Delta": "3",
          "cdcCondition": "(IA_UPDATE_DT>= to_date({}, 'YYYY-MM-DD HH24:MI:SS') or IA_INSERT_DT>= to_date({}, 'YYYY-MM-DD HH24:MI:SS'))"
         },
         "NA",
         {
          "ColumnName": "NA"
         },
         {
          "ColumnName": "NA"
         },
         "Y",
         "NA",
         "NA",
         "NA",
         "NA",
         "N",
         {
          "recurrence": "monthly",
          "splitColumn": "IA_UPDATE_DT"
         },
         "Completed",
         null,
         null,
         null,
         null
        ],
        [
         "A-A1-A101",
         20,
         "prod_hhobi.hhobi_in.IA_HP_GIFT_CARD_TYPE",
         "16",
         "GIFT_CARD_TYPE_KEY",
         {
          "fetchsize": "100000",
          "tablesize": "small"
         },
         "NA",
         [
          "NA"
         ],
         "BIDW.IA_HP_GIFT_CARD_TYPE",
         "NA",
         "",
         "Incremental",
         "merge",
         {
          "ColumnName": "IA_UPDATE_DT",
          "Delta": "3",
          "cdcCondition": "(IA_UPDATE_DT>= to_date({}, 'YYYY-MM-DD HH24:MI:SS') or IA_INSERT_DT>= to_date({}, 'YYYY-MM-DD HH24:MI:SS'))"
         },
         "NA",
         {
          "ColumnName": "NA"
         },
         {
          "ColumnName": "NA"
         },
         "Y",
         "NA",
         "NA",
         "NA",
         "NA",
         "N",
         {
          "recurrence": "monthly",
          "splitColumn": "IA_UPDATE_DT"
         },
         "Completed",
         null,
         null,
         null,
         null
        ],
        [
         "A-A1-A101",
         50,
         "prod_hhobi.hhobi_in.IA_HP_LOYALTY_EARNED_POINTS",
         "15",
         "LDATA_ID",
         {
          "fetchsize": "100000",
          "tablesize": "small"
         },
         "NA",
         [
          "NA"
         ],
         "BIDW.IA_HP_LOYALTY_EARNED_POINTS",
         "NA",
         "",
         "Incremental",
         "merge",
         {
          "ColumnName": "IA_UPADTE_DT",
          "Delta": "3",
          "cdcCondition": "(IA_UPADTE_DT>= to_date({}, 'YYYY-MM-DD HH24:MI:SS') or IA_INSERT_DT>= to_date({}, 'YYYY-MM-DD HH24:MI:SS'))"
         },
         "NA",
         {
          "ColumnName": "NA"
         },
         {
          "ColumnName": "NA"
         },
         "Y",
         "NA",
         "NA",
         "NA",
         "NA",
         "N",
         {
          "recurrence": "monthly",
          "splitColumn": "IA_UPDATE_DT"
         },
         "Completed",
         null,
         null,
         null,
         null
        ],
        [
         "A-A1-A101",
         19,
         "prod_hhobi.hhobi_in.IA_HP_GIFT_CARD_STATUS_CODE",
         "15",
         "GIFT_CARD_STATUS_CODE_KEY",
         {
          "fetchsize": "100000",
          "tablesize": "small"
         },
         "NA",
         [
          "NA"
         ],
         "BIDW.IA_HP_GIFT_CARD_STATUS_CODE",
         "NA",
         "",
         "Incremental",
         "merge",
         {
          "ColumnName": "IA_UPDATE_DT",
          "Delta": "3",
          "cdcCondition": "(IA_UPDATE_DT>= to_date({}, 'YYYY-MM-DD HH24:MI:SS') or IA_INSERT_DT>= to_date({}, 'YYYY-MM-DD HH24:MI:SS'))"
         },
         "NA",
         {
          "ColumnName": "NA"
         },
         {
          "ColumnName": "NA"
         },
         "Y",
         "NA",
         "NA",
         "NA",
         "NA",
         "N",
         {
          "recurrence": "monthly",
          "splitColumn": "IA_UPDATE_DT"
         },
         "Completed",
         null,
         null,
         null,
         null
        ],
        [
         "A-A1-A101",
         21,
         "prod_hhobi.hhobi_in.IA_HP_GIFT_CARD_ACTIVITY_CODE",
         "17",
         "GIFT_CARD_ACTIVITY_CODE_KEY",
         {
          "fetchsize": "100000",
          "tablesize": "small"
         },
         "NA",
         [
          "NA"
         ],
         "BIDW.IA_HP_GIFT_CARD_ACTIVITY_CODE",
         "NA",
         "",
         "Incremental",
         "merge",
         {
          "ColumnName": "IA_UPDATE_DT",
          "Delta": "3",
          "cdcCondition": "(IA_UPDATE_DT>= to_date({}, 'YYYY-MM-DD HH24:MI:SS') or IA_INSERT_DT>= to_date({}, 'YYYY-MM-DD HH24:MI:SS'))"
         },
         "NA",
         {
          "ColumnName": "NA"
         },
         {
          "ColumnName": "NA"
         },
         "Y",
         "NA",
         "NA",
         "NA",
         "NA",
         "N",
         {
          "recurrence": "monthly",
          "splitColumn": "IA_UPDATE_DT"
         },
         "Completed",
         null,
         null,
         null,
         null
        ],
        [
         "A-A1-A101",
         16,
         "prod_hhobi.hhobi_in.IA_STATUS",
         "14",
         "STATUS_KEY",
         {
          "fetchsize": "100000",
          "tablesize": "small"
         },
         "NA",
         [
          "NA"
         ],
         "BIDW.IA_STATUS",
         "NA",
         "",
         "Incremental",
         "merge",
         {
          "ColumnName": "IA_UPDATE_DT",
          "Delta": "3",
          "cdcCondition": "(IA_UPDATE_DT>= to_date({}, 'YYYY-MM-DD HH24:MI:SS') or IA_INSERT_DT>= to_date({}, 'YYYY-MM-DD HH24:MI:SS'))"
         },
         "NA",
         {
          "ColumnName": "NA"
         },
         {
          "ColumnName": "NA"
         },
         "Y",
         "NA",
         "NA",
         "NA",
         "NA",
         "N",
         {
          "recurrence": "monthly",
          "splitColumn": "IA_UPDATE_DT"
         },
         "Completed",
         null,
         null,
         null,
         null
        ],
        [
         "A-A1-A101",
         15,
         "prod_hhobi.hhobi_in.IA_QUOTE",
         "14",
         "ORDERS_ID",
         {
          "fetchsize": "100000",
          "tablesize": "small"
         },
         "NA",
         [
          "NA"
         ],
         "BIDW.IA_QUOTE",
         "NA",
         "",
         "Incremental",
         "merge",
         {
          "ColumnName": "IA_UPDATE_DT",
          "Delta": "3",
          "cdcCondition": "(IA_UPDATE_DT>= to_date({}, 'YYYY-MM-DD HH24:MI:SS') or IA_INSERT_DT>= to_date({}, 'YYYY-MM-DD HH24:MI:SS'))"
         },
         "Y",
         {
          "FIELD3": "email"
         },
         {
          "ColumnName": "NA"
         },
         "Y",
         "NA",
         "NA",
         "NA",
         "NA",
         "N",
         {
          "recurrence": "monthly",
          "splitColumn": "IA_UPDATE_DT"
         },
         "Completed",
         null,
         null,
         "Y",
         "FIELD3"
        ],
        [
         "A-A1-A101",
         18,
         "prod_hhobi.hhobi_in.IA_BUSN_LOCS",
         "14",
         "BUSN_LOC_KEY",
         {
          "fetchsize": "100000",
          "tablesize": "small"
         },
         "NA",
         [
          "NA"
         ],
         "BIDW.IA_BUSN_LOCS",
         "NA",
         "",
         "Incremental",
         "merge",
         {
          "ColumnName": "IA_UPDATE_DT",
          "Delta": "3",
          "cdcCondition": "(IA_UPDATE_DT>= to_date({}, 'YYYY-MM-DD HH24:MI:SS') or IA_INSERT_DT>= to_date({}, 'YYYY-MM-DD HH24:MI:SS'))"
         },
         "NA",
         {
          "ColumnName": "NA"
         },
         {
          "ColumnName": "NA"
         },
         "Y",
         "NA",
         "NA",
         "NA",
         "NA",
         "N",
         {
          "recurrence": "monthly",
          "splitColumn": "IA_UPDATE_DT"
         },
         "Completed",
         null,
         null,
         null,
         null
        ],
        [
         "A-A1-A101",
         14,
         "prod_hhobi.hhobi_in.IA_ORDERS_QUOTE",
         "13",
         "ORDERS_ID",
         {
          "fetchsize": "100000",
          "tablesize": "small"
         },
         "NA",
         [
          "NA"
         ],
         "BIDW.IA_ORDERS_QUOTE",
         "NA",
         "",
         "Incremental",
         "merge",
         {
          "ColumnName": "IA_UPDATE_DT",
          "Delta": "3",
          "cdcCondition": "(IA_UPDATE_DT>= to_date({}, 'YYYY-MM-DD HH24:MI:SS') or IA_INSERT_DT>= to_date({}, 'YYYY-MM-DD HH24:MI:SS'))"
         },
         "NA",
         {
          "ColumnName": "NA"
         },
         {
          "ColumnName": "NA"
         },
         "Y",
         "NA",
         "NA",
         "NA",
         "NA",
         "N",
         {
          "recurrence": "monthly",
          "splitColumn": "IA_UPDATE_DT"
         },
         "Completed",
         null,
         null,
         null,
         null
        ],
        [
         "A-A1-A101",
         17,
         "prod_hhobi.hhobi_in.IA_XACT_TYPES",
         "14",
         "XACT_TYPE_KEY",
         {
          "fetchsize": "100000",
          "tablesize": "small"
         },
         "NA",
         [
          "NA"
         ],
         "BIDW.IA_XACT_TYPES",
         "NA",
         "",
         "Incremental",
         "merge",
         {
          "ColumnName": "IA_UPDATE_DT",
          "Delta": "3",
          "cdcCondition": "(IA_UPDATE_DT>= to_date({}, 'YYYY-MM-DD HH24:MI:SS') or IA_INSERT_DT>= to_date({}, 'YYYY-MM-DD HH24:MI:SS'))"
         },
         "NA",
         {
          "ColumnName": "NA"
         },
         {
          "ColumnName": "NA"
         },
         "Y",
         "NA",
         "NA",
         "NA",
         "NA",
         "N",
         {
          "recurrence": "monthly",
          "splitColumn": "IA_UPDATE_DT"
         },
         "Completed",
         null,
         null,
         null,
         null
        ],
        [
         "A-A1-A101",
         13,
         "prod_hhobi.hhobi_in.IA_PRODUCTS",
         "9,10,11,12",
         "PRODUCT_KEY",
         {
          "fetchsize": "100000",
          "tablesize": "small"
         },
         "NA",
         [
          "NA"
         ],
         "BIDW.IA_PRODUCTS",
         "NA",
         "",
         "Incremental",
         "merge",
         {
          "ColumnName": "IA_UPDATE_DT",
          "Delta": "3",
          "cdcCondition": "(IA_UPDATE_DT>= to_date({}, 'YYYY-MM-DD HH24:MI:SS') or IA_INSERT_DT>= to_date({}, 'YYYY-MM-DD HH24:MI:SS'))"
         },
         "NA",
         {
          "ColumnName": "NA"
         },
         {
          "ColumnName": "NA"
         },
         "Y",
         "NA",
         "NA",
         "NA",
         "NA",
         "N",
         {
          "recurrence": "monthly",
          "splitColumn": "IA_UPDATE_DT"
         },
         "Completed",
         null,
         null,
         null,
         null
        ],
        [
         "A-A1-A101",
         11,
         "prod_hhobi.hhobi_in.IA_BUSN_ORGS",
         "8",
         "BUSN_ORG_KEY",
         {
          "fetchsize": "100000",
          "tablesize": "small"
         },
         "NA",
         [
          "NA"
         ],
         "BIDW.IA_BUSN_ORGS",
         "NA",
         "",
         "Incremental",
         "merge",
         {
          "ColumnName": "IA_UPDATE_DT",
          "Delta": "3",
          "cdcCondition": "(IA_UPDATE_DT>= to_date({}, 'YYYY-MM-DD HH24:MI:SS') or IA_INSERT_DT>= to_date({}, 'YYYY-MM-DD HH24:MI:SS'))"
         },
         "NA",
         {
          "ColumnName": "NA"
         },
         {
          "ColumnName": "NA"
         },
         "Y",
         "NA",
         "NA",
         "NA",
         "NA",
         "N",
         {
          "recurrence": "monthly",
          "splitColumn": "IA_UPDATE_DT"
         },
         "Completed",
         null,
         null,
         null,
         null
        ],
        [
         "A-A1-A101",
         12,
         "prod_hhobi.hhobi_in.IA_HP_AFFILIATE",
         "8",
         "AO_ID",
         {
          "fetchsize": "100000",
          "tablesize": "small"
         },
         "NA",
         [
          "NA"
         ],
         "BIDW.IA_HP_AFFILIATE",
         "NA",
         "",
         "Incremental",
         "merge",
         {
          "ColumnName": "IA_UPDATE_DT",
          "Delta": "3",
          "cdcCondition": "(IA_UPDATE_DT>= to_date({}, 'YYYY-MM-DD HH24:MI:SS') or IA_INSERT_DT>= to_date({}, 'YYYY-MM-DD HH24:MI:SS'))"
         },
         "NA",
         {
          "PHONE_NUM": "phone"
         },
         {
          "ColumnName": "NA"
         },
         "Y",
         "NA",
         "NA",
         "NA",
         "NA",
         "N",
         {
          "recurrence": "monthly",
          "splitColumn": "IA_UPDATE_DT"
         },
         "Completed",
         null,
         null,
         "Y",
         "AFF_CONTACT"
        ],
        [
         "A-A1-A101",
         7,
         "prod_hhobi.hhobi_in.IA_HP_CARRIER_SHIP_METHODS",
         "4",
         "NA",
         {
          "fetchsize": "100000",
          "tablesize": "huge"
         },
         "NA",
         [
          "NA"
         ],
         "BIDW.IA_HP_CARRIER_SHIP_METHODS",
         "NA",
         "",
         "Full Refresh",
         "overwrite",
         {
          "ColumnName": "IA_UPDATE_DT",
          "Delta": "3",
          "cdcCondition": "(IA_UPDATE_DT>= to_date({}, 'YYYY-MM-DD HH24:MI:SS') or IA_INSERT_DT>= to_date({}, 'YYYY-MM-DD HH24:MI:SS'))"
         },
         "NA",
         {
          "ColumnName": "NA"
         },
         {
          "ColumnName": "NA"
         },
         "Y",
         "NA",
         "NA",
         "NA",
         "NA",
         "N",
         {
          "recurrence": "monthly",
          "splitColumn": "IA_UPDATE_DT"
         },
         "Completed",
         null,
         null,
         null,
         null
        ],
        [
         "A-A1-A101",
         10,
         "prod_hhobi.hhobi_in.IA_HP_GIFT_CARD_DETAILS",
         "8",
         "GIFT_CARD_KEY",
         {
          "fetchsize": "100000",
          "tablesize": "small"
         },
         "NA",
         [
          "NA"
         ],
         "BIDW.IA_HP_GIFT_CARD_DETAILS",
         "NA",
         "",
         "Incremental",
         "merge",
         {
          "ColumnName": "IA_UPDATE_DT",
          "Delta": "3",
          "cdcCondition": "(IA_UPDATE_DT>= to_date({}, 'YYYY-MM-DD HH24:MI:SS') or IA_INSERT_DT>= to_date({}, 'YYYY-MM-DD HH24:MI:SS'))"
         },
         "NA",
         {
          "ColumnName": "NA"
         },
         {
          "ColumnName": "NA"
         },
         "Y",
         "NA",
         "NA",
         "NA",
         "NA",
         "N",
         {
          "recurrence": "monthly",
          "splitColumn": "IA_UPDATE_DT"
         },
         "Completed",
         null,
         null,
         null,
         null
        ],
        [
         "A-A1-A101",
         9,
         "prod_hhobi.hhobi_in.IA_HP_GIFT_CARD_REDEEM_ORDER",
         "8",
         "GC_REDEEM_ORDER_KEY",
         {
          "fetchsize": "100000",
          "tablesize": "small"
         },
         "NA",
         [
          "NA"
         ],
         "BIDW.IA_HP_GIFT_CARD_REDEEM_ORDER",
         "NA",
         "",
         "Incremental",
         "merge",
         {
          "ColumnName": "IA_UPDATE_DT",
          "Delta": "3",
          "cdcCondition": "(IA_UPDATE_DT>= to_date({}, 'YYYY-MM-DD HH24:MI:SS') or IA_INSERT_DT>= to_date({}, 'YYYY-MM-DD HH24:MI:SS'))"
         },
         "NA",
         {
          "ColumnName": "NA"
         },
         {
          "ColumnName": "NA"
         },
         "Y",
         "NA",
         "NA",
         "NA",
         "NA",
         "N",
         {
          "recurrence": "monthly",
          "splitColumn": "IA_UPDATE_DT"
         },
         "Completed",
         null,
         null,
         null,
         null
        ],
        [
         "A-A1-A101",
         8,
         "prod_hhobi.hhobi_in.IA_HP_SERIAL_NUM",
         "7",
         "SERIAL_NUMBER,ORIG_SERIAL_NUMBER,SALES_ORDLN_KEY,PRODUCT_KEY,COLUMN_LEVEL",
         {
          "fetchsize": "100000",
          "tablesize": "huge"
         },
         "NA",
         [
          "NA"
         ],
         "BIDW.IA_HP_SERIAL_NUM",
         "NA",
         "",
         "Incremental",
         "merge",
         {
          "ColumnName": "IA_UPDATED_DT",
          "Delta": "3",
          "cdcCondition": "(IA_UPDATED_DT>= to_date({}, 'YYYY-MM-DD HH24:MI:SS'))"
         },
         "Y",
         {
          "ORIG_SERIAL_NUMBER": "serial_number",
          "SERIAL_NUMBER": "serial_number"
         },
         {
          "ColumnName": "NA"
         },
         "Y",
         "NA",
         "NA",
         "NA",
         "NA",
         "N",
         {
          "recurrence": "yearly",
          "splitColumn": "IA_UPDATED_DT"
         },
         "Completed",
         null,
         null,
         "Y",
         "SERIAL_NUMBER,ORIG_SERIAL_NUMBER"
        ],
        [
         "A-A1-A101",
         5,
         "prod_hhobi.hhobi_in.IA_DATES",
         "4",
         "NA",
         {
          "fetchsize": "100000",
          "tablesize": "huge"
         },
         "NA",
         [
          "NA"
         ],
         "BIDW.IA_DATES",
         "NA",
         "",
         "Full Refresh",
         "overwrite",
         {
          "ColumnName": "IA_UPDATE_DT",
          "Delta": "3",
          "cdcCondition": "(IA_UPDATE_DT>= to_date({}, 'YYYY-MM-DD HH24:MI:SS') or IA_INSERT_DT>= to_date({}, 'YYYY-MM-DD HH24:MI:SS'))"
         },
         "NA",
         {
          "ColumnName": "NA"
         },
         {
          "ColumnName": "NA"
         },
         "Y",
         "NA",
         "NA",
         "NA",
         "NA",
         "N",
         {
          "recurrence": "monthly",
          "splitColumn": "IA_UPDATE_DT"
         },
         "Completed",
         null,
         null,
         null,
         null
        ],
        [
         "A-A1-A101",
         6,
         "prod_hhobi.hhobi_in.IA_CODES",
         "4",
         "NA",
         {
          "fetchsize": "100000",
          "tablesize": "huge"
         },
         "NA",
         [
          "NA"
         ],
         "BIDW.IA_CODES",
         "NA",
         "",
         "Full Refresh",
         "overwrite",
         {
          "ColumnName": "IA_UPDATE_DT",
          "Delta": "3",
          "cdcCondition": "(IA_UPDATE_DT>= to_date({}, 'YYYY-MM-DD HH24:MI:SS') or IA_INSERT_DT>= to_date({}, 'YYYY-MM-DD HH24:MI:SS'))"
         },
         "NA",
         {
          "ColumnName": "NA"
         },
         {
          "ColumnName": "NA"
         },
         "Y",
         "NA",
         "NA",
         "NA",
         "NA",
         "N",
         {
          "recurrence": "monthly",
          "splitColumn": "IA_UPDATE_DT"
         },
         "Completed",
         null,
         null,
         null,
         null
        ],
        [
         "A-A1-A101",
         4,
         "prod_hhobi.hhobi_in.IA_HP_COUPONS",
         "3",
         "COUPON_KEY",
         {
          "fetchsize": "100000",
          "tablesize": "huge"
         },
         "NA",
         [
          "IA_UPDATE_DT"
         ],
         "BIDW.IA_HP_COUPONS",
         "NA",
         "",
         "Incremental",
         "merge",
         {
          "ColumnName": "IA_UPDATE_DT",
          "Delta": "3",
          "cdcCondition": "(IA_UPDATE_DT>= to_date({}, 'YYYY-MM-DD HH24:MI:SS') or IA_INSERT_DT>= to_date({}, 'YYYY-MM-DD HH24:MI:SS'))"
         },
         "NA",
         {
          "ColumnName": "NA"
         },
         {
          "ColumnName": "NA"
         },
         "Y",
         "NA",
         "NA",
         "NA",
         "NA",
         "N",
         {
          "recurrence": "monthly",
          "splitColumn": "IA_UPDATE_DT"
         },
         "Completed",
         null,
         null,
         null,
         null
        ],
        [
         "A-A1-A101",
         1,
         "prod_hhobi.hhobi_in.IA_SALES_ORDLNS",
         null,
         "SALES_ORDLN_KEY",
         {
          "ColumnName": "IA_UPDATE_DT",
          "fetchsize": "100000",
          "tablesize": "huge"
         },
         "NA",
         [
          "IA_UPDATE_DT"
         ],
         "BIDW.IA_SALES_ORDLNS",
         "NA",
         "",
         "incremental",
         "merge",
         {
          "ColumnName": "IA_UPDATE_DT",
          "Delta": "3",
          "cdcCondition": "(IA_UPDATE_DT>= to_date({}, 'YYYY-MM-DD HH24:MI:SS') or IA_INSERT_DT>= to_date({}, 'YYYY-MM-DD HH24:MI:SS'))"
         },
         "NA",
         {
          "ColumnName": "NA"
         },
         {
          "ColumnName": "NA"
         },
         "Y",
         "NA",
         "NA",
         "NA",
         "NA",
         "N",
         {
          "recurrence": "monthly",
          "splitColumn": "IA_UPDATE_DT"
         },
         "Completed",
         null,
         null,
         null,
         null
        ],
        [
         "A-A1-A101",
         3,
         "prod_hhobi.hhobi_in.IA_CUST_LOCS",
         "2",
         "CUST_LOC_KEY",
         {
          "fetchsize": "100000",
          "tablesize": "huge"
         },
         "NA",
         [
          "IA_UPDATE_DT"
         ],
         "BIDW.IA_CUST_LOCS",
         "NA",
         "",
         "Incremental",
         "merge",
         {
          "ColumnName": "IA_UPDATE_DT",
          "Delta": "3",
          "cdcCondition": "(IA_UPDATE_DT>= to_date({}, 'YYYY-MM-DD HH24:MI:SS') or IA_INSERT_DT>= to_date({}, 'YYYY-MM-DD HH24:MI:SS'))"
         },
         "Y",
         {
          "EMAIL_ADDRESS": "email",
          "PHONE_NUM": "phone"
         },
         {
          "ColumnName": "NA"
         },
         "Y",
         "NA",
         "NA",
         "NA",
         "NA",
         "N",
         {
          "recurrence": "monthly",
          "splitColumn": "IA_UPDATE_DT"
         },
         "Completed",
         null,
         null,
         "Y",
         "STREET_NAME,PHONE_NUM,EMAIL_ADDRESS,PRMRY_CNTCT_NAME,CLOC_ATTR3_NAME,CLOC_ATTR5_NAME"
        ],
        [
         "A-A1-A101",
         2,
         "prod_hhobi.hhobi_in.IA_CUSTOMERS",
         "1",
         "CUSTOMER_KEY",
         {
          "fetchsize": "100000",
          "tablesize": "huge"
         },
         "NA",
         [
          "IA_UPDATE_DT"
         ],
         "BIDW.IA_CUSTOMERS",
         "NA",
         "add_domain_field",
         "Incremental",
         "merge",
         {
          "ColumnName": "IA_UPDATE_DT",
          "Delta": "3",
          "cdcCondition": "(IA_UPDATE_DT>= to_date({}, 'YYYY-MM-DD HH24:MI:SS') or IA_INSERT_DT>= to_date({}, 'YYYY-MM-DD HH24:MI:SS'))"
         },
         "Y",
         {
          "ALT_PHONE_NUM": "phone",
          "CUST_ATTR4_CODE": "phone",
          "CUST_ATTR5_TEXT": "email",
          "CUST_HIER5_CODE": "email",
          "CUST_HIER5_NAME": "email",
          "EMAIL_ADDRESS": "email",
          "FAX_NUM": "phone",
          "MOBILE_NUM": "phone",
          "PAGER_NUM": "phone",
          "PHONE_NUM": "phone",
          "PO_BILL_EMAIL": "email",
          "REFERRAL_EMAIL_ID": "email"
         },
         {
          "ColumnName": "NA"
         },
         "Y",
         "NA",
         "NA",
         "NA",
         "NA",
         "N",
         {
          "recurrence": "monthly",
          "splitColumn": "IA_UPDATE_DT"
         },
         "Completed",
         null,
         null,
         "Y",
         "CUSTOMER_NAME,ALT_CUSTOMER_NUM,GOVT_ID_VALUE,LEGAL_NAME,FAMILY_NAME,OTHER_NAME,PREFERRED_NAME,PHONE_NUM,ALT_PHONE_NUM,EMAIL_ADDRESS,FAX_NUM,PAGER_NUM,MOBILE_NUM,CUST_HIER3_NAME,CUST_HIER5_CODE,CUST_HIER5_NAME,CUST_ATTR1_CODE,CUST_ATTR1_NAME,CUST_ATTR2_NAME,CUST_ATTR3_NAME,CUST_ATTR4_CODE,CUST_ATTR5_NAME,CUST_ATTR5_TEXT,REFERRAL_EMAIL_ID,PO_BILL_EMAIL,LOGINID"
        ],
        [
         "A-A1-A102",
         58,
         "IA_HP_CTO_COMPONENT",
         null,
         "NA",
         {
          "ColumnName": "NA",
          "tablesize": "small"
         },
         "NA",
         [
          "NA"
         ],
         "prod_hhobi.hhobi_in.IA_HP_CTO_COMPONENT",
         "NA",
         " (select * FROM { where    trunc(IA_INSERT_DT) >= { or trunc(IA_update_DT) >= { ), fetchsize -> 100000",
         "merge",
         "NA",
         {
          "ColumnName": "IA_UPDATE_DT",
          "Delta": "0",
          "cdcCondition": "(trunc(IA_INSERT_DT) >= {}) OR (trunc(IA_update_DT) >= {})"
         },
         "NA",
         {
          "ColumnName": "NA"
         },
         {
          "ColumnName": "NA"
         },
         "Y",
         "NA",
         "NA",
         "NA",
         "NA",
         "N",
         {
          "recurrence": "monthly",
          "splitColumn": "IA_UPDATE_DT"
         },
         "Running",
         null,
         null,
         null,
         null
        ],
        [
         "A-A1-A102",
         60,
         "IA_HP_CTO_ORDLN_COMPS",
         null,
         "NA",
         {
          "ColumnName": "NA",
          "tablesize": "small"
         },
         "NA",
         [
          "NA"
         ],
         "prod_hhobi.hhobi_in.IA_HP_CTO_ORDLN_COMPS",
         "NA",
         " (select * FROM { where    trunc(IA_INSERT_DT) >= { or trunc(IA_update_DT) >= { ), fetchsize -> 100000",
         "merge",
         "NA",
         {
          "ColumnName": "IA_UPDATE_DT",
          "Delta": "0",
          "cdcCondition": "(trunc(IA_INSERT_DT) >= {}) OR (trunc(IA_update_DT) >= {})"
         },
         "NA",
         {
          "ColumnName": "NA"
         },
         {
          "ColumnName": "NA"
         },
         "Y",
         "NA",
         "NA",
         "NA",
         "NA",
         "N",
         {
          "recurrence": "monthly",
          "splitColumn": "IA_UPDATE_DT"
         },
         "Running",
         null,
         null,
         null,
         null
        ],
        [
         "A-A1-A102",
         35,
         "IA_CODES",
         "4",
         "NA",
         {
          "ColumnName": "NA",
          "tablesize": "huge"
         },
         "NA",
         [
          "NA"
         ],
         "prod_hhobi.hhobi_in.IA_CODES",
         "NA",
         " (select rownum, a.* FROM { a ), fetchsize -> 100000, minn -> 0, maxx -> rows",
         "Full Refresh",
         "NA",
         {
          "ColumnName": "IA_CODES",
          "Delta": "0",
          "cdcCondition": "(trunc(IA_INSERT_DT) >= {}) OR (trunc(IA_update_DT) >= {})"
         },
         "NA",
         {
          "ColumnName": "NA"
         },
         {
          "ColumnName": "NA"
         },
         "Y",
         "NA",
         "NA",
         "NA",
         "NA",
         "N",
         {
          "recurrence": "monthly",
          "splitColumn": "IA_UPDATE_DT"
         },
         "Running",
         null,
         null,
         null,
         null
        ],
        [
         "A-A1-A102",
         26,
         "IA_DATES",
         "4",
         "NA",
         {
          "ColumnName": "NA",
          "tablesize": "huge"
         },
         "NA",
         [
          "NA"
         ],
         "prod_hhobi.hhobi_in.IA_DATES",
         "NA",
         " (select rownum, a.* FROM { a ), fetchsize -> 100000, minn -> 0, maxx -> rows",
         "Full Refresh",
         "NA",
         {
          "ColumnName": "IA_UPDATE_DT",
          "Delta": "0",
          "cdcCondition": "(trunc(IA_INSERT_DT) >= {}) OR (trunc(IA_update_DT) >= {})"
         },
         "NA",
         {
          "ColumnName": "NA"
         },
         {
          "ColumnName": "NA"
         },
         "Y",
         "NA",
         "NA",
         "NA",
         "NA",
         "N",
         {
          "recurrence": "monthly",
          "splitColumn": "IA_UPDATE_DT"
         },
         "Running",
         null,
         null,
         null,
         null
        ],
        [
         "A-A1-A102",
         41,
         "IA_CUSTOMERS",
         "4",
         "NA",
         {
          "ColumnName": "NA",
          "tablesize": "huge"
         },
         "NA",
         [
          "NA"
         ],
         "prod_hhobi.hhobi_in.IA_CUSTOMERS",
         "NA",
         " (select rownum, a.* FROM { a ), fetchsize -> 100000, minn -> 0, maxx -> rows",
         "Full Refresh",
         "NA",
         {
          "ColumnName": "IA_CUSTOMERS",
          "Delta": "0",
          "cdcCondition": "(trunc(IA_INSERT_DT) >= {}) OR (trunc(IA_update_DT) >= {})"
         },
         "NA",
         {
          "ColumnName": "NA"
         },
         {
          "ColumnName": "NA"
         },
         "Y",
         "NA",
         "NA",
         "NA",
         "NA",
         "N",
         {
          "recurrence": "monthly",
          "splitColumn": "IA_UPDATE_DT"
         },
         "Running",
         null,
         null,
         null,
         null
        ],
        [
         "A-A1-A102",
         42,
         "IA_CUST_LOCS",
         "4",
         "NA",
         {
          "ColumnName": "NA",
          "tablesize": "huge"
         },
         "NA",
         [
          "NA"
         ],
         "prod_hhobi.hhobi_in.IA_CUST_LOCS",
         "NA",
         " (select rownum, a.* FROM { a ), fetchsize -> 100000, minn -> 0, maxx -> rows",
         "Full Refresh",
         "NA",
         {
          "ColumnName": "IA_CUST_LOCS",
          "Delta": "0",
          "cdcCondition": "(trunc(IA_INSERT_DT) >= {}) OR (trunc(IA_update_DT) >= {})"
         },
         "NA",
         {
          "ColumnName": "NA"
         },
         {
          "ColumnName": "NA"
         },
         "Y",
         "NA",
         "NA",
         "NA",
         "NA",
         "N",
         {
          "recurrence": "monthly",
          "splitColumn": "IA_UPDATE_DT"
         },
         "Running",
         null,
         null,
         null,
         null
        ],
        [
         "A-A1-A102",
         38,
         "IA_HP_COUPONS",
         "4",
         "NA",
         {
          "ColumnName": "NA",
          "tablesize": "huge"
         },
         "NA",
         [
          "NA"
         ],
         "prod_hhobi.hhobi_in.IA_HP_COUPONS",
         "NA",
         " (select rownum, a.* FROM { a ), fetchsize -> 100000, minn -> 0, maxx -> rows",
         "Full Refresh",
         "NA",
         {
          "ColumnName": "IA_COUPONS",
          "Delta": "0",
          "cdcCondition": "(trunc(IA_INSERT_DT) >= {}) OR (trunc(IA_update_DT) >= {})"
         },
         "NA",
         {
          "ColumnName": "NA"
         },
         {
          "ColumnName": "NA"
         },
         "Y",
         "NA",
         "NA",
         "NA",
         "NA",
         "N",
         {
          "recurrence": "monthly",
          "splitColumn": "IA_UPDATE_DT"
         },
         "Running",
         null,
         null,
         null,
         null
        ],
        [
         "A-A1-A102",
         39,
         "IA_HP_CARRIER_SHIP_METHODS",
         "4",
         "NA",
         {
          "ColumnName": "NA",
          "tablesize": "huge"
         },
         "NA",
         [
          "NA"
         ],
         "prod_hhobi.hhobi_in.IA_HP_CARRIER_SHIP_METHODS",
         "NA",
         " (select rownum, a.* FROM { a ), fetchsize -> 100000, minn -> 0, maxx -> rows",
         "Full Refresh",
         "NA",
         {
          "ColumnName": "IA_HP_CARRIER_SHIP_METHODS",
          "Delta": "0",
          "cdcCondition": "(trunc(IA_INSERT_DT) >= {}) OR (trunc(IA_update_DT) >= {})"
         },
         "NA",
         {
          "ColumnName": "NA"
         },
         {
          "ColumnName": "NA"
         },
         "Y",
         "NA",
         "NA",
         "NA",
         "NA",
         "N",
         {
          "recurrence": "monthly",
          "splitColumn": "IA_UPDATE_DT"
         },
         "Running",
         null,
         null,
         null,
         null
        ],
        [
         "A-A1-A102",
         29,
         "IA_PRODUCTS",
         "9,10,11,12",
         "PRODUCT_KEY",
         {
          "ColumnName": "NA",
          "tablesize": "small"
         },
         "NA",
         [
          "NA"
         ],
         "prod_hhobi.hhobi_in.IA_PRODUCTS",
         "NA",
         " (select * FROM { where    trunc(IA_INSERT_DT) >= { or trunc(IA_update_DT) >= { ), fetchsize -> 100000",
         "merge",
         "NA",
         {
          "ColumnName": "IA_UPDATE_DT",
          "Delta": "0",
          "cdcCondition": "(trunc(IA_INSERT_DT) >= {}) OR (trunc(IA_update_DT) >= {})"
         },
         "NA",
         {
          "ColumnName": "NA"
         },
         {
          "ColumnName": "NA"
         },
         "Y",
         "NA",
         "NA",
         "NA",
         "NA",
         "N",
         {
          "recurrence": "monthly",
          "splitColumn": "IA_UPDATE_DT"
         },
         "Running",
         null,
         null,
         null,
         null
        ],
        [
         "A-A1-A102",
         27,
         "IA_BUSN_ORGS",
         "8",
         "BUSN_ORG_KEY",
         {
          "ColumnName": "NA",
          "tablesize": "small"
         },
         "NA",
         [
          "NA"
         ],
         "prod_hhobi.hhobi_in.IA_BUSN_ORGS",
         "NA",
         " (select * FROM { where    trunc(IA_INSERT_DT) >= { or trunc(IA_update_DT) >= { ), fetchsize -> 100000",
         "merge",
         "NA",
         {
          "ColumnName": "IA_UPDATE_DT",
          "Delta": "0",
          "cdcCondition": "(trunc(IA_INSERT_DT) >= {}) OR (trunc(IA_update_DT) >= {})"
         },
         "NA",
         {
          "ColumnName": "NA"
         },
         {
          "ColumnName": "NA"
         },
         "Y",
         "NA",
         "NA",
         "NA",
         "NA",
         "N",
         {
          "recurrence": "monthly",
          "splitColumn": "IA_UPDATE_DT"
         },
         "Running",
         null,
         null,
         null,
         null
        ],
        [
         "A-A1-A102",
         28,
         "IA_HP_AFFILIATE",
         "8",
         "AO_ID",
         {
          "ColumnName": "NA",
          "tablesize": "small"
         },
         "NA",
         [
          "NA"
         ],
         "prod_hhobi.hhobi_in.IA_HP_AFFILIATE",
         "NA",
         " (select * FROM { where    trunc(IA_INSERT_DT) >= { or trunc(IA_update_DT) >= { ), fetchsize -> 100000",
         "merge",
         "NA",
         {
          "ColumnName": "IA_UPDATE_DT",
          "Delta": "0",
          "cdcCondition": "(trunc(IA_INSERT_DT) >= {}) OR (trunc(IA_update_DT) >= {})"
         },
         "NA",
         {
          "ColumnName": "NA"
         },
         {
          "ColumnName": "NA"
         },
         "Y",
         "NA",
         "NA",
         "NA",
         "NA",
         "N",
         {
          "recurrence": "monthly",
          "splitColumn": "IA_UPDATE_DT"
         },
         "Running",
         null,
         null,
         null,
         null
        ],
        [
         "A-A1-A102",
         30,
         "IA_ORDERS_QUOTE",
         "13",
         "ORDERS_ID",
         {
          "ColumnName": "NA",
          "tablesize": "small"
         },
         "NA",
         [
          "NA"
         ],
         "prod_hhobi.hhobi_in.IA_ORDERS_QUOTE",
         "NA",
         " (select * FROM { where    trunc(IA_INSERT_DT) >= { or trunc(IA_update_DT) >= { ), fetchsize -> 100000",
         "merge",
         "NA",
         {
          "ColumnName": "IA_UPDATE_DT",
          "Delta": "0",
          "cdcCondition": "(trunc(IA_INSERT_DT) >= {}) OR (trunc(IA_update_DT) >= {})"
         },
         "NA",
         {
          "ColumnName": "NA"
         },
         {
          "ColumnName": "NA"
         },
         "Y",
         "NA",
         "NA",
         "NA",
         "NA",
         "N",
         {
          "recurrence": "monthly",
          "splitColumn": "IA_UPDATE_DT"
         },
         "Running",
         null,
         null,
         null,
         null
        ],
        [
         "A-A1-A102",
         32,
         "IA_STATUS",
         "14",
         "STATUS_KEY",
         {
          "ColumnName": "NA",
          "tablesize": "small"
         },
         "NA",
         [
          "NA"
         ],
         "prod_hhobi.hhobi_in.IA_STATUS",
         "NA",
         " (select * FROM { where    trunc(IA_INSERT_DT) >= { or trunc(IA_update_DT) >= { ), fetchsize -> 100000",
         "merge",
         "NA",
         {
          "ColumnName": "IA_UPDATE_DT",
          "Delta": "0",
          "cdcCondition": "(trunc(IA_INSERT_DT) >= {}) OR (trunc(IA_update_DT) >= {})"
         },
         "NA",
         {
          "ColumnName": "NA"
         },
         {
          "ColumnName": "NA"
         },
         "Y",
         "NA",
         "NA",
         "NA",
         "NA",
         "N",
         {
          "recurrence": "monthly",
          "splitColumn": "IA_UPDATE_DT"
         },
         "Running",
         null,
         null,
         null,
         null
        ],
        [
         "A-A1-A102",
         40,
         "IA_SALES_ORDLNS",
         "8",
         "NA",
         {
          "ColumnName": "NA",
          "tablesize": "small"
         },
         "NA",
         [
          "NA"
         ],
         "prod_hhobi.hhobi_in.IA_SALES_ORDLNS",
         "NA",
         " (select * FROM { where    trunc(IA_INSERT_DT) >= { or trunc(IA_update_DT) >= { ), fetchsize -> 100000",
         "merge",
         "NA",
         {
          "ColumnName": "IA_UPDATE_DT",
          "Delta": "0",
          "cdcCondition": "(trunc(IA_INSERT_DT) >= {}) OR (trunc(IA_update_DT) >= {})"
         },
         "NA",
         {
          "ColumnName": "NA"
         },
         {
          "ColumnName": "NA"
         },
         "Y",
         "NA",
         "NA",
         "NA",
         "NA",
         "N",
         {
          "recurrence": "monthly",
          "splitColumn": "IA_UPDATE_DT"
         },
         "Running",
         null,
         null,
         null,
         null
        ],
        [
         "A-A1-A102",
         31,
         "IA_QUOTE",
         "14",
         "ORDERS_ID",
         {
          "ColumnName": "NA",
          "tablesize": "small"
         },
         "NA",
         [
          "NA"
         ],
         "prod_hhobi.hhobi_in.IA_QUOTE",
         "NA",
         " (select * FROM { where    trunc(IA_INSERT_DT) >= { or trunc(IA_update_DT) >= { ), fetchsize -> 100000",
         "merge",
         "NA",
         {
          "ColumnName": "IA_UPDATE_DT",
          "Delta": "0",
          "cdcCondition": "(trunc(IA_INSERT_DT) >= {}) OR (trunc(IA_update_DT) >= {})"
         },
         "NA",
         {
          "ColumnName": "NA"
         },
         {
          "ColumnName": "NA"
         },
         "Y",
         "NA",
         "NA",
         "NA",
         "NA",
         "N",
         {
          "recurrence": "monthly",
          "splitColumn": "IA_UPDATE_DT"
         },
         "Running",
         null,
         null,
         null,
         null
        ],
        [
         "A-A1-A102",
         33,
         "IA_XACT_TYPES",
         "14",
         "XACT_TYPE_KEY",
         {
          "ColumnName": "NA",
          "tablesize": "small"
         },
         "NA",
         [
          "NA"
         ],
         "prod_hhobi.hhobi_in.IA_XACT_TYPES",
         "NA",
         " (select * FROM { where    trunc(IA_INSERT_DT) >= { or trunc(IA_update_DT) >= { ), fetchsize -> 100000",
         "merge",
         "NA",
         {
          "ColumnName": "IA_UPDATE_DT",
          "Delta": "0",
          "cdcCondition": "(trunc(IA_INSERT_DT) >= {}) OR (trunc(IA_update_DT) >= {})"
         },
         "NA",
         {
          "ColumnName": "NA"
         },
         {
          "ColumnName": "NA"
         },
         "Y",
         "NA",
         "NA",
         "NA",
         "NA",
         "N",
         {
          "recurrence": "monthly",
          "splitColumn": "IA_UPDATE_DT"
         },
         "Running",
         null,
         null,
         null,
         null
        ],
        [
         "A-A1-A102",
         34,
         "IA_BUSN_LOCS",
         "14",
         "BUSN_LOC_KEY",
         {
          "ColumnName": "NA",
          "tablesize": "small"
         },
         "NA",
         [
          "NA"
         ],
         "prod_hhobi.hhobi_in.IA_BUSN_LOCS",
         "NA",
         " (select * FROM { where    trunc(IA_INSERT_DT) >= { or trunc(IA_update_DT) >= { ), fetchsize -> 100000",
         "merge",
         "NA",
         {
          "ColumnName": "IA_UPDATE_DT",
          "Delta": "0",
          "cdcCondition": "(trunc(IA_INSERT_DT) >= {}) OR (trunc(IA_update_DT) >= {})"
         },
         "NA",
         {
          "ColumnName": "NA"
         },
         {
          "ColumnName": "NA"
         },
         "Y",
         "NA",
         "NA",
         "NA",
         "NA",
         "N",
         {
          "recurrence": "monthly",
          "splitColumn": "IA_UPDATE_DT"
         },
         "Running",
         null,
         null,
         null,
         null
        ],
        [
         "A-A1-A102",
         43,
         "IA_HP_GIFT_CARD_REDEEM_ORDER",
         "24",
         "GC_REDEEM_ORDER_KEY",
         {
          "ColumnName": "NA",
          "tablesize": "small"
         },
         "NA",
         [
          "NA"
         ],
         "prod_hhobi.hhobi_in.IA_HP_GIFT_CARD_REDEEM_ORDER",
         "NA",
         "{ColumnName -> NA}",
         "Vacuum",
         "NA",
         {
          "ColumnName": "IA_UPDATE_DT",
          "Delta": "0",
          "cdcCondition": "(trunc(IA_INSERT_DT) >= {}) OR (trunc(IA_update_DT) >= {})"
         },
         "NA",
         {
          "ColumnName": "NA"
         },
         {
          "ColumnName": "NA"
         },
         "Y",
         "NA",
         "NA",
         "NA",
         "NA",
         "N",
         {
          "recurrence": "monthly",
          "splitColumn": "IA_UPDATE_DT"
         },
         "Running",
         null,
         null,
         null,
         null
        ],
        [
         "A-A1-A102",
         44,
         "IA_HP_GIFT_CARD_DETAILS",
         "24",
         "GIFT_CARD_KEY",
         {
          "ColumnName": "NA",
          "tablesize": "small"
         },
         "NA",
         [
          "NA"
         ],
         "prod_hhobi.hhobi_in.IA_HP_GIFT_CARD_DETAILS",
         "NA",
         "{ColumnName -> NA}",
         "Vacuum",
         "NA",
         {
          "ColumnName": "IA_UPDATE_DT",
          "Delta": "0",
          "cdcCondition": "(trunc(IA_INSERT_DT) >= {}) OR (trunc(IA_update_DT) >= {})"
         },
         "NA",
         {
          "ColumnName": "NA"
         },
         {
          "ColumnName": "NA"
         },
         "Y",
         "NA",
         "NA",
         "NA",
         "NA",
         "N",
         {
          "recurrence": "monthly",
          "splitColumn": "IA_UPDATE_DT"
         },
         "Running",
         null,
         null,
         null,
         null
        ],
        [
         "A-A1-A102",
         45,
         "IA_HP_GIFT_CARD_STATUS_CODE",
         "24",
         "GIFT_CARD_STATUS_CODE_KEY",
         {
          "ColumnName": "NA",
          "tablesize": "small"
         },
         "NA",
         [
          "NA"
         ],
         "prod_hhobi.hhobi_in.IA_HP_GIFT_CARD_STATUS_CODE",
         "NA",
         "{ColumnName -> NA}",
         "Vacuum",
         "NA",
         {
          "ColumnName": "IA_UPDATE_DT",
          "Delta": "0",
          "cdcCondition": "(trunc(IA_INSERT_DT) >= {}) OR (trunc(IA_update_DT) >= {})"
         },
         "NA",
         {
          "ColumnName": "NA"
         },
         {
          "ColumnName": "NA"
         },
         "Y",
         "NA",
         "NA",
         "NA",
         "NA",
         "N",
         {
          "recurrence": "monthly",
          "splitColumn": "IA_UPDATE_DT"
         },
         "Running",
         null,
         null,
         null,
         null
        ],
        [
         "A-A1-A102",
         46,
         "IA_HP_GIFT_CARD_TYPE",
         "24",
         "GIFT_CARD_TYPE_KEY",
         {
          "ColumnName": "NA",
          "tablesize": "small"
         },
         "NA",
         [
          "NA"
         ],
         "prod_hhobi.hhobi_in.IA_HP_GIFT_CARD_TYPE",
         "NA",
         "{ColumnName -> NA}",
         "Vacuum",
         "NA",
         {
          "ColumnName": "IA_UPDATE_DT",
          "Delta": "0",
          "cdcCondition": "(trunc(IA_INSERT_DT) >= {}) OR (trunc(IA_update_DT) >= {})"
         },
         "NA",
         {
          "ColumnName": "NA"
         },
         {
          "ColumnName": "NA"
         },
         "Y",
         "NA",
         "NA",
         "NA",
         "NA",
         "N",
         {
          "recurrence": "monthly",
          "splitColumn": "IA_UPDATE_DT"
         },
         "Running",
         null,
         null,
         null,
         null
        ],
        [
         "A-A1-A102",
         47,
         "IA_HP_GIFT_CARD_ACTIVITY_CODE",
         "24",
         "GIFT_CARD_ACTIVITY_CODE_KEY",
         {
          "ColumnName": "NA",
          "tablesize": "small"
         },
         "NA",
         [
          "NA"
         ],
         "prod_hhobi.hhobi_in.IA_HP_GIFT_CARD_ACTIVITY_CODE",
         "NA",
         "{ColumnName -> NA}",
         "Vacuum",
         "NA",
         {
          "ColumnName": "IA_UPDATE_DT",
          "Delta": "0",
          "cdcCondition": "(trunc(IA_INSERT_DT) >= {}) OR (trunc(IA_update_DT) >= {})"
         },
         "NA",
         {
          "ColumnName": "NA"
         },
         {
          "ColumnName": "NA"
         },
         "Y",
         "NA",
         "NA",
         "NA",
         "NA",
         "N",
         {
          "recurrence": "monthly",
          "splitColumn": "IA_UPDATE_DT"
         },
         "Running",
         null,
         null,
         null,
         null
        ],
        [
         "A-A1-A102",
         48,
         "IA_HP_GIFT_CARD",
         "24",
         "GIFT_CARD_KEY",
         {
          "ColumnName": "NA",
          "tablesize": "small"
         },
         "NA",
         [
          "NA"
         ],
         "prod_hhobi.hhobi_in.IA_HP_GIFT_CARD",
         "NA",
         "{ColumnName -> NA}",
         "Vacuum",
         "NA",
         {
          "ColumnName": "IA_UPDATE_DT",
          "Delta": "0",
          "cdcCondition": "(trunc(IA_INSERT_DT) >= {}) OR (trunc(IA_update_DT) >= {})"
         },
         "NA",
         {
          "ColumnName": "NA"
         },
         {
          "ColumnName": "NA"
         },
         "Y",
         "NA",
         "NA",
         "NA",
         "NA",
         "N",
         {
          "recurrence": "monthly",
          "splitColumn": "IA_UPDATE_DT"
         },
         "Running",
         null,
         null,
         null,
         null
        ],
        [
         "A-A1-A103",
         49,
         "IA_Consolidated",
         "14",
         "NA",
         {
          "ColumnName": "NA",
          "tablesize": "small"
         },
         "NA",
         [
          "NA"
         ],
         "prod_hhobi.hhobi_bronze.ia_sales_ordlns",
         "NA",
         "select /*+ BROADCAST(SALES_AREA),BROADCAST(SALES_GEO ),BROADCAST(XACT), BROADCAST(PLANT), BROADCAST(dk1),BROADCAST(dk2),BROADCAST(dk3),BROADCAST(dk4),BROADCAST(dk5),BROADCAST(dk6),BROADCAST(dk7),BROADCAST(dk8),BROADCAST(dk9),BROADCAST(dk10),BROADCAST(dk11),\nBROADCAST(dk12),BROADCAST(dk13),BROADCAST(dk14),BROADCAST(ship), BROADCAST(GIFT_CARD_STATUS), BROADCAST(GIFT_CARD_TYPE),BROADCAST(GIFT_CARD_ACTIVITY), BROADCAST(prod_cat) */ \n\n    cast(sorl.SALES_ORDLN_KEY as long)  as sorl_SALES_ORDLN_KEY, \n    cast(sorl.PRODUCT_KEY as long) as sorl_PRODUCT_KEY,\n    cast(sorl.CUSTOMER_KEY as long) as sorl_CUSTOMER_KEY,\n    sorl.purch_order_num as sorl_purch_order_num,\n    cast(sorl.PLANT_LOC_KEY as int) as sorl_PLANT_LOC_KEY,\n    cast(sorl.SALES_AREA_ORG_KEY as int) as sorl_SALES_AREA_ORG_KEY,\n    cast(sorl.SALES_GEO_ORG_KEY as int) as sorl_SALES_GEO_ORG_KEY,\n    cast(sorl.CUST_SHIP_TO_KEY as long) as sorl_CUST_SHIP_TO_KEY,\n    cast(sorl.CUST_BILL_TO_KEY as long) as sorl_CUST_BILL_TO_KEY,\n    cast(sorl.XACT_TYPE_KEY as int) as sorl_XACT_TYPE_KEY,\n    cast(sorl.ORDER_STATUS_KEY as int) as sorl_ORDER_STATUS_KEY,\n    cast(sorl.SORL_DIM2_KEY as int) as sorl_SORL_DIM2_KEY,\n    cast(sorl.SORL_DIM3_KEY as int) as sorl_SORL_DIM3_KEY,\n    cast(sorl.SORL_DIM4_KEY as int) as sorl_SORL_DIM4_KEY,\n    cast(sorl.SORL_DIM5_KEY as long) as sorl_SORL_DIM5_KEY,\n    cast(sorl.COUPON_KEY as long) as sorl_COUPON_KEY,\n    cast(sorl.NET_GRP_AMT as FLOAT) as sorl_NET_GRP_AMT,\n    cast(sorl.NET_LOC_AMT as FLOAT) as sorl_NET_LOC_AMT,\n    cast(sorl.NET_DOC_AMT as FLOAT) as sorl_NET_DOC_AMT,\n    cast(sorl.SALES_QTY as int) as sorl_SALES_QTY,\n    sorl.DOC_CURR_CODE as sorl_DOC_CURR_CODE,\n    sorl.LOC_CURR_CODE as sorl_LOC_CURR_CODE,\n    sorl.GRP_CURR_CODE as sorl_GRP_CURR_CODE,\n    --sorl.PURCH_ORDER_NUM as FLOAT) as sorl_PURCH_ORDER_NUM,\n    cast(sorl.SORL_DOC2_AMT as FLOAT) as sorl_SORL_DOC2_AMT,\n    cast(sorl.SORL_LOC2_AMT as FLOAT) as sorl_SORL_LOC2_AMT,\n    cast(sorl.SORL_GRP2_AMT as FLOAT) as sorl_SORL_GRP2_AMT,\n    cast(sorl.SORL_DOC3_AMT as FLOAT) as sorl_SORL_DOC3_AMT,\n    cast(sorl.SORL_LOC3_AMT as FLOAT) as sorl_SORL_LOC3_AMT,\n    cast(sorl.SORL_GRP3_AMT as FLOAT) as sorl_SORL_GRP3_AMT,\n    cast(sorl.SORL_DOC4_AMT as FLOAT) as sorl_SORL_DOC4_AMT,\n    cast(sorl.SORL_LOC4_AMT as FLOAT) as sorl_SORL_LOC4_AMT,\n    cast(sorl.SORL_GRP4_AMT as FLOAT) as sorl_SORL_GRP4_AMT,\n    cast(sorl.SORL_DOC5_AMT as FLOAT) as sorl_SORL_DOC5_AMT,\n    cast(sorl.SORL_LOC5_AMT as FLOAT) as sorl_SORL_LOC5_AMT,\n    cast(sorl.SORL_GRP5_AMT as FLOAT) as sorl_SORL_GRP5_AMT,\n    cast(sorl.SORL_DOC6_AMT as FLOAT) as sorl_SORL_DOC6_AMT,\n    cast(sorl.SORL_LOC6_AMT as FLOAT) as sorl_SORL_LOC6_AMT,\n    cast(sorl.SORL_GRP6_AMT as FLOAT) as sorl_SORL_GRP6_AMT,\n    cast(sorl.SORL_DOC7_AMT as FLOAT) as sorl_SORL_DOC7_AMT,\n    cast(sorl.SORL_DOC10_AMT as FLOAT) as sorl_SORL_DOC10_AMT,\n    sorl.SORL_ATTR2_CODE as sorl_SORL_ATTR2_CODE,\n    sorl.SORL_ATTR3_CODE as sorl_SORL_ATTR3_CODE,\n    sorl.SORL_ATTR4_NAME as sorl_SORL_ATTR4_NAME,--ip_address\n    sorl.SORL_ATTR2_TEXT as sorl_SORL_ATTR2_TEXT,--Parent Bundle Number\n    sorl.SORL_ATTR4_TEXT as sorl_SORL_ATTR4_TEXT,--Tax Exempt Flag\n    sorl.SORL_ATTR5_TEXT as sorl_SORL_ATTR5_TEXT,--Immediate parent order number\n    sorl.SORL_ATTR6_TEXT as sorl_SORL_ATTR6_TEXT,\n    sorl.SORL_ATTR7_TEXT as sorl_SORL_ATTR7_TEXT,--PL code\n    sorl.IA_INSERT_DT as sorl_IA_INSERT_DT,\n    sorl.IA_UPDATE_DT as sorl_IA_UPDATE_DT,\n    sorl.SOURCE_ID as sorl_SOURCE_ID,\n    cast(sorl.GM_POINTS as FLOAT) as sorl_GM_POINTS,\n    cast(sorl.PAYMENT_TYPE1_KEY as int) as sorl_PAYMENT_TYPE1_KEY,\n    cast(sorl.PAYMENT_TYPE2_KEY as int) as sorl_PAYMENT_TYPE2_KEY,\n    cast(sorl.PAYMENT_TYPE3_KEY as int) as sorl_PAYMENT_TYPE3_KEY,\n    cast(sorl.PAYMENT_TYPE1_AMT as FLOAT) as sorl_PAYMENT_TYPE1_AMT,\n    cast(sorl.PAYMENT_TYPE2_AMT as FLOAT) as sorl_PAYMENT_TYPE2_AMT,\n    cast(sorl.PAYMENT_TYPE3_AMT as FLOAT) as sorl_PAYMENT_TYPE3_AMT,\n    cast(sorl.COUPON_DISC_AMT as FLOAT) as sorl_COUPON_DISC_AMT,\n    cast(sorl.INSTANT_REBATE_DISC_AMT as FLOAT) as sorl_INSTANT_REBATE_DISC_AMT,\n    cast(sorl.ORDER_TYPE as int) as sorl_ORDER_TYPE,\n    --case when ORDER_TYPE =0 then \"Consumer\" when ORDER_TYPE =0 then \"Business\" end sorl_ORDER_TYPE,\n    cast(sorl.PRICE_OVERRIDE_AMT as FLOAT) as sorl_PRICE_OVERRIDE_AMT,\n    sorl.PRICE_OVERRIDE_REASON_CODE as sorl_PRICE_OVERRIDE_REASON_CODE,\n    sorl.TAX_EXMPT_ORD as sorl_TAX_EXMPT_ORD,\n    sorl.BUNDLE_SKU as sorl_BUNDLE_SKU,\n    sorl.SAVED_CREDIT_CARD as sorl_SAVED_CREDIT_CARD,\n    sorl.EXPECTED_DELIVERY_DATE as sorl_EXPECTED_DELIVERY_DATE,\n    cast(sorl.EXTNSUBSIDYAMOUNT as FLOAT) as sorl_EXTNSUBSIDYAMOUNT,\n    sorl.CUSTOMER_CANCELLATION_SOURCE as sorl_CUSTOMER_CANCELLATION_SOURCE,\n    sorl.CANCELLED_BY as sorl_CANCELLED_BY,\n    sorl.CANCELLATION_DATE as sorl_CANCELLATION_DATE,\n    sorl.CANCEL_REASON_CODE as sorl_CANCEL_REASON_CODE,\n    sorl.RETURNED_BY as sorl_RETURNED_BY,\n    sorl.INITIATED_RETURN_ORDERDATE as sorl_INITIATED_RETURN_ORDERDATE,\n    sorl.PROCESSING_RETURN_ORDERDATE as sorl_PROCESSING_RETURN_ORDERDATE,\n    sorl.RETURN_CONDITION as sorl_RETURN_CONDITION,\n    sorl.EXTNSUBSIDYFLAG as sorl_EXTNSUBSIDYFLAG,\n    sorl.EXTNSUBSIDYORDAPPROVEDBY as sorl_EXTNSUBSIDYORDAPPROVEDBY,\n    sorl.EXTNSUBSIDYSHIPPERID as sorl_EXTNSUBSIDYSHIPPERID,\n    sorl.EXTNSUBSIDYACCOUNTNAME as sorl_EXTNSUBSIDYACCOUNTNAME,\n    sorl.EXTN_PSTORE_NAME as sorl_EXTN_PSTORE_NAME,\n    sorl.EXTN_ACCOUNT_NAME as sorl_EXTN_ACCOUNT_NAME,\n    cast(SORL.P_SALES_ORDLN_KEY as long) as \tSORL_P_SALES_ORDLN_KEY,\n    SORL.P_ORDER_NUM_BV as \tSORL_P_ORDER_NUM_BV,\n    SORL.P_ORDER_NUM_SAP as \tSORL_P_ORDER_NUM_SAP,\n    cast(SORL.P_SALES_ORDER_ITEM as int) as \tSORL_P_SALES_ORDER_ITEM,\n    cast(SORL.P_CUST_BILL_TO_KEY as long) as \tSORL_P_CUST_BILL_TO_KEY,\n    cast(SORL.P_CUST_SHIP_TO_KEY as long) as \tSORL_P_CUST_SHIP_TO_KEY,\n    cast(SORL.P_DIST_CHANNEL_KEY as int) as \tSORL_P_DIST_CHANNEL_KEY,\n    cast(SORL.P_ORDER_TYPE_KEY as int) as \tSORL_P_ORDER_TYPE_KEY,\n    cast(SORL.P_PAYMENT_TYPE_KEY as int) as \tSORL_P_PAYMENT_TYPE_KEY,\n    cast(SORL.P_PROFIT_CENTER_KEY as int) as \tSORL_P_PROFIT_CENTER_KEY,\n    cast(SORL.P_AFFILIATE_KEY as long) as \tSORL_P_AFFILIATE_KEY,\n    cast(SORL.P_SHIP_METHODS_KEY as int) as \tSORL_P_SHIP_METHODS_KEY,\n    cast(SORL.P_ORDERED_ON_DK_BV as int) as \tSORL_P_ORDERED_ON_DK_BV,\n    cast(SORL.P_ORDERED_ON_DK_SAP as int) as \tSORL_P_ORDERED_ON_DK_SAP,\n    cast(SORL.P_AGENT_KEY as long) as \tSORL_P_AGENT_KEY,\n    cast(SORL.P_SALES_OFFICE_KEY as int) as \tSORL_P_SALES_OFFICE_KEY,\n    SORL.P_SAP_ITEM_CATEGORY as \tSORL_P_SAP_ITEM_CATEGORY,\n    cast(SORL.P_GROSS_SALES_AMT as FLOAT) as \tSORL_P_GROSS_SALES_AMT,\n    cast(SORL.P_COUPON_DISCOUNT_AMT as FLOAT) as \tSORL_P_COUPON_DISCOUNT_AMT,\n    cast(SORL.P_OTHER_DISCOUNT_AMT as FLOAT) as \tSORL_P_OTHER_DISCOUNT_AMT,\n    cast(SORL.P_TAX_AMT as FLOAT) as \tSORL_P_TAX_AMT,\n    cast(SORL.P_FREIGHT_AMT as FLOAT) as \tSORL_P_FREIGHT_AMT,\n    cast(SORL.P_SALES_QTY as INT) as \tSORL_P_SALES_QTY,\n    cast(SORL.P_RECYCLING_FEE as FLOAT) as \tSORL_P_RECYCLING_FEE,\n    cast(SORL.P_SHIPPED_ON_DK as INT) as \tSORL_P_SHIPPED_ON_DK,\n    cast(SORL.P_INVOICED_ON_DK as INT) as \tSORL_P_INVOICED_ON_DK,\n    cast(SORL.P_STATUS_KEY as INT) as \tSORL_P_STATUS_KEY,\n    case when sorl_2.P_SALES_ORDLN_KEY is not null  then 1 when sorl_2.P_SALES_ORDLN_KEY is  null    then 0 else NULL end  as Flag_returned, \n\n    dk4.CAL_DAY_DT as SORL_CREATED_DT,\n    dk5.CAL_DAY_DT as SORL_CHANGED_DT,\n    dk6.CAL_DAY_DT as SORL_ORDERED_DT,\n    dk7.CAL_DAY_DT as SORL_BOOKED_DT,\n    dk8.CAL_DAY_DT as SORL_REQUIRED_DT,\n    dk9.CAL_DAY_DT as SORL_PURCHASE_ORDER_DT,\n    dk10.CAL_DAY_DT as SORL_PROMISED_DT,\n    dk11.CAL_DAY_DT as SORL_SHIPMENT_DT,--new\n    cast(dk9.FSC_QTR_NUM as INT) as FSC_QTR_NUM,\n    dk9.FSC_QTR_STR as FSC_QTR_STR,\n    cast(dk9.FSC_YEAR_STR as INT) as FSC_YEAR,\n\n    cast(prod.CREATED_ON_DK  as INT) as prod_CREATED_ON_DK, dk1.CAL_DAY_DT as prod_CREATED_DT,\n    cast(prod.CHANGED_ON_DK as INT) as prod_CHANGED_ON_DK, dk2.CAL_DAY_DT as prod_CHANGED_DT,\n    prod.PRODUCT_NUM as prod_PRODUCT_NUM,prod.PRODUCT_DESC as prod_PRODUCT_DESC,prod.ALT_PRODUCT_NUM as prod_ALT_PRODUCT_NUM,prod.UNIV_PROD_CODE as prod_UNIV_PROD_CODE,prod.PRODUCT_GRP_CODE as prod_PRODUCT_GRP_CODE,--Product Line\n    prod.PRODUCT_GRP_DESC as prod_PRODUCT_GRP_DESC,prod.PROD_HIER2_NAME as prod_PROD_HIER2_NAME,prod.PROD_HIER3_NAME as prod_PROD_HIER3_NAME,\n    prod.PROD_HIER4_NAME as prod_PROD_HIER4_NAME,--prod category\n    prod.PROD_HIER5_NAME as prod_PROD_HIER5_NAME,prod.DIVISION_DESC as prod_DIVISION_DESC,prod.UOW_CODE as prod_UOW_CODE,prod.UOW_DESC as prod_UOW_DESC,\n    cast(prod.UNIT_GROSS_WEIGHT as FLOAT) as prod_UNIT_GROSS_WEIGHT,cast(prod.UNIT_NET_WEIGHT as FLOAT) as prod_UNIT_NET_WEIGHT,prod.PROD_ATTR1_NAME as prod_PROD_ATTR1_NAME,prod.PROD_ATTR10_NAME as prod_PROD_ATTR10_NAME,prod.PROD_ATTR4_TEXT as prod_PROD_ATTR4_TEXT,prod.IA_INSERT_DT as prod_IA_INSERT_DT,prod.IA_UPDATE_DT as prod_IA_UPDATE_DT,prod.PLANNING_PL_CATEGORY as prod_PLANNING_PL_CATEGORY,cast(prod.FREIGHT_INDICATOR as INT) as prod_FREIGHT_INDICATOR,prod.SHIP_RATE as prod_SHIP_RATE,prod.SHIP_WEIGHT as prod_SHIP_WEIGHT,prod.CAREPACK_TYPE as prod_CAREPACK_TYPE,\n\n    prod_cat.Profit_Center_Code as \tprod_cat_Profit_Center_Code,\n    prod_cat.Profit_Center_S4 as \tprod_cat_Profit_Center_S4,\n    prod_cat.Profit_Center_Legacy as\tprod_cat_Profit_Center_Legacy,\n    prod_cat.Profit_Center_Description_L6 as\tprod_cat_Profit_Center_Description_L6,\n    --\"prod_cat.Sub-Sub_Category_L5\" as \tprod_cat_Sub_Sub_Category_L5,\n    --\"prod_cat.Sub-Category_L4\" as \tprod_cat_Sub_Category_L4,\n    `Sub-Sub_Category_L5` as \tprod_cat_Sub_Sub_Category_L5,\n    `Sub-Category_L4` as \tprod_cat_Sub_Category_L4,\n    prod_cat.Category_L3 as \tprod_cat_Category_L3,\n    prod_cat.Profit_Center_Level_2 as \tprod_cat_Profit_Center_Level_2,\n    prod_cat.Profit_Center_Level_1 as \tprod_cat_Profit_Center_Level_1,\n    prod_cat.IPG_External_reporting as \tprod_cat_IPG_External_reporting,\n    prod_cat.Segment as \tprod_cat_Segment,\n\n    --CUST.CUSTOMER_KEY as CUST_CUSTOMER_KEY,\n    cast(CUST.PROFILE1_KEY as INT) as CUST_PROFILE1_KEY,cast(CUST.PROFILE2_KEY as INT) as CUST_PROFILE2_KEY,cast(CUST.PROFILE3_KEY as INT) as CUST_PROFILE3_KEY,\n    dk12.CAL_DAY_DT as CUST_PROFILE1_DT,dk13.CAL_DAY_DT as CUST_PROFILE2_DT,dk14.CAL_DAY_DT as CUST_PROFILE3_DT,--new\n    cast(CUST.CHANGED_ON_DK as INT) as CUST_CHANGED_ON_DK,dk3.CAL_DAY_DT as CUST_CHANGED_DT,\n    CUST.CUSTOMER_NUM as CUST_CUSTOMER_NUM,CUST.CUSTOMER_NAME as CUST_CUSTOMER_NAME,\n    CUST.CUST_TYPE_CODE as CUST_CUST_TYPE_CODE, \n    --case when CUST.CUST_TYPE_CODE =\"R\" then \"Registered\" when CUST.CUST_TYPE_CODE =\"G\" then \"Guest\" end CUST_CUST_TYPE_CODE, but values having H1,H3,H6..\n    CUST.CUST_TYPE_NAME as CUST_CUST_TYPE_NAME,\n    CUST.CUST_CAT_CODE as CUST_CUST_CAT_CODE,--hp employee retiree flag\n    --case  when CUST.CUST_CAT_CODE =1 then \"Retiree\" else \"Non-Retiree\" end CUST_CUST_CAT_CODE,\n    CUST.CUST_CAT_NAME as CUST_CUST_CAT_NAME,--hp employee status\n    --case when CUST.CUST_CAT_NAME =0 then \"Active\" when CUST.CUST_CAT_NAME =1 then \"Inactive\" when CUST.CUST_CAT_NAME =2 then \"Retiree\" else \"Non-HP Employee\" end CUST_CUST_CAT_NAME,( but col is descriptve )\n    CUST.CUST_ATTR1_CODE as CUST_CUST_ATTR1_CODE,--city\n    CUST.CUST_ATTR1_NAME as CUST_CUST_ATTR1_NAME,--first name\n    CUST.CUST_ATTR2_CODE as CUST_CUST_ATTR2_CODE,--state\n    CUST.CUST_ATTR2_NAME as CUST_CUST_ATTR2_NAME,--last name\n    CUST.CUST_ATTR3_CODE as CUST_CUST_ATTR3_CODE,--zip code\n    CUST.CUST_ATTR3_NAME as CUST_CUST_ATTR3_NAME,--street address\n    CUST.CUST_ATTR4_CODE as CUST_CUST_ATTR4_CODE,--customer phone number\n    CUST.CUST_ATTR5_TEXT as CUST_CUST_ATTR5_TEXT,--email address\n    CUST.IA_INSERT_DT as CUST_IA_INSERT_DT,CUST.IA_UPDATE_DT as CUST_IA_UPDATE_DT,\n    --CUST.CUST_FLAG as CUST_CUST_FLAG,\n    nullif(CUST.CUST_FLAG, \"NA\") as  CUST_CUST_FLAG,\n    --case when CUST.CUST_FLAG =\"B\" then \"SMB Registered\" when CUST.CUST_FLAG =\"C\" then \"Consumer Registered\"  when CUST.CUST_FLAG =\"NA\" then \"Guest\" end CUST_CUST_FLAG,\n    CUST.SMB_COMP_NAME as CUST_SMB_COMP_NAME,\n    cast(CUST.SAVED_CC_COUNT as INT) as CUST_SAVED_CC_COUNT,\n    cast(CUST.CUST_HIER1_CODE as INT) as CUST_CUST_HIER1_CODE,\n    --CUST.CUST_HIER1_NAME as CUST_CUST_HIER1_NAME,\n    CUST.CUST_TYPE as CUST_CUST_TYPE,\n    CUST.CUST_HIER3_CODE as CUST_CUST_HIER3_CODE,\n    CUST.CUST_HIER3_NAME as CUST_CUST_HIER3_NAME,\n    CUST.CUST_HIER4_CODE as CUST_CUST_HIER4_CODE,\n    CUST.CUST_HIER5_NAME as CUST_CUST_HIER5_NAME,--email\n    CUST.LOYALTY_USER_FLAG as CUST_LOYALTY_USER_FLAG,\n    CUST.LOYALTY_REGISTRATION_DATE as CUST_LOYALTY_REGISTRATION_DATE,\n    CUST.CUST_ATTR2_TEXT as CUST_CUST_ATTR2_TEXT,\n    CUST.CUST_ATTR3_TEXT as CUST_CUST_ATTR3_TEXT,\n    CUST.CUST_ATTR4_NAME as CUST_CUST_ATTR4_NAME,\n    CUST.CUST_ATTR9_NAME as CUST_CUST_ATTR9_NAME,\n    CUST.IDME_GROUP as CUST_IDME_GROUP,\n\n    --sorl.CUST_SHIP_TO_KEY as sorl_CUST_SHIP_TO_KEY,\n    cast(SHIPTO_LOC.CUST_LOC_KEY as long) as SHIPTO_CUST_LOC_KEY,\n    SHIPTO_LOC.ADDRESS_NUM as SHIPTO_ADDRESS_NUM,SHIPTO_LOC.LOCATION_TYPE as SHIPTO_LOCATION_TYPE,SHIPTO_LOC.STREET_NAME as SHIPTO_STREET_NAME,SHIPTO_LOC.CITY_NAME as SHIPTO_CITY_NAME,SHIPTO_LOC.STATE_CODE as SHIPTO_STATE_CODE,SHIPTO_LOC.STATE_NAME as SHIPTO_STATE_NAME,SHIPTO_LOC.COUNTRY_CODE as SHIPTO_COUNTRY_CODE,SHIPTO_LOC.COUNTY_CODE as SHIPTO_COUNTY_CODE,SHIPTO_LOC.POSTAL_CODE as SHIPTO_POSTAL_CODE,SHIPTO_LOC.PHONE_NUM as SHIPTO_PHONE_NUM,SHIPTO_LOC.EMAIL_ADDRESS as SHIPTO_EMAIL_ADDRESS,SHIPTO_LOC.PRMRY_CNTCT_NAME as SHIPTO_PRMRY_CNTCT_NAME,SHIPTO_LOC.CLOC_ATTR3_NAME as SHIPTO_CLOC_ATTR3_NAME,SHIPTO_LOC.CLOC_ATTR5_NAME as SHIPTO_CLOC_ATTR5_NAME,SHIPTO_LOC.IA_INSERT_DT as SHIPTO_IA_INSERT_DT,SHIPTO_LOC.IA_UPDATE_DT as SHIPTO_IA_UPDATE_DT,SHIPTO_LOC.SMB_COMP_NAME as SHIPTO_SMB_COMP_NAME,\n\n    --sorl.CUST_BILL_TO_KEY as sorl_CUST_BILL_TO_KEY,\n    cast(BILLTO_LOC.CUST_LOC_KEY as long) as BILLTO_CUST_LOC_KEY,cast(BILLTO_LOC.CUSTOMER_KEY as long) as BILLTO_CUSTOMER_KEY,BILLTO_LOC.ADDRESS_NUM as BILLTO_ADDRESS_NUM,BILLTO_LOC.LOCATION_TYPE as BILLTO_LOCATION_TYPE,BILLTO_LOC.STREET_NAME as BILLTO_STREET_NAME,BILLTO_LOC.CITY_NAME as BILLTO_CITY_NAME,BILLTO_LOC.STATE_CODE as BILLTO_STATE_CODE,BILLTO_LOC.STATE_NAME as BILLTO_STATE_NAME,BILLTO_LOC.COUNTRY_CODE as BILLTO_COUNTRY_CODE,BILLTO_LOC.COUNTY_CODE as BILLTO_COUNTY_CODE,BILLTO_LOC.POSTAL_CODE as BILLTO_POSTAL_CODE,BILLTO_LOC.PHONE_NUM as BILLTO_PHONE_NUM,BILLTO_LOC.EMAIL_ADDRESS as BILLTO_EMAIL_ADDRESS,BILLTO_LOC.PRMRY_CNTCT_NAME as BILLTO_PRMRY_CNTCT_NAME,\n    --BILLTO_LOC.CLOC_ATTR3_NAME as BILLTO_CLOC_ATTR3_NAME,BILLTO_LOC.CLOC_ATTR5_NAME as BILLTO_CLOC_ATTR5_NAME,\n    BILLTO_LOC.IA_INSERT_DT as BILLTO_IA_INSERT_DT,BILLTO_LOC.IA_UPDATE_DT as BILLTO_IA_UPDATE_DT,BILLTO_LOC.SMB_COMP_NAME as BILLTO_SMB_COMP_NAME,\n\n    -- cast(gift_card.GIFT_CARD_NUM as LONG) as gift_GIFT_CARD_NUM,\n    -- cast(gift_card.GIFT_CARD_KEY as INT) as gift_GIFT_CARD_KEY,\n    -- cast(gift_card.CUST_BILL_TO_KEY as long) as gift_CUST_BILL_TO_KEY,\n    -- cast(gift_card.CUST_SHIP_TO_KEY as long) as gift_CUST_SHIP_TO_KEY,\n    -- cast(gift_card.ORDER_TYPE_KEY as INT) as gift_ORDER_TYPE_KEY,\n    -- cast(gift_card.ITEM_STATUS_KEY as INT) as gift_ITEM_STATUS_KEY,\n    -- cast(gift_card.SHIPPED_ON_DK as INT) as gift_SHIPPED_ON_DK,\n    -- cast(gift_card.INV_ON_DK as INT) as gift_INV_ON_DK,\n    -- cast(gift_card.PRODUCT_KEY as INT) as gift_PRODUCT_KEY,\n    -- cast(gift_card.SALES_OFFICE_KEY as INT) as gift_SALES_OFFICE_KEY,\n    -- cast(gift_card.DIST_CHANNEL_KEY as INT) as gift_DIST_CHANNEL_KEY,\n    -- cast(gift_card.AGENT_KEY as INT) as gift_AGENT_KEY,\n    -- cast(gift_card.PAYMENT_TYPE1_KEY as INT) as gift_PAYMENT_TYPE1_KEY,\n    -- cast(gift_card.PAYMENT_TYPE3_KEY as INT) as gift_PAYMENT_TYPE3_KEY,\n    -- cast(gift_card.GIFT_CARD_STATUS_KEY as INT) as gift_GIFT_CARD_STATUS_KEY,\n    -- cast(gift_card.GIFT_CARD_TYPE_KEY as INT) as gift_GIFT_CARD_TYPE_KEY,\n    -- cast(gift_card.LAST_ACT_KEY as INT) as gift_LAST_ACT_KEY,\n    -- cast(gift_card.REBATE_ORDER_KEY as INT) as gift_REBATE_ORDER_KEY,\n\n    -- gift_card.SALES_ORDER_NUM as gift_SALES_ORDER_NUM,\n    -- cast(gift_card.SALES_ORDER_ITEM as INT) as gift_SALES_ORDER_ITEM,\n    -- gift_card.BV_ORDER_NUM as gift_BV_ORDER_NUM,gift_card.FIRST_RDM_DT as gift_FIRST_RDM_DT,gift_card.FIRST_RDM_ODR_NUM as gift_FIRST_RDM_ODR_NUM,\n    -- cast(gift_card.FIRST_RDM_AMT as FLOAT) as gift_FIRST_RDM_AMT,\n    -- gift_card.LAST_RDM_DT as gift_LAST_RDM_DT,gift_card.LAST_RDM_ODR_NUM as gift_LAST_RDM_ODR_NUM,\n    -- cast(gift_card.LAST_RDM_AMT as FLOAT) as gift_LAST_RDM_AMT,\n    -- gift_card.SHIPPED_TO_STATE_CD as gift_SHIPPED_TO_STATE_CD,gift_card.LAST_USAGE_DT as gift_LAST_USAGE_DT,\n    -- cast(gift_card.GIFT_CARD_ORIG_AMT as FLOAT) as gift_GIFT_CARD_ORIG_AMT,\n    -- cast(gift_card.GIFT_CARD_RDM_AMT as FLOAT) as gift_GIFT_CARD_RDM_AMT,\n    -- cast(gift_card.GIFT_CARD_AVAIL_AMT as FLOAT) as gift_GIFT_CARD_AVAIL_AMT,\n    -- cast(gift_card.REDEEM_ACT_CNT as INT) as gift_REDEEM_ACT_CNT ,gift_card.IA_INSERT_DT as gift_IA_INSERT_DT,gift_card.IA_UPDATE_DT as gift_IA_UPDATE_DT,\n    -- cast(gift_card.COUPON_DISC_AMT as FLOAT) as gift_COUPON_DISC_AMT,\n    -- cast(gift_card.INSTANT_REBATE_DISC_AMT as FLOAT) as gift_INSTANT_REBATE_DISC_AMT,\n    -- cast(gift_card.COUPON_KEY as LONG) as gift_COUPON_KEY,\n\n    -- cast(GIFT_CARD_STATUS.GIFT_CARD_STATUS_CODE_KEY as INT) as GIFT_CARD_STATUS_GIFT_CARD_STATUS_CODE_KEY,cast(GIFT_CARD_STATUS.STATUS_CODE as INT) as GIFT_CARD_STATUS_STATUS_CODE,GIFT_CARD_STATUS.STATUS_DESC as GIFT_CARD_STATUS_STATUS_DESC,GIFT_CARD_STATUS.STATUS_NAME as GIFT_CARD_STATUS_STATUS_NAME,\n\n    -- cast(GIFT_CARD_TYPE.GIFT_CARD_TYPE_CODE as INT) as GIFT_CARD_TYPE_GIFT_CARD_TYPE_CODE,GIFT_CARD_TYPE.GIFT_CARD_TYPE_DESC as GIFT_CARD_TYPE_GIFT_CARD_TYPE_DESC,\n    --GIFT_CARD_TYPE.GIFT_CARD_TYPE_KEY as GIFT_CARD_TYPE_GIFT_CARD_TYPE_KEY\n\n    -- cast(GIFT_CARD_ACTIVITY.GIFT_CARD_ACTIVITY_CODE as INT) as GIFT_CARD_ACTIVITY_GIFT_CARD_ACTIVITY_CODE,\n    -- --GIFT_CARD_ACTIVITY.GIFT_CARD_ACTIVITY_CODE_KEY as GIFT_CARD_ACTIVITY_GIFT_CARD_ACTIVITY_CODE_KEY,\n    -- GIFT_CARD_ACTIVITY.GIFT_CARD_ACTIVITY_DESC as GIFT_CARD_ACTIVITY_GIFT_CARD_ACTIVITY_DESC,GIFT_CARD_ACTIVITY.GIFT_CARD_ACTIVITY_NAME as GIFT_CARD_ACTIVITY_GIFT_CARD_ACTIVITY_NAME,\n\n    -- gcd_pay1.SOURCE_DESC_1 as gcd_pay1_SOURCE_DESC_1,gcd_pay1.CATEGORY as gcd_pay1_CATEGORY,gcd_pay1.SOURCE_CODE_2 as gcd_pay1_SOURCE_CODE_2,gcd_pay1.SOURCE_DESC_2\n    -- as gcd_pay1_SOURCE_DESC_2,gcd_pay1.MASTER_CODE as gcd_pay1_MASTER_CODE,\tgcd_pay1.MASTER_VALUE as gcd_pay1_MASTER_VALUE,\n\n\n    -- gcd_pay3.SOURCE_DESC_1 as gcd_pay3_SOURCE_DESC_1,gcd_pay3.CATEGORY as gcd_pay3_CATEGORY,gcd_pay3.SOURCE_CODE_2 as gcd_pay3_SOURCE_CODE_2,gcd_pay3.SOURCE_DESC_2\n    -- as gcd_pay3_SOURCE_DESC_2,gcd_pay3.MASTER_CODE as gcd_pay3_MASTER_CODE,\tgcd_pay3.MASTER_VALUE as gcd_pay3_MASTER_VALUE,\n\n    --sorl.COUPON_KEY as sorl_COUPON_KEY,\n    COUPON.COUPON_CODE as COUPON_COUPON_CODE,\n    COUPON.INCENTIVE_NAME as COUPON_INCENTIVE_NAME,\n    COUPON.INCENTIVE_DESC as COUPON_INCENTIVE_DESC,\n    COUPON.RDM_START_DT as COUPON_RDM_START_DT,\n    COUPON.RDM_STOP_DT as COUPON_RDM_STOP_DT,\n    cast(COUPON.DISCOUNT_VALUE as INT) as COUPON_DISCOUNT_VALUE,\n    COUPON.SPONSOR as COUPON_SPONSOR,\n    COUPON.IA_INSERT_DT as COUPON_IA_INSERT_DT,\n    COUPON.IA_UPDATE_DT as COUPON_IA_UPDATE_DT,\n\n    PLANT.BUSN_LOC_TYPE as PLANT_BUSN_LOC_TYPE,PLANT.BUSN_LOC_NUM as PLANT_BUSN_LOC_NUM,PLANT.BUSN_LOC_NAME as PLANT_BUSN_LOC_NAME,PLANT.PARENT_LOC_NUM as PLANT_PARENT_LOC_NUM,PLANT.PARENT_LOC_NAME  as PLANT_PARENT_LOC_NAME ,PLANT.STREET_NUM as PLANT_STREET_NUM,PLANT.STREET_NAME  as PLANT_STREET_NAME ,PLANT.CITY_NAME as PLANT_CITY_NAME,PLANT.STATE_CODE as PLANT_STATE_CODE,PLANT.STATE_NAME as PLANT_STATE_NAME,PLANT.REGION_CODE as PLANT_REGION_CODE,PLANT.REGION_NAME as PLANT_REGION_NAME,PLANT.COUNTRY_CODE as PLANT_COUNTRY_CODE,PLANT.COUNTRY_NAME as PLANT_COUNTRY_NAME,PLANT.POSTAL_CODE as PLANT_POSTAL_CODE,\n\n    --SALES_AREA.BUSN_ORG_KEY as SALES_AREA_BUSN_ORG_KEY,\n    SALES_AREA.BUSN_ORG_TYPE as SALES_AREA_BUSN_ORG_TYPE,SALES_AREA.BORG_HIER2_CODE as SALES_AREA_BORG_HIER2_CODE,SALES_AREA.BORG_HIER2_NAME as SALES_AREA_BORG_HIER2_NAME,\n\n    --SALES_GEO.BUSN_ORG_KEY as SALES_GEO_BUSN_ORG_KEY,\n    SALES_GEO.BUSN_ORG_TYPE as SALES_GEO_BUSN_ORG_TYPE,SALES_GEO.BORG_HIER2_CODE as SALES_GEO_BORG_HIER2_CODE,SALES_GEO.BORG_HIER2_NAME as SALES_GEO_BORG_HIER2_NAME,\n\n    XACT.XACT_CODE as XACT_XACT_CODE,XACT.XACT_TYPE_CODE as XACT_XACT_TYPE_CODE,XACT.XACT_TYPE_DESC as XACT_XACT_TYPE_DESC,XACT.IA_XACT_TYPE_CODE as XACT_IA_XACT_TYPE_CODE,XACT.IA_XACT_TYPE_DESC as XACT_IA_XACT_TYPE_DESC,\n\n    CODES.SOURCE_DESC_1 as CODES_SOURCE_DESC_1,CODES.CATEGORY as CODES_CATEGORY,CODES.SOURCE_CODE_2 as CODES_SOURCE_CODE_2,CODES.SOURCE_DESC_2\n    as CODES_SOURCE_DESC_2,CODES.MASTER_CODE as CODES_MASTER_CODE,\tCODES.MASTER_VALUE as CODES_MASTER_VALUE,\n\n    item_cat.SOURCE_DESC_1 as item_cat_SOURCE_DESC_1,item_cat.CATEGORY as item_cat_CATEGORY,item_cat.SOURCE_CODE_2 as item_cat_SOURCE_CODE_2,item_cat.SOURCE_DESC_2\n    as item_cat_SOURCE_DESC_2,item_cat.MASTER_CODE as item_cat_MASTER_CODE,\titem_cat.MASTER_VALUE as item_cat_MASTER_VALUE,\n\n    STATUS4.STATUS_TYPE as STATUS4_STATUS_TYPE,STATUS4.STATUS_NAME as STATUS4_STATUS_NAME,STATUS4.STATUS_DESC as STATUS4_STATUS_DESC,STATUS4.STATUS_CAT_CODE as STATUS4_STATUS_CAT_CODE,\n    STATUS4.STAT_ATTR3_NAME\t as STATUS4_STAT_ATTR3_NAME,STATUS4.STAT_ATTR1_TEXT as STATUS4_STAT_ATTR1_TEXT,\n\n    STATUS.STATUS_TYPE as STATUS_STATUS_TYPE,STATUS.STATUS_NAME as STATUS_STATUS_NAME,STATUS.STATUS_DESC as STATUS_STATUS_DESC,STATUS.STATUS_CAT_CODE as STATUS_STATUS_CAT_CODE,\n    STATUS.STAT_ATTR3_NAME\t as STATUS_STAT_ATTR3_NAME,STATUS.STAT_ATTR1_TEXT as STATUS_STAT_ATTR1_TEXT,\n\n    cast(aff.AO_ID as INT) as aff_AO_ID,aff.AFF_DESCRIPTION as aff_AFF_DESCRIPTION,aff.AFF_PARTNER as aff_AFF_PARTNER,aff.AFF_SITE_URL as aff_AFF_SITE_URL,aff.AFF_LOCATION as aff_AFF_LOCATION,aff.AFF_LOCATION_URL as aff_AFF_LOCATION_URL,aff.ETR_IDENTIFIER as aff_ETR_IDENTIFIER,\n\n    ret.SOURCE_DESC_1 as ret_SOURCE_DESC_1,ret.CATEGORY as ret_CATEGORY,\n    ret.SOURCE_CODE_2 as ret_SOURCE_CODE_2,ret.SOURCE_DESC_2\n    as ret_SOURCE_DESC_2,ret.MASTER_CODE as ret_MASTER_CODE,\tret.MASTER_VALUE as ret_MASTER_VALUE,\n\n    PAY1.SOURCE_DESC_1 as PAY1_SOURCE_DESC_1,PAY1.CATEGORY as PAY1_CATEGORY,\n    PAY1.SOURCE_CODE_2 as PAY1_SOURCE_CODE_2,PAY1.SOURCE_DESC_2\n    as PAY1_SOURCE_DESC_2,PAY1.MASTER_CODE as PAY1_MASTER_CODE,\tPAY1.MASTER_VALUE as PAY1_MASTER_VALUE,\n\n    PAY2.SOURCE_DESC_1 as PAY2_SOURCE_DESC_1,PAY2.CATEGORY as PAY2_CATEGORY,\n    PAY2.SOURCE_CODE_2 as PAY2_SOURCE_CODE_2,PAY2.SOURCE_DESC_2\n    as PAY2_SOURCE_DESC_2,PAY2.MASTER_CODE as PAY2_MASTER_CODE,\tPAY2.MASTER_VALUE as PAY2_MASTER_VALUE,\n\n    PAY3.SOURCE_DESC_1 as PAY3_SOURCE_DESC_1,PAY3.CATEGORY as PAY3_CATEGORY,\n    PAY3.SOURCE_CODE_2 as PAY3_SOURCE_CODE_2,PAY3.SOURCE_DESC_2\n    as PAY3_SOURCE_DESC_2,PAY3.MASTER_CODE as PAY3_MASTER_CODE,\tPAY3.MASTER_VALUE as PAY3_MASTER_VALUE,\n\n    P_PAY1.SOURCE_DESC_1 as P_PAY1_SOURCE_DESC_1,P_PAY1.CATEGORY as P_PAY1_CATEGORY,\n    P_PAY1.SOURCE_CODE_2 as P_PAY1_SOURCE_CODE_2,P_PAY1.SOURCE_DESC_2\n    as P_PAY1_SOURCE_DESC_2,P_PAY1.MASTER_CODE as P_PAY1_MASTER_CODE,\tP_PAY1.MASTER_VALUE as P_PAY1_MASTER_VALUE,\n\n    P_PAY3.SOURCE_DESC_1 as P_PAY3_SOURCE_DESC_1,P_PAY3.CATEGORY as P_PAY3_CATEGORY,\n    P_PAY3.SOURCE_CODE_2 as P_PAY3_SOURCE_CODE_2,P_PAY3.SOURCE_DESC_2\n    as P_PAY3SOURCE_DESC_2,P_PAY3.MASTER_CODE as P_PAY3_MASTER_CODE,\tP_PAY3.MASTER_VALUE as P_PAY3_MASTER_VALUE,\n\n    ship.CARRIER_NAME as ship_CARRIER_NAME,ship.DESCRIPTION as ship_DESCRIPTION,cast(ship.PREFERENCE_ORDER as INT) as ship_PREFERENCE_ORDER\n\n    from stg_hhobi.hhobi_bronze.ia_sales_ordlns sorl\n    left join stg_hhobi.hhobi_bronze.ia_sales_ordlns sorl_2  on sorl.SALES_ORDLN_KEY =sorl_2.P_SALES_ORDLN_KEY -- to add flag_returned column\n\n    left join stg_hhobi.hhobi_bronze.ia_products prod on sorl.PRODUCT_KEY=prod.PRODUCT_KEY\n    left   join stg_hhobi.hhobi_bronze.product_category prod_cat  on prod.PRODUCT_GRP_CODE =prod_cat.Profit_Center_Code\n\n    left join stg_hhobi.hhobi_bronze.ia_dates dk1 on prod.CREATED_ON_DK=dk1.date_key\n    left join stg_hhobi.hhobi_bronze.ia_dates dk2 on prod.CHANGED_ON_DK=dk2.date_key\n    left join stg_hhobi.hhobi_bronze.IA_CUSTOMERS CUST on sorl.CUSTOMER_KEY=CUST.CUSTOMER_KEY\n    left join stg_hhobi.hhobi_bronze.ia_dates dk3 on cust.CHANGED_ON_DK=dk3.date_key\n    left join stg_hhobi.hhobi_bronze.ia_dates dk4 on sorl.CREATED_ON_DK=dk4.date_key\n    left join stg_hhobi.hhobi_bronze.ia_dates dk5 on sorl.CHANGED_ON_DK=dk5.date_key\n    left join stg_hhobi.hhobi_bronze.ia_dates dk6 on sorl.ORDERED_ON_DK=dk6.date_key\n    left join stg_hhobi.hhobi_bronze.ia_dates dk7 on sorl.BOOKED_ON_DK=dk7.date_key\n    left join stg_hhobi.hhobi_bronze.ia_dates dk8 on sorl.REQUIRED_BY_DK=dk8.date_key\n    left join stg_hhobi.hhobi_bronze.ia_dates dk9 on sorl.PURCH_ORDER_DK=dk9.date_key\n    left join stg_hhobi.hhobi_bronze.ia_dates dk10 on sorl.PROMISED_ON_DK=dk10.date_key\n    left join stg_hhobi.hhobi_bronze.ia_dates dk11 on sorl.SORL_DATE1_DK=dk11.date_key--new\n    left join stg_hhobi.hhobi_bronze.ia_dates dk12 on cust.PROFILE1_KEY=dk12.date_key\n    left join stg_hhobi.hhobi_bronze.ia_dates dk13 on cust.PROFILE2_KEY=dk13.date_key\n    left join stg_hhobi.hhobi_bronze.ia_dates dk14 on cust.PROFILE3_KEY=dk14.date_key\n\n    left join stg_hhobi.hhobi_bronze.IA_CUST_LOCS SHIPTO_LOC on sorl.CUST_SHIP_TO_KEY=SHIPTO_LOC.CUST_LOC_KEY and SHIPTO_LOC.CUSTOMER_KEY=CUST.CUSTOMER_KEY\n\n    and  SHIPTO_LOC.location_type=\"SHIP_TO\" \n\n    left join stg_hhobi.hhobi_bronze.IA_CUST_LOCS BILLTO_LOC on sorl.CUST_BILL_TO_KEY=BILLTO_LOC.CUST_LOC_KEY and BILLTO_LOC.CUSTOMER_KEY=CUST.CUSTOMER_KEY\n    and  BILLTO_LOC.location_type=\"BILL_TO\" \n\n    --left join  ia_hp_gift_card_redeem_order_expl gift_rdm on lower(sorl.purch_order_num)=lower(gift_rdm.REDEEM_PURCH_ORDER_NUM)\n    -- left join  stg_hhobi.hhobi_bronze.ia_hp_gift_card_redeem_order gift_rdm on int(sorl.GC_REDEEM_ORDER_KEY)=int(gift_rdm.GC_REDEEM_ORDER_KEY)\n\n    -- left join stg_hhobi.hhobi_bronze.IA_HP_GIFT_CARD_DETAILS gift_card  on  int(gift_card.GIFT_CARD_KEY)=int(gift_rdm.GC_REDEEM_ORDER_KEY) \n\n    -- left join stg_hhobi.hhobi_bronze.IA_HP_GIFT_CARD_STATUS_CODE GIFT_CARD_STATUS  on gift_card.GIFT_CARD_STATUS_KEY =GIFT_CARD_STATUS.GIFT_CARD_STATUS_CODE_KEY\n    -- left join stg_hhobi.hhobi_bronze.IA_HP_GIFT_CARD_TYPE GIFT_CARD_TYPE  on gift_card.GIFT_CARD_TYPE_KEY= GIFT_CARD_TYPE.GIFT_CARD_TYPE_KEY\n    -- left join stg_hhobi.hhobi_bronze.IA_HP_GIFT_CARD_ACTIVITY_CODE GIFT_CARD_ACTIVITY  on gift_card.LAST_ACT_KEY= GIFT_CARD_ACTIVITY.GIFT_CARD_ACTIVITY_CODE_KEY\n\n    left join stg_hhobi.hhobi_bronze.IA_HP_COUPONS coupon  on sorl.COUPON_KEY=coupon.COUPON_KEY\n\n    left join stg_hhobi.hhobi_bronze.IA_BUSN_LOCS PLANT  on sorl.PLANT_LOC_KEY=PLANT.BUSN_LOC_KEY and PLANT.BUSN_LOC_TYPE =\"PLANT\"\n\n    left join stg_hhobi.hhobi_bronze.IA_BUSN_ORGS SALES_AREA  on sorl.SALES_AREA_ORG_KEY=SALES_AREA.BUSN_ORG_KEY and SALES_AREA.BUSN_ORG_TYPE =\"SALES_AREA\"\n    left join stg_hhobi.hhobi_bronze.IA_BUSN_ORGS SALES_GEO  on sorl.SALES_GEO_ORG_KEY=SALES_GEO.BUSN_ORG_KEY and SALES_GEO.BUSN_ORG_TYPE =\"SALES_GEOGRAPHY\"\n\n    left join stg_hhobi.hhobi_bronze.IA_XACT_TYPES XACT  on sorl.XACT_TYPE_KEY=XACT.XACT_TYPE_KEY\n    left join stg_hhobi.hhobi_bronze.IA_CODES CODES  on sorl.SORL_DIM3_KEY=CODES.SOURCE_CODE_1 and CODES.CATEGORY =\"PAYMENT_TYPE\"\n    left join stg_hhobi.hhobi_bronze.IA_STATUS STATUS4  on sorl.SORL_DIM4_KEY=STATUS4.STATUS_KEY and STATUS4.STATUS_TYPE =\"SALES_ORDLNS\"\n    left join stg_hhobi.hhobi_bronze.IA_STATUS STATUS  on sorl.ORDER_STATUS_KEY=STATUS.STATUS_KEY and STATUS.STATUS_TYPE =\"SALES_ORDER_PROCESS\"\n    left join stg_hhobi.hhobi_bronze.IA_HP_AFFILIATE aff  on sorl.SORL_DIM5_KEY=aff.AO_ID\n    left join stg_hhobi.hhobi_bronze.ia_codes ret  on sorl.SORL_ATTR2_CODE =ret.SOURCE_CODE_1 and ret.CATEGORY =\"REASON_FOR_RETURN\"\n\n    left join stg_hhobi.hhobi_bronze.IA_CODES PAY1  on int(sorl.PAYMENT_TYPE1_KEY)=int(PAY1.SOURCE_CODE_1) and PAY1.CATEGORY =\"PAYMENT_TYPE\"\n    left join stg_hhobi.hhobi_bronze.IA_CODES PAY2  on int(sorl.PAYMENT_TYPE2_KEY)=int(PAY2.SOURCE_CODE_1) and PAY2.CATEGORY =\"PAYMENT_TYPE\"\n    left join stg_hhobi.hhobi_bronze.IA_CODES PAY3  on int(sorl.PAYMENT_TYPE3_KEY)=int(PAY3.SOURCE_CODE_1) and PAY3.CATEGORY =\"PAYMENT_TYPE\"\n\n    left join stg_hhobi.hhobi_bronze.IA_CODES P_PAY1  on int(sorl.P_PAYMENT_TYPE1_KEY)=int(P_PAY1.SOURCE_CODE_1) and P_PAY1.CATEGORY =\"PAYMENT_TYPE\"\n    left join stg_hhobi.hhobi_bronze.IA_CODES P_PAY3  on int(sorl.P_PAYMENT_TYPE3_KEY)=int(P_PAY3.SOURCE_CODE_1) and P_PAY3.CATEGORY =\"PAYMENT_TYPE\"\n\n    left join stg_hhobi.hhobi_bronze.IA_HP_CARRIER_SHIP_METHODS ship  on sorl.SORL_DIM2_KEY =ship.ID\n\n    -- left join stg_hhobi.hhobi_bronze.IA_CODES gcd_pay1 on int(gift_card.PAYMENT_TYPE1_KEY)=int(gcd_pay1.SOURCE_CODE_1) and gcd_pay1.CATEGORY =\"PAYMENT_TYPE\"\n    -- left join stg_hhobi.hhobi_bronze.IA_CODES gcd_pay3 on int(gift_card.PAYMENT_TYPE3_KEY)=int(gcd_pay3.SOURCE_CODE_1) and gcd_pay3.CATEGORY =\"PAYMENT_TYPE\"\n    left join stg_hhobi.hhobi_bronze.ia_codes item_cat  on sorl.SORL_ATTR3_CODE =item_cat.SOURCE_CODE_1 and item_cat.CATEGORY =\"ITEM_CATEGORY\"\n\n    where  sorl.IA_UPDATE_DT >= \"{}\" ",
         "merge",
         "NA",
         {
          "ColumnName": "IA_UPDATE_DT",
          "Delta": "0",
          "cdcCondition": "(trunc(IA_INSERT_DT) >= {}) OR (trunc(IA_update_DT) >= {})"
         },
         "NA",
         {
          "ColumnName": "NA"
         },
         {
          "ColumnName": "NA"
         },
         "Y",
         "NA",
         "NA",
         "NA",
         "NA",
         "N",
         {
          "recurrence": "monthly",
          "splitColumn": "IA_UPDATE_DT"
         },
         "Running",
         null,
         null,
         null,
         null
        ],
        [
         "A-A1-A102",
         51,
         "IA_HP_LOYALTY_EARNED_POINTS",
         "14",
         "LDATA_ID",
         {
          "ColumnName": "NA",
          "tablesize": "small"
         },
         "NA",
         [
          "NA"
         ],
         "prod_hhobi.hhobi_in.IA_HP_LOYALTY_EARNED_POINTS",
         "NA",
         "(select * FROM { where    trunc(IA_INSERT_DT) >= { or trunc(IA_update_DT) >= { ) fetchsize -> 100000",
         "merge",
         "NA",
         {
          "ColumnName": "IA_UPDATE_DT",
          "Delta": "0",
          "cdcCondition": "(trunc(IA_INSERT_DT) >= {}) OR (trunc(IA_update_DT) >= {})"
         },
         "NA",
         {
          "ColumnName": "NA"
         },
         {
          "ColumnName": "NA"
         },
         "Y",
         "NA",
         "NA",
         "NA",
         "NA",
         "N",
         {
          "recurrence": "monthly",
          "splitColumn": "IA_UPDATE_DT"
         },
         "Completed",
         null,
         null,
         null,
         null
        ],
        [
         "A-A1-A104",
         52,
         "customer_131",
         null,
         "LDATA_ID",
         {
          "ColumnName": "NA",
          "tablesize": "small"
         },
         "NA",
         [
          "NA"
         ],
         "BIDW.customers",
         "NA",
         "",
         "Incremental",
         "merge",
         {
          "ColumnName": "IA_UPDATE_DT",
          "Delta": "3",
          "cdcCondition": "(IA_UPDATE_DT>= to_date({}, 'YYYY-MM-DD HH24:MI:SS') or IA_INSERT_DT>= to_date({}, 'YYYY-MM-DD HH24:MI:SS'))"
         },
         "NA",
         {
          "ColumnName": "NA"
         },
         {
          "ColumnName": "NA"
         },
         "Y",
         "NA",
         "NA",
         "NA",
         "NA",
         "N",
         {
          "recurrence": "monthly",
          "splitColumn": "IA_UPDATE_DT"
         },
         "Completed",
         {
          "dec_dir": "/Volumes/inbound/fdl_itg/s2s_ext_itg/decrypted/testing_31/",
          "file_format": "csv",
          "file_pattern": "ANALYTICS_CUSTOMER_BASE_EXTRACT",
          "is_encrypted": "Y",
          "is_zipped": "Y",
          "unzip_dir": "/Volumes/inbound/fdl_itg/s2s_ext_itg/unzip/testing_31/",
          "working_dir": "/Volumes/inbound/fdl_itg/s2s_ext_itg/source_files"
         },
         "NA",
         null,
         null
        ],
        [
         "A-A1-A102",
         54,
         "IA_HP_AGENTS",
         null,
         "NA",
         {
          "ColumnName": "NA",
          "tablesize": "small"
         },
         "NA",
         [
          "NA"
         ],
         "prod_hhobi.hhobi_in.IA_HP_AGENTS",
         "NA",
         "",
         "Full Refresh",
         "NA",
         {
          "ColumnName": "IA_UPDATE_DT",
          "Delta": "3",
          "cdcCondition": "(trunc(IA_INSERT_DT) >= {}) OR (trunc(IA_update_DT) >= {})"
         },
         "NA",
         {
          "ColumnName": "NA"
         },
         {
          "ColumnName": "NA"
         },
         "Y",
         "NA",
         "NA",
         "NA",
         "NA",
         "N",
         {
          "recurrence": "monthly",
          "splitColumn": "IA_UPDATE_DT"
         },
         "Running",
         null,
         null,
         null,
         null
        ],
        [
         "A-A1-A102",
         56,
         "IA_HP_CTO_CATEGORY",
         null,
         "NA",
         {
          "ColumnName": "NA",
          "tablesize": "small"
         },
         "NA",
         [
          "NA"
         ],
         "prod_hhobi.hhobi_in.IA_HP_CTO_CATEGORY",
         "NA",
         "",
         "Full Refresh",
         "NA",
         {
          "ColumnName": "IA_UPDATE_DT",
          "Delta": "0",
          "cdcCondition": "(trunc(IA_INSERT_DT) >= {}) OR (trunc(IA_update_DT) >= {})"
         },
         "NA",
         {
          "ColumnName": "NA"
         },
         {
          "ColumnName": "NA"
         },
         "Y",
         "NA",
         "NA",
         "NA",
         "NA",
         "N",
         {
          "recurrence": "monthly",
          "splitColumn": "IA_UPDATE_DT"
         },
         "Running",
         null,
         null,
         null,
         null
        ],
        [
         "A-A1-A101",
         59,
         "prod_hhobi.hhobi_in.IA_HP_CTO_ORDLN_COMPS",
         null,
         "SALES_ORDLN_KEY,COMPONENT_KEY",
         {
          "ColumnName": "IA_UPDATE_DT",
          "fetchsize": "100000",
          "tablesize": "huge"
         },
         "NA",
         [
          "IA_UPDATE_DT"
         ],
         "BIDW.IA_HP_CTO_ORDLN_COMPS",
         "NA",
         "",
         "incremental",
         "merge",
         {
          "ColumnName": "IA_UPDATE_DT",
          "Delta": "3",
          "cdcCondition": "(IA_UPDATE_DT>= to_date({}, 'YYYY-MM-DD HH24:MI:SS') or IA_INSERT_DT>= to_date({}, 'YYYY-MM-DD HH24:MI:SS'))"
         },
         "NA",
         {
          "ColumnName": "NA"
         },
         {
          "ColumnName": "NA"
         },
         "Y",
         "NA",
         "NA",
         "NA",
         "NA",
         "N",
         {
          "recurrence": "monthly",
          "splitColumn": "IA_UPDATE_DT"
         },
         "Completed",
         null,
         null,
         null,
         null
        ],
        [
         "A-A1-A101",
         57,
         "prod_hhobi.hhobi_in.IA_HP_CTO_COMPONENT",
         null,
         "COMPONENT_KEY",
         {
          "ColumnName": "IA_UPDATE_DT",
          "fetchsize": "100000",
          "tablesize": "huge"
         },
         "NA",
         [
          "IA_UPDATE_DT"
         ],
         "BIDW.IA_HP_CTO_COMPONENT",
         "NA",
         "",
         "incremental",
         "merge",
         {
          "ColumnName": "IA_UPDATE_DT",
          "Delta": "3",
          "cdcCondition": "(IA_UPDATE_DT>= to_date({}, 'YYYY-MM-DD HH24:MI:SS') or IA_INSERT_DT>= to_date({}, 'YYYY-MM-DD HH24:MI:SS'))"
         },
         "NA",
         {
          "ColumnName": "NA"
         },
         {
          "ColumnName": "NA"
         },
         "Y",
         "NA",
         "NA",
         "NA",
         "NA",
         "N",
         {
          "recurrence": "monthly",
          "splitColumn": "IA_UPDATE_DT"
         },
         "Completed",
         null,
         null,
         null,
         null
        ],
        [
         "A-A1-A101",
         55,
         "prod_hhobi.hhobi_in.IA_HP_CTO_CATEGORY",
         null,
         "NA",
         {
          "fetchsize": "100000",
          "tablesize": "small"
         },
         "NA",
         [
          "NA"
         ],
         "BIDW.IA_HP_CTO_CATEGORY",
         "NA",
         "",
         "Full Refresh",
         "overwrite",
         {
          "ColumnName": "IA_UPDATE_DT",
          "Delta": "3",
          "cdcCondition": "(IA_UPDATE_DT>= to_date({}, 'YYYY-MM-DD HH24:MI:SS') or IA_INSERT_DT>= to_date({}, 'YYYY-MM-DD HH24:MI:SS'))"
         },
         "NA",
         {
          "ColumnName": "NA"
         },
         {
          "ColumnName": "NA"
         },
         "Y",
         "NA",
         "NA",
         "NA",
         "NA",
         "N",
         {
          "recurrence": "monthly",
          "splitColumn": "IA_UPDATE_DT"
         },
         "Completed",
         null,
         null,
         null,
         null
        ]
       ],
       "datasetInfos": [
        {
         "name": "_sqldf",
         "schema": {
          "fields": [
           {
            "metadata": {},
            "name": "dataFlowFK",
            "nullable": true,
            "type": "string"
           },
           {
            "metadata": {},
            "name": "JobId",
            "nullable": true,
            "type": "integer"
           },
           {
            "metadata": {},
            "name": "targetTablename",
            "nullable": true,
            "type": "string"
           },
           {
            "metadata": {},
            "name": "loadDependency",
            "nullable": true,
            "type": "string"
           },
           {
            "metadata": {},
            "name": "primaryKey",
            "nullable": true,
            "type": "string"
           },
           {
            "metadata": {},
            "name": "tableProperties",
            "nullable": true,
            "type": {
             "keyType": "string",
             "type": "map",
             "valueContainsNull": true,
             "valueType": "string"
            }
           },
           {
            "metadata": {},
            "name": "tableSchema",
            "nullable": true,
            "type": "string"
           },
           {
            "metadata": {},
            "name": "partitionColumns",
            "nullable": true,
            "type": {
             "containsNull": true,
             "elementType": "string",
             "type": "array"
            }
           },
           {
            "metadata": {},
            "name": "SourceTableName",
            "nullable": true,
            "type": "string"
           },
           {
            "metadata": {},
            "name": "loadLogic",
            "nullable": true,
            "type": "string"
           },
           {
            "metadata": {},
            "name": "AdditionalConfiguration",
            "nullable": true,
            "type": "string"
           },
           {
            "metadata": {},
            "name": "loadType",
            "nullable": true,
            "type": "string"
           },
           {
            "metadata": {},
            "name": "cdcLogic",
            "nullable": true,
            "type": "string"
           },
           {
            "metadata": {},
            "name": "cdcConfiguration",
            "nullable": true,
            "type": {
             "keyType": "string",
             "type": "map",
             "valueContainsNull": true,
             "valueType": "string"
            }
           },
           {
            "metadata": {},
            "name": "DetokenizationToeknizationFlag",
            "nullable": true,
            "type": "string"
           },
           {
            "metadata": {},
            "name": "Tokenizationdetails",
            "nullable": true,
            "type": {
             "keyType": "string",
             "type": "map",
             "valueContainsNull": true,
             "valueType": "string"
            }
           },
           {
            "metadata": {},
            "name": "Detokenization_details",
            "nullable": true,
            "type": {
             "keyType": "string",
             "type": "map",
             "valueContainsNull": true,
             "valueType": "string"
            }
           },
           {
            "metadata": {},
            "name": "isActive",
            "nullable": true,
            "type": "string"
           },
           {
            "metadata": {},
            "name": "archivalPolicyDays",
            "nullable": true,
            "type": "string"
           },
           {
            "metadata": {},
            "name": "vacuumPolicy_Weeks",
            "nullable": true,
            "type": "string"
           },
           {
            "metadata": {},
            "name": "errorHandling",
            "nullable": true,
            "type": "string"
           },
           {
            "metadata": {},
            "name": "StatusTas",
            "nullable": true,
            "type": "string"
           },
           {
            "metadata": {},
            "name": "splitLoad",
            "nullable": true,
            "type": "string"
           },
           {
            "metadata": {},
            "name": "splitLoadConfigurations",
            "nullable": true,
            "type": {
             "keyType": "string",
             "type": "map",
             "valueContainsNull": true,
             "valueType": "string"
            }
           },
           {
            "metadata": {},
            "name": "status",
            "nullable": true,
            "type": "string"
           },
           {
            "metadata": {},
            "name": "volume_details",
            "nullable": true,
            "type": {
             "keyType": "string",
             "type": "map",
             "valueContainsNull": true,
             "valueType": "string"
            }
           },
           {
            "metadata": {},
            "name": "encrypted_col",
            "nullable": true,
            "type": "string"
           },
           {
            "metadata": {},
            "name": "native_encryption_flag",
            "nullable": true,
            "type": "string"
           },
           {
            "metadata": {},
            "name": "native_encryption_columns",
            "nullable": true,
            "type": "string"
           }
          ],
          "type": "struct"
         },
         "tableIdentifier": null,
         "typeStr": "pyspark.sql.connect.dataframe.DataFrame"
        }
       ],
       "dbfsResultPath": null,
       "isJsonSchema": true,
       "metadata": {
        "dataframeName": "_sqldf",
        "executionCount": 1
       },
       "overflow": false,
       "plotOptions": {
        "customPlotOptions": {},
        "displayType": "table",
        "pivotAggregation": null,
        "pivotColumns": null,
        "xColumns": null,
        "yColumns": null
       },
       "removedWidgets": [],
       "schema": [
        {
         "metadata": "{}",
         "name": "dataFlowFK",
         "type": "\"string\""
        },
        {
         "metadata": "{}",
         "name": "JobId",
         "type": "\"integer\""
        },
        {
         "metadata": "{}",
         "name": "targetTablename",
         "type": "\"string\""
        },
        {
         "metadata": "{}",
         "name": "loadDependency",
         "type": "\"string\""
        },
        {
         "metadata": "{}",
         "name": "primaryKey",
         "type": "\"string\""
        },
        {
         "metadata": "{}",
         "name": "tableProperties",
         "type": "{\"type\":\"map\",\"keyType\":\"string\",\"valueType\":\"string\",\"valueContainsNull\":true}"
        },
        {
         "metadata": "{}",
         "name": "tableSchema",
         "type": "\"string\""
        },
        {
         "metadata": "{}",
         "name": "partitionColumns",
         "type": "{\"type\":\"array\",\"elementType\":\"string\",\"containsNull\":true}"
        },
        {
         "metadata": "{}",
         "name": "SourceTableName",
         "type": "\"string\""
        },
        {
         "metadata": "{}",
         "name": "loadLogic",
         "type": "\"string\""
        },
        {
         "metadata": "{}",
         "name": "AdditionalConfiguration",
         "type": "\"string\""
        },
        {
         "metadata": "{}",
         "name": "loadType",
         "type": "\"string\""
        },
        {
         "metadata": "{}",
         "name": "cdcLogic",
         "type": "\"string\""
        },
        {
         "metadata": "{}",
         "name": "cdcConfiguration",
         "type": "{\"type\":\"map\",\"keyType\":\"string\",\"valueType\":\"string\",\"valueContainsNull\":true}"
        },
        {
         "metadata": "{}",
         "name": "DetokenizationToeknizationFlag",
         "type": "\"string\""
        },
        {
         "metadata": "{}",
         "name": "Tokenizationdetails",
         "type": "{\"type\":\"map\",\"keyType\":\"string\",\"valueType\":\"string\",\"valueContainsNull\":true}"
        },
        {
         "metadata": "{}",
         "name": "Detokenization_details",
         "type": "{\"type\":\"map\",\"keyType\":\"string\",\"valueType\":\"string\",\"valueContainsNull\":true}"
        },
        {
         "metadata": "{}",
         "name": "isActive",
         "type": "\"string\""
        },
        {
         "metadata": "{}",
         "name": "archivalPolicyDays",
         "type": "\"string\""
        },
        {
         "metadata": "{}",
         "name": "vacuumPolicy_Weeks",
         "type": "\"string\""
        },
        {
         "metadata": "{}",
         "name": "errorHandling",
         "type": "\"string\""
        },
        {
         "metadata": "{}",
         "name": "StatusTas",
         "type": "\"string\""
        },
        {
         "metadata": "{}",
         "name": "splitLoad",
         "type": "\"string\""
        },
        {
         "metadata": "{}",
         "name": "splitLoadConfigurations",
         "type": "{\"type\":\"map\",\"keyType\":\"string\",\"valueType\":\"string\",\"valueContainsNull\":true}"
        },
        {
         "metadata": "{}",
         "name": "status",
         "type": "\"string\""
        },
        {
         "metadata": "{}",
         "name": "volume_details",
         "type": "{\"type\":\"map\",\"keyType\":\"string\",\"valueType\":\"string\",\"valueContainsNull\":true}"
        },
        {
         "metadata": "{}",
         "name": "encrypted_col",
         "type": "\"string\""
        },
        {
         "metadata": "{}",
         "name": "native_encryption_flag",
         "type": "\"string\""
        },
        {
         "metadata": "{}",
         "name": "native_encryption_columns",
         "type": "\"string\""
        }
       ],
       "type": "table"
      }
     },
     "output_type": "display_data"
    }
   ],
   "source": [
    "%sql\n",
    "select * from prod_hhobi.hhobi_audit.ingestion_entities"
   ]
  },
  {
   "cell_type": "code",
   "execution_count": 0,
   "metadata": {
    "application/vnd.databricks.v1+cell": {
     "cellMetadata": {
      "byteLimit": 2048000,
      "implicitDf": true,
      "rowLimit": 10000
     },
     "inputWidgets": {},
     "nuid": "9433e4f5-9b37-404b-815a-ce7bba765cc2",
     "showTitle": false,
     "title": ""
    }
   },
   "outputs": [
    {
     "output_type": "display_data",
     "data": {
      "text/html": [
       "<style scoped>\n",
       "  .table-result-container {\n",
       "    max-height: 300px;\n",
       "    overflow: auto;\n",
       "  }\n",
       "  table, th, td {\n",
       "    border: 1px solid black;\n",
       "    border-collapse: collapse;\n",
       "  }\n",
       "  th, td {\n",
       "    padding: 5px;\n",
       "  }\n",
       "  th {\n",
       "    text-align: left;\n",
       "  }\n",
       "</style><div class='table-result-container'><table class='table-result'><thead style='background-color: white'><tr><th>createtab_stmt</th></tr></thead><tbody><tr><td>CREATE TABLE prod_hhobi.hhobi_audit.ingestion_entities (\n",
       "  dataFlowFK STRING,\n",
       "  JobId INT,\n",
       "  targetTablename STRING,\n",
       "  loadDependency STRING,\n",
       "  primaryKey STRING,\n",
       "  tableProperties MAP<STRING, STRING>,\n",
       "  tableSchema STRING,\n",
       "  partitionColumns ARRAY<STRING>,\n",
       "  SourceTableName STRING,\n",
       "  loadLogic STRING,\n",
       "  AdditionalConfiguration STRING,\n",
       "  loadType STRING,\n",
       "  cdcLogic STRING,\n",
       "  cdcConfiguration MAP<STRING, STRING>,\n",
       "  DetokenizationToeknizationFlag STRING,\n",
       "  Tokenizationdetails MAP<STRING, STRING>,\n",
       "  Detokenization_details MAP<STRING, STRING>,\n",
       "  isActive STRING,\n",
       "  archivalPolicyDays STRING,\n",
       "  vacuumPolicy_Weeks STRING,\n",
       "  errorHandling STRING,\n",
       "  StatusTas STRING,\n",
       "  splitLoad STRING,\n",
       "  splitLoadConfigurations MAP<STRING, STRING>,\n",
       "  status STRING,\n",
       "  volume_details MAP<STRING, STRING>,\n",
       "  encrypted_col STRING,\n",
       "  native_encryption_flag STRING,\n",
       "  native_encryption_columns STRING)\n",
       "USING delta\n",
       "TBLPROPERTIES (\n",
       "  'delta.columnMapping.mode' = 'name',\n",
       "  'delta.enableDeletionVectors' = 'true',\n",
       "  'delta.feature.columnMapping' = 'supported',\n",
       "  'delta.feature.deletionVectors' = 'supported',\n",
       "  'delta.minReaderVersion' = '3',\n",
       "  'delta.minWriterVersion' = '7')\n",
       "</td></tr></tbody></table></div>"
      ]
     },
     "metadata": {
      "application/vnd.databricks.v1+output": {
       "addedWidgets": {},
       "aggData": [],
       "aggError": "",
       "aggOverflow": false,
       "aggSchema": [],
       "aggSeriesLimitReached": false,
       "aggType": "",
       "arguments": {},
       "columnCustomDisplayInfos": {},
       "data": [
        [
         "CREATE TABLE prod_hhobi.hhobi_audit.ingestion_entities (\n  dataFlowFK STRING,\n  JobId INT,\n  targetTablename STRING,\n  loadDependency STRING,\n  primaryKey STRING,\n  tableProperties MAP<STRING, STRING>,\n  tableSchema STRING,\n  partitionColumns ARRAY<STRING>,\n  SourceTableName STRING,\n  loadLogic STRING,\n  AdditionalConfiguration STRING,\n  loadType STRING,\n  cdcLogic STRING,\n  cdcConfiguration MAP<STRING, STRING>,\n  DetokenizationToeknizationFlag STRING,\n  Tokenizationdetails MAP<STRING, STRING>,\n  Detokenization_details MAP<STRING, STRING>,\n  isActive STRING,\n  archivalPolicyDays STRING,\n  vacuumPolicy_Weeks STRING,\n  errorHandling STRING,\n  StatusTas STRING,\n  splitLoad STRING,\n  splitLoadConfigurations MAP<STRING, STRING>,\n  status STRING,\n  volume_details MAP<STRING, STRING>,\n  encrypted_col STRING,\n  native_encryption_flag STRING,\n  native_encryption_columns STRING)\nUSING delta\nTBLPROPERTIES (\n  'delta.columnMapping.mode' = 'name',\n  'delta.enableDeletionVectors' = 'true',\n  'delta.feature.columnMapping' = 'supported',\n  'delta.feature.deletionVectors' = 'supported',\n  'delta.minReaderVersion' = '3',\n  'delta.minWriterVersion' = '7')\n"
        ]
       ],
       "datasetInfos": [
        {
         "name": "_sqldf",
         "schema": {
          "fields": [
           {
            "metadata": {},
            "name": "createtab_stmt",
            "nullable": false,
            "type": "string"
           }
          ],
          "type": "struct"
         },
         "tableIdentifier": null,
         "typeStr": "pyspark.sql.connect.dataframe.DataFrame"
        }
       ],
       "dbfsResultPath": null,
       "isJsonSchema": true,
       "metadata": {
        "dataframeName": "_sqldf",
        "executionCount": 2
       },
       "overflow": false,
       "plotOptions": {
        "customPlotOptions": {},
        "displayType": "table",
        "pivotAggregation": null,
        "pivotColumns": null,
        "xColumns": null,
        "yColumns": null
       },
       "removedWidgets": [],
       "schema": [
        {
         "metadata": "{}",
         "name": "createtab_stmt",
         "type": "\"string\""
        }
       ],
       "type": "table"
      }
     },
     "output_type": "display_data"
    }
   ],
   "source": [
    "%sql\n",
    "show create table prod_hhobi.hhobi_audit.ingestion_entities"
   ]
  }
 ],
 "metadata": {
  "application/vnd.databricks.v1+notebook": {
   "dashboards": [],
   "environmentMetadata": {
    "base_environment": "",
    "client": "1"
   },
   "language": "python",
   "notebookMetadata": {
    "mostRecentlyExecutedCommandWithImplicitDF": {
     "commandId": 3452129185536449,
     "dataframes": [
      "_sqldf"
     ]
    },
    "pythonIndentUnit": 4
   },
   "notebookName": "tables_delete",
   "widgets": {}
  }
 },
 "nbformat": 4,
 "nbformat_minor": 0
}
